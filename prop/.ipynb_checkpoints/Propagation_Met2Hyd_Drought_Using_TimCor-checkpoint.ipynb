{
 "cells": [
  {
   "cell_type": "markdown",
   "id": "57f3fa7d-d129-4e81-b828-56e45609ce4b",
   "metadata": {},
   "source": [
    "# Propagation Meteorological to Hydrological Drought using Time Correlation\n",
    "\n",
    "The notebook explain on how to analyzing the propagation of **meteorological drought** (Standardized Precipitation Index - SPI) to **hydrological drought** (Standardized Streamflow Index - SSI) using **cross-correlation analysis** at the pixel level. It required two input netCDF files, SPI - generated from `Steps_to_Generate_SPI_Using_CHIRPS_Data.ipynb` and SSI - generated from `Steps_to_Generate_SSI_Using_GloFAS-ERA5_Data.ipynb`.\n",
    "\n",
    "As background, we have SPI and SSI data which has same temporal resolution (monthly) and cover the same period (1981-2022), also has same various time scale: `1`, `2`, `3`, `6`, `9`, `12`, `18`, `24`, `36`, `48`, `60` and `72-month`. \n"
   ]
  },
  {
   "cell_type": "markdown",
   "id": "4b10af3b-7509-42a9-a1a3-2c51d70253cd",
   "metadata": {},
   "source": [
    "We will utilise some tools, [NetCDF Operator](https://nco.sourceforge.net/) (NCO) is mainly used for data extraction, subsetting, and basic arithmetic operations on netCDF files. While it's extremely useful for many tasks, for cross-correlation specifically, [Climate Data Operator](https://code.mpimet.mpg.de/projects/cdo) (CDO)'s functions are more tailored. And also some python library like `xarray`, `geopandas`, `numpy`, and other necessary tools.\n",
    "\n",
    "It has two main process:\n",
    "\n",
    "1. **Lagged Correlation:** we will utilize the CDO `timcor` function which computes the lagged correlation between two fields. We can use this function to get the cross-correlation at different lags.\n",
    "\n",
    "2. **Extract Peak Values**: Once you've computed the cross-correlation for various lags, you'd want to extract the lag with the highest correlation (peak value) for each pixel."
   ]
  },
  {
   "cell_type": "code",
   "execution_count": null,
   "id": "2caa5db2-3b2e-4013-9617-20a563caddab",
   "metadata": {},
   "outputs": [],
   "source": []
  },
  {
   "cell_type": "code",
   "execution_count": null,
   "id": "59565b7b-1a5d-4f9c-8169-a3de9bff9029",
   "metadata": {},
   "outputs": [],
   "source": []
  },
  {
   "cell_type": "code",
   "execution_count": null,
   "id": "bf2c5544-176e-4dfa-9e53-e0be06e5cec5",
   "metadata": {},
   "outputs": [],
   "source": []
  },
  {
   "cell_type": "code",
   "execution_count": null,
   "id": "74158389-9190-4505-a56e-40596f8cebec",
   "metadata": {},
   "outputs": [],
   "source": []
  },
  {
   "cell_type": "code",
   "execution_count": null,
   "id": "e899216f-945e-4fbf-b166-3ab9ddbcd3d7",
   "metadata": {},
   "outputs": [],
   "source": []
  },
  {
   "cell_type": "code",
   "execution_count": null,
   "id": "8beb4876-51ff-49d6-a48b-0748d641a87a",
   "metadata": {},
   "outputs": [],
   "source": []
  },
  {
   "cell_type": "code",
   "execution_count": null,
   "id": "522644e5-89de-4a96-85db-120c942e0166",
   "metadata": {},
   "outputs": [],
   "source": []
  },
  {
   "cell_type": "code",
   "execution_count": null,
   "id": "6c62ac20-f9ee-452d-b4e1-71fb8746d1b2",
   "metadata": {},
   "outputs": [],
   "source": []
  },
  {
   "cell_type": "code",
   "execution_count": null,
   "id": "7233ec30-999a-4ddb-a773-4c881f7c4b5b",
   "metadata": {},
   "outputs": [],
   "source": []
  },
  {
   "cell_type": "code",
   "execution_count": null,
   "id": "9e729c62-1bcc-410c-9542-9abbaad1c8e2",
   "metadata": {},
   "outputs": [],
   "source": []
  },
  {
   "cell_type": "code",
   "execution_count": null,
   "id": "57e2d4cf-9a8a-4962-adc9-9409a3522ac0",
   "metadata": {},
   "outputs": [],
   "source": []
  },
  {
   "cell_type": "code",
   "execution_count": null,
   "id": "bac3b308-6db6-4346-ab6f-42b86876a826",
   "metadata": {},
   "outputs": [],
   "source": []
  },
  {
   "cell_type": "code",
   "execution_count": null,
   "id": "6a6030e8-d9c5-4be9-b515-aaf779a026ce",
   "metadata": {},
   "outputs": [],
   "source": []
  }
 ],
 "metadata": {
  "kernelspec": {
   "display_name": "Python 3 (ipykernel)",
   "language": "python",
   "name": "python3"
  },
  "language_info": {
   "codemirror_mode": {
    "name": "ipython",
    "version": 3
   },
   "file_extension": ".py",
   "mimetype": "text/x-python",
   "name": "python",
   "nbconvert_exporter": "python",
   "pygments_lexer": "ipython3",
   "version": "3.10.12"
  }
 },
 "nbformat": 4,
 "nbformat_minor": 5
}
