{
 "cells": [
  {
   "cell_type": "markdown",
   "id": "f1618637-3744-4526-8b3a-3754809a43de",
   "metadata": {},
   "source": [
    "# Steps to Generate Standardized Streamflow Index Using GloFAS-ERA5 Data\n",
    "\n",
    "To generate the **Standardized Streamflow Index** ([SSI](https://doi.org/10.1029/2019WR026315)) - as proxy for hydrological drought, we will use daily gridded **River discharge in the last 24 hours** from GloFAS-ERA5 operational global river discharge reanalysis 1979–present (paper: [https://doi.org/10.5194/essd-12-2043-2020](https://doi.org/10.5194/essd-12-2043-2020)) as a proxy for the streamflow time series infomation. \n",
    "\n",
    "The data it self are available for download from the [https://cds.climate.copernicus.eu/cdsapp#!/dataset/cems-glofas-historical?tab=overview](https://cds.climate.copernicus.eu/cdsapp#!/dataset/cems-glofas-historical?tab=overview)\n",
    "\n",
    "Let's assume we are working in the `python` or `conda` environment, with packages installed: `nco`, `cdo`, `gdal`, `numpy`, `xarray`, `climate-indices` and probably other necessary packages."
   ]
  },
  {
   "cell_type": "markdown",
   "id": "94eb36af-821c-45f0-a454-e60d2c50a1df",
   "metadata": {},
   "source": [
    "## 0. Working Directory\n",
    "\n",
    "For this exercise, I am working on these folder `/Temp/drought/hyd/` (applied to Mac/Linux machine) or `Z:/Temp/drought/hyd/` (applied to Windows machine) directory. I have some folder inside this directory:\n",
    "\n",
    "1. `00_downloads` # Place to put downloaded gridded river discharge data.\n",
    "2. `01_nc4` # As the downloaded files in `*.grib` format, we'll need to convert it into `*.nc4` format and put in this folder.\n",
    "3. `02_shifted` # Place to put nc files from shifting the time into 1 day.\n",
    "4. `03_regrid` # Place to put nc files from fill the null value near the coastline by interpolating from nearest grid process, matched the grid with the subset, and remove the value over the sea.\n",
    "5. `04_monthly` # Place to put nc file on unit conversion from `m3 s-1` to `mm` process, and calculate monthly accumulation.\n",
    "6. `05_single_nc` # Contain single nc file from merge process.\n",
    "7. `06_metadata_revision` # Revises nc file from metadata editing before the SSI calculation.\n",
    "8. `07_ssi_intermediate` # Output from SSI calculation goes here.\n",
    "9. `08_ssi` # Final SSI output that is CF-Compliant.\n",
    "10. `images` # In this folder I put some screenshot file as illustration, used in this notebook.\n",
    "\n",
    "Feel free to use your own preferences for this setting/folder arrangements.\n",
    "\n",
    "This step-by-step guide was tested using Windows 11 with WSL2 - Ubuntu 22 enabled running on Thinkpad T480 2019, i7-8650U 1.9GHz, 64 GB 2400 MHz DDR4."
   ]
  },
  {
   "cell_type": "markdown",
   "id": "199fad7d-c891-4f43-8a8d-ff39279c2ed6",
   "metadata": {},
   "source": [
    "## 1. Download the data"
   ]
  },
  {
   "cell_type": "markdown",
   "id": "80c6e589-3ade-4ab5-a338-6441f9b143ea",
   "metadata": {},
   "source": [
    "Navigate to `00_downloads` folder"
   ]
  },
  {
   "cell_type": "code",
   "execution_count": 1,
   "id": "f27fb996-d654-45b4-adce-c1d4d8e42d40",
   "metadata": {},
   "outputs": [
    {
     "name": "stdout",
     "output_type": "stream",
     "text": [
      "/Volumes/Datenspeicherung/Temp/drought/hyd/00_downloads\n"
     ]
    }
   ],
   "source": [
    "%cd ./hyd/00_downloads"
   ]
  },
  {
   "cell_type": "markdown",
   "id": "771e3798-fd58-490f-80b6-008eef7de6d8",
   "metadata": {},
   "source": [
    "Then execute below code to download the data. Make sure you are registered to the [CDS](https://cds.climate.copernicus.eu/cdsapp#!/home), and have an UID:ApiKey (you can find this in your profile)"
   ]
  },
  {
   "cell_type": "code",
   "execution_count": 10,
   "id": "755d5c66-4e46-43f3-a612-6c527ff384bf",
   "metadata": {
    "scrolled": true
   },
   "outputs": [
    {
     "name": "stderr",
     "output_type": "stream",
     "text": [
      "2023-11-30 12:50:34,298 INFO Welcome to the CDS\n",
      "2023-11-30 12:50:34,299 INFO Sending request to https://cds.climate.copernicus.eu/api/v2/resources/cems-glofas-historical\n",
      "2023-11-30 12:50:34,566 INFO Request is queued\n",
      "2023-11-30 12:50:35,764 INFO Request is running\n",
      "2023-11-30 12:51:25,412 INFO Request is completed\n",
      "2023-11-30 12:51:25,413 INFO Downloading https://download-0017.copernicus-climate.eu/cache-compute-0017/cache/data3/adaptor.mars.external-1701323434.7039516-17706-2-4c1fee05-6a6d-47e4-9f41-cdee76272e4f.grib to idn_cli_era5_riverdischarge_1981.grib (31.2M)\n",
      "2023-11-30 12:51:30,877 INFO Download rate 5.7M/s                                                                               \n",
      "2023-11-30 12:51:31,268 INFO Welcome to the CDS\n",
      "2023-11-30 12:51:31,269 INFO Sending request to https://cds.climate.copernicus.eu/api/v2/resources/cems-glofas-historical\n"
     ]
    },
    {
     "name": "stdout",
     "output_type": "stream",
     "text": [
      "idn_cli_era5_riverdischarge_1981.grib downloaded.\n"
     ]
    },
    {
     "name": "stderr",
     "output_type": "stream",
     "text": [
      "2023-11-30 12:51:31,543 INFO Request is queued\n",
      "2023-11-30 12:51:32,746 INFO Request is running\n",
      "2023-11-30 12:52:48,211 INFO Request is completed\n",
      "2023-11-30 12:52:48,212 INFO Downloading https://download-0005-clone.copernicus-climate.eu/cache-compute-0005/cache/data3/adaptor.mars.external-1701323491.7087302-7252-12-9a852f0d-7521-4f51-9296-9f865cbdd685.grib to idn_cli_era5_riverdischarge_1982.grib (31.2M)\n",
      "2023-11-30 12:53:43,013 INFO Download rate 583.1K/s                                                                             \n",
      "2023-11-30 12:53:43,407 INFO Welcome to the CDS\n",
      "2023-11-30 12:53:43,408 INFO Sending request to https://cds.climate.copernicus.eu/api/v2/resources/cems-glofas-historical\n"
     ]
    },
    {
     "name": "stdout",
     "output_type": "stream",
     "text": [
      "idn_cli_era5_riverdischarge_1982.grib downloaded.\n"
     ]
    },
    {
     "name": "stderr",
     "output_type": "stream",
     "text": [
      "2023-11-30 12:53:43,684 INFO Request is queued\n",
      "2023-11-30 12:53:44,880 INFO Request is running\n",
      "2023-11-30 12:55:00,380 INFO Request is completed\n",
      "2023-11-30 12:55:00,381 INFO Downloading https://download-0011-clone.copernicus-climate.eu/cache-compute-0011/cache/data3/adaptor.mars.external-1701323623.976512-27701-6-517712a3-72fa-4f6d-a589-a2e14bd0bd77.grib to idn_cli_era5_riverdischarge_1983.grib (31.2M)\n",
      "2023-11-30 12:56:09,822 INFO Download rate 460.1K/s                                                                             \n",
      "2023-11-30 12:56:10,792 INFO Welcome to the CDS\n",
      "2023-11-30 12:56:10,793 INFO Sending request to https://cds.climate.copernicus.eu/api/v2/resources/cems-glofas-historical\n"
     ]
    },
    {
     "name": "stdout",
     "output_type": "stream",
     "text": [
      "idn_cli_era5_riverdischarge_1983.grib downloaded.\n"
     ]
    },
    {
     "name": "stderr",
     "output_type": "stream",
     "text": [
      "2023-11-30 12:56:11,015 INFO Request is queued\n",
      "2023-11-30 12:56:12,210 INFO Request is running\n",
      "2023-11-30 12:57:27,629 INFO Request is completed\n",
      "2023-11-30 12:57:27,630 INFO Downloading https://download-0018.copernicus-climate.eu/cache-compute-0018/cache/data1/adaptor.mars.external-1701323771.2619767-22137-14-4c256afb-e299-4a64-9352-c9afe791b651.grib to idn_cli_era5_riverdischarge_1984.grib (31.3M)\n",
      "2023-11-30 12:59:10,912 INFO Download rate 310.2K/s                                                                             \n",
      "2023-11-30 12:59:11,946 INFO Welcome to the CDS\n"
     ]
    },
    {
     "name": "stdout",
     "output_type": "stream",
     "text": [
      "idn_cli_era5_riverdischarge_1984.grib downloaded.\n"
     ]
    },
    {
     "name": "stderr",
     "output_type": "stream",
     "text": [
      "2023-11-30 12:59:11,947 INFO Sending request to https://cds.climate.copernicus.eu/api/v2/resources/cems-glofas-historical\n",
      "2023-11-30 12:59:12,186 INFO Request is queued\n",
      "2023-11-30 12:59:13,373 INFO Request is running\n",
      "2023-11-30 13:00:28,756 INFO Request is completed\n",
      "2023-11-30 13:00:28,757 INFO Downloading https://download-0005-clone.copernicus-climate.eu/cache-compute-0005/cache/data3/adaptor.mars.external-1701323952.398372-15620-12-fb29c100-8930-4cda-b589-cdce4e26400c.grib to idn_cli_era5_riverdischarge_1985.grib (31.2M)\n",
      "2023-11-30 13:00:50,997 INFO Download rate 1.4M/s                                                                               \n",
      "2023-11-30 13:00:51,367 INFO Welcome to the CDS\n",
      "2023-11-30 13:00:51,368 INFO Sending request to https://cds.climate.copernicus.eu/api/v2/resources/cems-glofas-historical\n"
     ]
    },
    {
     "name": "stdout",
     "output_type": "stream",
     "text": [
      "idn_cli_era5_riverdischarge_1985.grib downloaded.\n"
     ]
    },
    {
     "name": "stderr",
     "output_type": "stream",
     "text": [
      "2023-11-30 13:00:51,599 INFO Request is queued\n",
      "2023-11-30 13:00:52,786 INFO Request is running\n",
      "2023-11-30 13:02:08,162 INFO Request is completed\n",
      "2023-11-30 13:02:08,163 INFO Downloading https://download-0003-clone.copernicus-climate.eu/cache-compute-0003/cache/data2/adaptor.mars.external-1701324052.6162405-30488-5-76b85a95-b8c5-4725-bc03-44d8680e43c3.grib to idn_cli_era5_riverdischarge_1986.grib (31.2M)\n",
      "2023-11-30 13:02:15,972 INFO Download rate 4M/s                                                                                 \n",
      "2023-11-30 13:02:16,344 INFO Welcome to the CDS\n",
      "2023-11-30 13:02:16,344 INFO Sending request to https://cds.climate.copernicus.eu/api/v2/resources/cems-glofas-historical\n"
     ]
    },
    {
     "name": "stdout",
     "output_type": "stream",
     "text": [
      "idn_cli_era5_riverdischarge_1986.grib downloaded.\n"
     ]
    },
    {
     "name": "stderr",
     "output_type": "stream",
     "text": [
      "2023-11-30 13:02:16,560 INFO Request is queued\n",
      "2023-11-30 13:02:17,747 INFO Request is running\n",
      "2023-11-30 13:03:33,131 INFO Request is completed\n",
      "2023-11-30 13:03:33,132 INFO Downloading https://download-0004-clone.copernicus-climate.eu/cache-compute-0004/cache/data3/adaptor.mars.external-1701324136.8192842-24961-8-4e15fe36-f573-4ee8-87ea-0c2cfd845960.grib to idn_cli_era5_riverdischarge_1987.grib (31.2M)\n",
      "2023-11-30 13:03:38,854 INFO Download rate 5.5M/s                                                                               \n",
      "2023-11-30 13:03:39,225 INFO Welcome to the CDS\n",
      "2023-11-30 13:03:39,226 INFO Sending request to https://cds.climate.copernicus.eu/api/v2/resources/cems-glofas-historical\n"
     ]
    },
    {
     "name": "stdout",
     "output_type": "stream",
     "text": [
      "idn_cli_era5_riverdischarge_1987.grib downloaded.\n"
     ]
    },
    {
     "name": "stderr",
     "output_type": "stream",
     "text": [
      "2023-11-30 13:03:39,437 INFO Request is queued\n",
      "2023-11-30 13:03:40,628 INFO Request is running\n",
      "2023-11-30 13:04:30,214 INFO Request is completed\n",
      "2023-11-30 13:04:30,215 INFO Downloading https://download-0010-clone.copernicus-climate.eu/cache-compute-0010/cache/data5/adaptor.mars.external-1701324219.6358535-4007-4-6e01044e-b6d0-4f4c-95c6-be40581b2099.grib to idn_cli_era5_riverdischarge_1988.grib (31.3M)\n",
      "2023-11-30 13:04:37,325 INFO Download rate 4.4M/s                                                                               \n",
      "2023-11-30 13:04:37,697 INFO Welcome to the CDS\n",
      "2023-11-30 13:04:37,698 INFO Sending request to https://cds.climate.copernicus.eu/api/v2/resources/cems-glofas-historical\n"
     ]
    },
    {
     "name": "stdout",
     "output_type": "stream",
     "text": [
      "idn_cli_era5_riverdischarge_1988.grib downloaded.\n"
     ]
    },
    {
     "name": "stderr",
     "output_type": "stream",
     "text": [
      "2023-11-30 13:04:37,911 INFO Request is queued\n",
      "2023-11-30 13:04:39,102 INFO Request is running\n",
      "2023-11-30 13:05:28,683 INFO Request is completed\n",
      "2023-11-30 13:05:28,684 INFO Downloading https://download-0012-clone.copernicus-climate.eu/cache-compute-0012/cache/data4/adaptor.mars.external-1701324278.097328-2567-9-ef2c23ad-3003-4775-bf5a-d3b6deac7dc6.grib to idn_cli_era5_riverdischarge_1989.grib (31.2M)\n",
      "2023-11-30 13:05:34,238 INFO Download rate 5.6M/s                                                                               \n",
      "2023-11-30 13:05:34,610 INFO Welcome to the CDS\n",
      "2023-11-30 13:05:34,611 INFO Sending request to https://cds.climate.copernicus.eu/api/v2/resources/cems-glofas-historical\n"
     ]
    },
    {
     "name": "stdout",
     "output_type": "stream",
     "text": [
      "idn_cli_era5_riverdischarge_1989.grib downloaded.\n"
     ]
    },
    {
     "name": "stderr",
     "output_type": "stream",
     "text": [
      "2023-11-30 13:05:34,834 INFO Request is queued\n",
      "2023-11-30 13:05:36,025 INFO Request is running\n",
      "2023-11-30 13:06:51,418 INFO Request is completed\n",
      "2023-11-30 13:06:51,419 INFO Downloading https://download-0010-clone.copernicus-climate.eu/cache-compute-0010/cache/data5/adaptor.mars.external-1701324335.01892-5027-5-b917cbfd-ba42-4474-a580-4e399219bf9d.grib to idn_cli_era5_riverdischarge_1990.grib (31.2M)\n",
      "2023-11-30 13:07:23,879 INFO Download rate 984.4K/s                                                                             \n",
      "2023-11-30 13:07:24,251 INFO Welcome to the CDS\n",
      "2023-11-30 13:07:24,252 INFO Sending request to https://cds.climate.copernicus.eu/api/v2/resources/cems-glofas-historical\n"
     ]
    },
    {
     "name": "stdout",
     "output_type": "stream",
     "text": [
      "idn_cli_era5_riverdischarge_1990.grib downloaded.\n"
     ]
    },
    {
     "name": "stderr",
     "output_type": "stream",
     "text": [
      "2023-11-30 13:07:24,467 INFO Request is queued\n",
      "2023-11-30 13:07:25,655 INFO Request is running\n",
      "2023-11-30 13:08:41,047 INFO Request is completed\n",
      "2023-11-30 13:08:41,048 INFO Downloading https://download-0013-clone.copernicus-climate.eu/cache-compute-0013/cache/data1/adaptor.mars.external-1701324444.8612409-4989-9-0c573de2-be6b-4432-bec2-b6a452bdb27e.grib to idn_cli_era5_riverdischarge_1991.grib (31.2M)\n",
      "2023-11-30 13:09:28,866 INFO Download rate 668.2K/s                                                                             \n",
      "2023-11-30 13:09:29,238 INFO Welcome to the CDS\n",
      "2023-11-30 13:09:29,238 INFO Sending request to https://cds.climate.copernicus.eu/api/v2/resources/cems-glofas-historical\n"
     ]
    },
    {
     "name": "stdout",
     "output_type": "stream",
     "text": [
      "idn_cli_era5_riverdischarge_1991.grib downloaded.\n"
     ]
    },
    {
     "name": "stderr",
     "output_type": "stream",
     "text": [
      "2023-11-30 13:09:29,441 INFO Request is queued\n",
      "2023-11-30 13:09:30,631 INFO Request is running\n",
      "2023-11-30 13:10:46,051 INFO Request is completed\n",
      "2023-11-30 13:10:46,052 INFO Downloading https://download-0019.copernicus-climate.eu/cache-compute-0019/cache/data7/adaptor.mars.external-1701324569.708631-32679-6-a117ef14-d9c9-4974-b90a-b22f7f57e550.grib to idn_cli_era5_riverdischarge_1992.grib (31.3M)\n",
      "2023-11-30 13:11:16,151 INFO Download rate 1M/s                                                                                 \n",
      "2023-11-30 13:11:16,527 INFO Welcome to the CDS\n",
      "2023-11-30 13:11:16,527 INFO Sending request to https://cds.climate.copernicus.eu/api/v2/resources/cems-glofas-historical\n"
     ]
    },
    {
     "name": "stdout",
     "output_type": "stream",
     "text": [
      "idn_cli_era5_riverdischarge_1992.grib downloaded.\n"
     ]
    },
    {
     "name": "stderr",
     "output_type": "stream",
     "text": [
      "2023-11-30 13:11:16,739 INFO Request is queued\n",
      "2023-11-30 13:11:17,929 INFO Request is running\n",
      "2023-11-30 13:12:33,916 INFO Request is completed\n",
      "2023-11-30 13:12:33,917 INFO Downloading https://download-0016.copernicus-climate.eu/cache-compute-0016/cache/data4/adaptor.mars.external-1701324677.0068746-31656-11-ae191859-1f70-4f21-bd64-4052b5754074.grib to idn_cli_era5_riverdischarge_1993.grib (31.2M)\n",
      "2023-11-30 13:13:15,493 INFO Download rate 768.5K/s                                                                             \n",
      "2023-11-30 13:13:15,891 INFO Welcome to the CDS\n",
      "2023-11-30 13:13:15,892 INFO Sending request to https://cds.climate.copernicus.eu/api/v2/resources/cems-glofas-historical\n"
     ]
    },
    {
     "name": "stdout",
     "output_type": "stream",
     "text": [
      "idn_cli_era5_riverdischarge_1993.grib downloaded.\n"
     ]
    },
    {
     "name": "stderr",
     "output_type": "stream",
     "text": [
      "2023-11-30 13:13:16,127 INFO Request is queued\n",
      "2023-11-30 13:13:17,317 INFO Request is running\n",
      "2023-11-30 13:14:06,908 INFO Request is completed\n",
      "2023-11-30 13:14:06,909 INFO Downloading https://download-0013-clone.copernicus-climate.eu/cache-compute-0013/cache/data2/adaptor.mars.external-1701324796.5511801-6762-13-82cd9245-420d-40b2-8a3d-6edfeca572d1.grib to idn_cli_era5_riverdischarge_1994.grib (31.2M)\n",
      "2023-11-30 13:14:12,555 INFO Download rate 5.5M/s                                                                               \n",
      "2023-11-30 13:14:12,932 INFO Welcome to the CDS\n",
      "2023-11-30 13:14:12,933 INFO Sending request to https://cds.climate.copernicus.eu/api/v2/resources/cems-glofas-historical\n"
     ]
    },
    {
     "name": "stdout",
     "output_type": "stream",
     "text": [
      "idn_cli_era5_riverdischarge_1994.grib downloaded.\n"
     ]
    },
    {
     "name": "stderr",
     "output_type": "stream",
     "text": [
      "2023-11-30 13:14:13,160 INFO Request is queued\n",
      "2023-11-30 13:14:14,351 INFO Request is running\n",
      "2023-11-30 13:15:29,761 INFO Request is completed\n",
      "2023-11-30 13:15:29,762 INFO Downloading https://download-0000-clone.copernicus-climate.eu/cache-compute-0000/cache/data8/adaptor.mars.external-1701324853.3992224-32103-12-24dce134-48d7-4589-a3a0-5e6b1687e4ad.grib to idn_cli_era5_riverdischarge_1995.grib (31.2M)\n",
      "2023-11-30 13:16:18,896 INFO Download rate 650.3K/s                                                                             \n",
      "2023-11-30 13:16:19,272 INFO Welcome to the CDS\n",
      "2023-11-30 13:16:19,273 INFO Sending request to https://cds.climate.copernicus.eu/api/v2/resources/cems-glofas-historical\n"
     ]
    },
    {
     "name": "stdout",
     "output_type": "stream",
     "text": [
      "idn_cli_era5_riverdischarge_1995.grib downloaded.\n"
     ]
    },
    {
     "name": "stderr",
     "output_type": "stream",
     "text": [
      "2023-11-30 13:16:19,499 INFO Request is queued\n",
      "2023-11-30 13:16:20,690 INFO Request is running\n",
      "2023-11-30 13:17:10,274 INFO Request is completed\n",
      "2023-11-30 13:17:10,275 INFO Downloading https://download-0014-clone.copernicus-climate.eu/cache-compute-0014/cache/data4/adaptor.mars.external-1701324979.8943677-21353-1-aab444c8-fc5a-4595-9996-1e65657e89fd.grib to idn_cli_era5_riverdischarge_1996.grib (31.3M)\n",
      "2023-11-30 13:17:16,330 INFO Download rate 5.2M/s                                                                               \n",
      "2023-11-30 13:17:16,708 INFO Welcome to the CDS\n",
      "2023-11-30 13:17:16,709 INFO Sending request to https://cds.climate.copernicus.eu/api/v2/resources/cems-glofas-historical\n"
     ]
    },
    {
     "name": "stdout",
     "output_type": "stream",
     "text": [
      "idn_cli_era5_riverdischarge_1996.grib downloaded.\n"
     ]
    },
    {
     "name": "stderr",
     "output_type": "stream",
     "text": [
      "2023-11-30 13:17:16,921 INFO Request is queued\n",
      "2023-11-30 13:17:18,111 INFO Request is running\n",
      "2023-11-30 13:18:33,530 INFO Request is completed\n",
      "2023-11-30 13:18:33,531 INFO Downloading https://download-0018.copernicus-climate.eu/cache-compute-0018/cache/data4/adaptor.mars.external-1701325037.152625-6434-2-b5bbca3d-4463-4dbe-8bed-7abe0719c392.grib to idn_cli_era5_riverdischarge_1997.grib (31.2M)\n",
      "2023-11-30 13:19:53,714 INFO Download rate 398.5K/s                                                                             \n",
      "2023-11-30 13:19:54,629 INFO Welcome to the CDS\n",
      "2023-11-30 13:19:54,630 INFO Sending request to https://cds.climate.copernicus.eu/api/v2/resources/cems-glofas-historical\n"
     ]
    },
    {
     "name": "stdout",
     "output_type": "stream",
     "text": [
      "idn_cli_era5_riverdischarge_1997.grib downloaded.\n"
     ]
    },
    {
     "name": "stderr",
     "output_type": "stream",
     "text": [
      "2023-11-30 13:19:54,863 INFO Request is queued\n",
      "2023-11-30 13:19:56,049 INFO Request is running\n",
      "2023-11-30 13:20:45,604 INFO Request is completed\n",
      "2023-11-30 13:20:45,605 INFO Downloading https://download-0007-clone.copernicus-climate.eu/cache-compute-0007/cache/data7/adaptor.mars.external-1701325195.140783-6686-6-38b96935-e231-4d94-a16b-e66e81144f05.grib to idn_cli_era5_riverdischarge_1998.grib (31.2M)\n",
      "2023-11-30 13:21:20,661 INFO Download rate 911.5K/s                                                                             \n",
      "2023-11-30 13:21:21,023 INFO Welcome to the CDS\n",
      "2023-11-30 13:21:21,024 INFO Sending request to https://cds.climate.copernicus.eu/api/v2/resources/cems-glofas-historical\n"
     ]
    },
    {
     "name": "stdout",
     "output_type": "stream",
     "text": [
      "idn_cli_era5_riverdischarge_1998.grib downloaded.\n"
     ]
    },
    {
     "name": "stderr",
     "output_type": "stream",
     "text": [
      "2023-11-30 13:21:21,234 INFO Request is queued\n",
      "2023-11-30 13:21:22,416 INFO Request is running\n",
      "2023-11-30 13:22:37,766 INFO Request is completed\n",
      "2023-11-30 13:22:37,767 INFO Downloading https://download-0016.copernicus-climate.eu/cache-compute-0016/cache/data4/adaptor.mars.external-1701325281.6294858-32114-11-2a18c31d-ba24-4bf1-95a2-12655a094481.grib to idn_cli_era5_riverdischarge_1999.grib (31.2M)\n",
      "2023-11-30 13:23:04,507 INFO Download rate 1.2M/s                                                                               \n",
      "2023-11-30 13:23:04,867 INFO Welcome to the CDS\n",
      "2023-11-30 13:23:04,868 INFO Sending request to https://cds.climate.copernicus.eu/api/v2/resources/cems-glofas-historical\n"
     ]
    },
    {
     "name": "stdout",
     "output_type": "stream",
     "text": [
      "idn_cli_era5_riverdischarge_1999.grib downloaded.\n"
     ]
    },
    {
     "name": "stderr",
     "output_type": "stream",
     "text": [
      "2023-11-30 13:23:05,098 INFO Request is queued\n",
      "2023-11-30 13:23:06,282 INFO Request is running\n",
      "2023-11-30 13:24:21,620 INFO Request is completed\n",
      "2023-11-30 13:24:21,621 INFO Downloading https://download-0007-clone.copernicus-climate.eu/cache-compute-0007/cache/data2/adaptor.mars.external-1701325385.5981681-4102-19-14f1e62c-c9a5-4bd6-8277-d4efe762b833.grib to idn_cli_era5_riverdischarge_2000.grib (31.3M)\n",
      "2023-11-30 13:24:27,825 INFO Download rate 5M/s                                                                                 \n",
      "2023-11-30 13:24:28,217 INFO Welcome to the CDS\n",
      "2023-11-30 13:24:28,218 INFO Sending request to https://cds.climate.copernicus.eu/api/v2/resources/cems-glofas-historical\n"
     ]
    },
    {
     "name": "stdout",
     "output_type": "stream",
     "text": [
      "idn_cli_era5_riverdischarge_2000.grib downloaded.\n"
     ]
    },
    {
     "name": "stderr",
     "output_type": "stream",
     "text": [
      "2023-11-30 13:24:28,431 INFO Request is queued\n",
      "2023-11-30 13:24:29,616 INFO Request is running\n",
      "2023-11-30 13:25:44,968 INFO Request is completed\n",
      "2023-11-30 13:25:44,968 INFO Downloading https://download-0015-clone.copernicus-climate.eu/cache-compute-0015/cache/data0/adaptor.mars.external-1701325468.7090218-19545-17-ae1f2b85-c08e-4021-af48-9d3d7370fd8b.grib to idn_cli_era5_riverdischarge_2001.grib (31.2M)\n",
      "2023-11-30 13:26:16,344 INFO Download rate 1018.4K/s                                                                            \n",
      "2023-11-30 13:26:16,703 INFO Welcome to the CDS\n",
      "2023-11-30 13:26:16,704 INFO Sending request to https://cds.climate.copernicus.eu/api/v2/resources/cems-glofas-historical\n"
     ]
    },
    {
     "name": "stdout",
     "output_type": "stream",
     "text": [
      "idn_cli_era5_riverdischarge_2001.grib downloaded.\n"
     ]
    },
    {
     "name": "stderr",
     "output_type": "stream",
     "text": [
      "2023-11-30 13:26:16,930 INFO Request is queued\n",
      "2023-11-30 13:26:18,113 INFO Request is running\n",
      "2023-11-30 13:27:07,639 INFO Request is completed\n",
      "2023-11-30 13:27:07,640 INFO Downloading https://download-0005-clone.copernicus-climate.eu/cache-compute-0005/cache/data9/adaptor.mars.external-1701325577.2478259-24635-10-0205f56b-00f4-445f-b32d-b8f44ad33a0a.grib to idn_cli_era5_riverdischarge_2002.grib (31.2M)\n",
      "2023-11-30 13:27:13,426 INFO Download rate 5.4M/s                                                                               \n",
      "2023-11-30 13:27:13,785 INFO Welcome to the CDS\n",
      "2023-11-30 13:27:13,786 INFO Sending request to https://cds.climate.copernicus.eu/api/v2/resources/cems-glofas-historical\n"
     ]
    },
    {
     "name": "stdout",
     "output_type": "stream",
     "text": [
      "idn_cli_era5_riverdischarge_2002.grib downloaded.\n"
     ]
    },
    {
     "name": "stderr",
     "output_type": "stream",
     "text": [
      "2023-11-30 13:27:14,044 INFO Request is queued\n",
      "2023-11-30 13:27:15,227 INFO Request is running\n",
      "2023-11-30 13:28:30,565 INFO Request is completed\n",
      "2023-11-30 13:28:30,566 INFO Downloading https://download-0002-clone.copernicus-climate.eu/cache-compute-0002/cache/data8/adaptor.mars.external-1701325634.4885843-5828-1-3277977f-92dd-42f4-9f78-1c2c88dfafd3.grib to idn_cli_era5_riverdischarge_2003.grib (31.2M)\n",
      "2023-11-30 13:29:05,190 INFO Download rate 922.8K/s                                                                             \n",
      "2023-11-30 13:29:05,552 INFO Welcome to the CDS\n",
      "2023-11-30 13:29:05,553 INFO Sending request to https://cds.climate.copernicus.eu/api/v2/resources/cems-glofas-historical\n"
     ]
    },
    {
     "name": "stdout",
     "output_type": "stream",
     "text": [
      "idn_cli_era5_riverdischarge_2003.grib downloaded.\n"
     ]
    },
    {
     "name": "stderr",
     "output_type": "stream",
     "text": [
      "2023-11-30 13:29:05,795 INFO Request is queued\n",
      "2023-11-30 13:29:06,976 INFO Request is running\n",
      "2023-11-30 13:30:22,337 INFO Request is completed\n",
      "2023-11-30 13:30:22,338 INFO Downloading https://download-0008-clone.copernicus-climate.eu/cache-compute-0008/cache/data4/adaptor.mars.external-1701325746.3043451-26486-10-36589057-5156-460d-ac37-1ca613b23b58.grib to idn_cli_era5_riverdischarge_2004.grib (31.3M)\n",
      "2023-11-30 13:30:45,829 INFO Download rate 1.3M/s                                                                               \n",
      "2023-11-30 13:30:46,188 INFO Welcome to the CDS\n",
      "2023-11-30 13:30:46,189 INFO Sending request to https://cds.climate.copernicus.eu/api/v2/resources/cems-glofas-historical\n"
     ]
    },
    {
     "name": "stdout",
     "output_type": "stream",
     "text": [
      "idn_cli_era5_riverdischarge_2004.grib downloaded.\n"
     ]
    },
    {
     "name": "stderr",
     "output_type": "stream",
     "text": [
      "2023-11-30 13:30:46,423 INFO Request is queued\n",
      "2023-11-30 13:30:47,608 INFO Request is running\n",
      "2023-11-30 13:31:37,150 INFO Request is completed\n",
      "2023-11-30 13:31:37,151 INFO Downloading https://download-0011-clone.copernicus-climate.eu/cache-compute-0011/cache/data5/adaptor.mars.external-1701325846.8179824-19374-15-f2175b5f-8133-4aaa-a4a9-74d77a7651ce.grib to idn_cli_era5_riverdischarge_2005.grib (31.2M)\n",
      "2023-11-30 13:31:42,662 INFO Download rate 5.7M/s                                                                               \n",
      "2023-11-30 13:31:43,022 INFO Welcome to the CDS\n",
      "2023-11-30 13:31:43,022 INFO Sending request to https://cds.climate.copernicus.eu/api/v2/resources/cems-glofas-historical\n"
     ]
    },
    {
     "name": "stdout",
     "output_type": "stream",
     "text": [
      "idn_cli_era5_riverdischarge_2005.grib downloaded.\n"
     ]
    },
    {
     "name": "stderr",
     "output_type": "stream",
     "text": [
      "2023-11-30 13:31:43,316 INFO Request is queued\n",
      "2023-11-30 13:31:44,497 INFO Request is running\n",
      "2023-11-30 13:33:00,471 INFO Request is completed\n",
      "2023-11-30 13:33:00,472 INFO Downloading https://download-0006-clone.copernicus-climate.eu/cache-compute-0006/cache/data6/adaptor.mars.external-1701325903.657964-6265-2-1c6c8151-0fb1-4f8d-acb1-b641faa05ee4.grib to idn_cli_era5_riverdischarge_2006.grib (31.2M)\n",
      "2023-11-30 13:33:11,090 INFO Download rate 2.9M/s                                                                               \n",
      "2023-11-30 13:33:11,474 INFO Welcome to the CDS\n",
      "2023-11-30 13:33:11,475 INFO Sending request to https://cds.climate.copernicus.eu/api/v2/resources/cems-glofas-historical\n"
     ]
    },
    {
     "name": "stdout",
     "output_type": "stream",
     "text": [
      "idn_cli_era5_riverdischarge_2006.grib downloaded.\n"
     ]
    },
    {
     "name": "stderr",
     "output_type": "stream",
     "text": [
      "2023-11-30 13:33:11,694 INFO Request is queued\n",
      "2023-11-30 13:33:12,886 INFO Request is running\n",
      "2023-11-30 13:34:28,413 INFO Request is completed\n",
      "2023-11-30 13:34:28,414 INFO Downloading https://download-0020.copernicus-climate.eu/cache-compute-0020/cache/data7/adaptor.mars.external-1701325992.0206978-17142-8-3b5f1895-df05-468b-be34-19250e5dcd2f.grib to idn_cli_era5_riverdischarge_2007.grib (31.2M)\n",
      "2023-11-30 13:34:34,984 INFO Download rate 4.7M/s                                                                               \n",
      "2023-11-30 13:34:35,365 INFO Welcome to the CDS\n",
      "2023-11-30 13:34:35,366 INFO Sending request to https://cds.climate.copernicus.eu/api/v2/resources/cems-glofas-historical\n"
     ]
    },
    {
     "name": "stdout",
     "output_type": "stream",
     "text": [
      "idn_cli_era5_riverdischarge_2007.grib downloaded.\n"
     ]
    },
    {
     "name": "stderr",
     "output_type": "stream",
     "text": [
      "2023-11-30 13:34:35,613 INFO Request is queued\n",
      "2023-11-30 13:34:36,804 INFO Request is running\n",
      "2023-11-30 13:35:52,236 INFO Request is completed\n",
      "2023-11-30 13:35:52,237 INFO Downloading https://download-0009-clone.copernicus-climate.eu/cache-compute-0009/cache/data0/adaptor.mars.external-1701326075.9346337-16817-7-9b753163-06d0-4307-976f-b291da518834.grib to idn_cli_era5_riverdischarge_2008.grib (31.3M)\n",
      "2023-11-30 13:36:16,291 INFO Download rate 1.3M/s                                                                               \n",
      "2023-11-30 13:36:16,673 INFO Welcome to the CDS\n",
      "2023-11-30 13:36:16,674 INFO Sending request to https://cds.climate.copernicus.eu/api/v2/resources/cems-glofas-historical\n"
     ]
    },
    {
     "name": "stdout",
     "output_type": "stream",
     "text": [
      "idn_cli_era5_riverdischarge_2008.grib downloaded.\n"
     ]
    },
    {
     "name": "stderr",
     "output_type": "stream",
     "text": [
      "2023-11-30 13:36:16,910 INFO Request is queued\n",
      "2023-11-30 13:36:18,102 INFO Request is running\n",
      "2023-11-30 13:37:07,709 INFO Request is completed\n",
      "2023-11-30 13:37:07,710 INFO Downloading https://download-0003-clone.copernicus-climate.eu/cache-compute-0003/cache/data7/adaptor.mars.external-1701326177.1687746-6756-20-63ee3fe4-2582-492f-8a75-e427054a75b9.grib to idn_cli_era5_riverdischarge_2009.grib (31.2M)\n",
      "2023-11-30 13:37:13,340 INFO Download rate 5.5M/s                                                                               \n",
      "2023-11-30 13:37:13,722 INFO Welcome to the CDS\n",
      "2023-11-30 13:37:13,723 INFO Sending request to https://cds.climate.copernicus.eu/api/v2/resources/cems-glofas-historical\n"
     ]
    },
    {
     "name": "stdout",
     "output_type": "stream",
     "text": [
      "idn_cli_era5_riverdischarge_2009.grib downloaded.\n"
     ]
    },
    {
     "name": "stderr",
     "output_type": "stream",
     "text": [
      "2023-11-30 13:37:13,950 INFO Request is queued\n",
      "2023-11-30 13:37:15,145 INFO Request is running\n",
      "2023-11-30 13:38:04,780 INFO Request is completed\n",
      "2023-11-30 13:38:04,781 INFO Downloading https://download-0008-clone.copernicus-climate.eu/cache-compute-0008/cache/data0/adaptor.mars.external-1701326234.5116346-7024-1-10cf8e28-8908-4560-a30a-516ac9f0b3f1.grib to idn_cli_era5_riverdischarge_2010.grib (31.2M)\n",
      "2023-11-30 13:38:10,011 INFO Download rate 6M/s                                                                                 \n",
      "2023-11-30 13:38:10,391 INFO Welcome to the CDS\n",
      "2023-11-30 13:38:10,392 INFO Sending request to https://cds.climate.copernicus.eu/api/v2/resources/cems-glofas-historical\n"
     ]
    },
    {
     "name": "stdout",
     "output_type": "stream",
     "text": [
      "idn_cli_era5_riverdischarge_2010.grib downloaded.\n"
     ]
    },
    {
     "name": "stderr",
     "output_type": "stream",
     "text": [
      "2023-11-30 13:38:10,628 INFO Request is queued\n",
      "2023-11-30 13:38:11,819 INFO Request is running\n",
      "2023-11-30 13:39:01,429 INFO Request is completed\n",
      "2023-11-30 13:39:01,430 INFO Downloading https://download-0019.copernicus-climate.eu/cache-compute-0019/cache/data4/adaptor.mars.external-1701326291.0030077-18361-9-e7be3e52-a1a9-4aaf-a105-d87680c66e5c.grib to idn_cli_era5_riverdischarge_2011.grib (31.2M)\n",
      "2023-11-30 13:39:08,582 INFO Download rate 4.4M/s                                                                               \n",
      "2023-11-30 13:39:08,967 INFO Welcome to the CDS\n",
      "2023-11-30 13:39:08,968 INFO Sending request to https://cds.climate.copernicus.eu/api/v2/resources/cems-glofas-historical\n"
     ]
    },
    {
     "name": "stdout",
     "output_type": "stream",
     "text": [
      "idn_cli_era5_riverdischarge_2011.grib downloaded.\n"
     ]
    },
    {
     "name": "stderr",
     "output_type": "stream",
     "text": [
      "2023-11-30 13:39:09,212 INFO Request is queued\n",
      "2023-11-30 13:39:10,406 INFO Request is running\n",
      "2023-11-30 13:40:00,005 INFO Request is completed\n",
      "2023-11-30 13:40:00,006 INFO Downloading https://download-0012-clone.copernicus-climate.eu/cache-compute-0012/cache/data3/adaptor.mars.external-1701326349.583342-27036-14-e2be9f86-25e9-4c34-a6d6-04773fae7232.grib to idn_cli_era5_riverdischarge_2012.grib (31.3M)\n",
      "2023-11-30 13:40:15,547 INFO Download rate 2M/s                                                                                 \n",
      "2023-11-30 13:40:15,933 INFO Welcome to the CDS\n",
      "2023-11-30 13:40:15,934 INFO Sending request to https://cds.climate.copernicus.eu/api/v2/resources/cems-glofas-historical\n"
     ]
    },
    {
     "name": "stdout",
     "output_type": "stream",
     "text": [
      "idn_cli_era5_riverdischarge_2012.grib downloaded.\n"
     ]
    },
    {
     "name": "stderr",
     "output_type": "stream",
     "text": [
      "2023-11-30 13:40:16,183 INFO Request is queued\n",
      "2023-11-30 13:40:17,376 INFO Request is running\n",
      "2023-11-30 13:41:32,797 INFO Request is completed\n",
      "2023-11-30 13:41:32,798 INFO Downloading https://download-0018.copernicus-climate.eu/cache-compute-0018/cache/data5/adaptor.mars.external-1701326416.6793103-16558-13-6ff5536a-1831-4720-80f4-f59505c8100a.grib to idn_cli_era5_riverdischarge_2013.grib (31.2M)\n",
      "2023-11-30 13:41:41,726 INFO Download rate 3.5M/s                                                                               \n",
      "2023-11-30 13:41:42,106 INFO Welcome to the CDS\n",
      "2023-11-30 13:41:42,106 INFO Sending request to https://cds.climate.copernicus.eu/api/v2/resources/cems-glofas-historical\n"
     ]
    },
    {
     "name": "stdout",
     "output_type": "stream",
     "text": [
      "idn_cli_era5_riverdischarge_2013.grib downloaded.\n"
     ]
    },
    {
     "name": "stderr",
     "output_type": "stream",
     "text": [
      "2023-11-30 13:41:42,370 INFO Request is queued\n",
      "2023-11-30 13:41:43,561 INFO Request is running\n",
      "2023-11-30 13:42:58,981 INFO Request is completed\n",
      "2023-11-30 13:42:58,982 INFO Downloading https://download-0016.copernicus-climate.eu/cache-compute-0016/cache/data1/adaptor.mars.external-1701326502.8387418-15417-6-05faa875-9692-422e-ba5e-2352e7f20b85.grib to idn_cli_era5_riverdischarge_2014.grib (31.2M)\n",
      "2023-11-30 13:43:23,263 INFO Download rate 1.3M/s                                                                               \n",
      "2023-11-30 13:43:23,645 INFO Welcome to the CDS\n",
      "2023-11-30 13:43:23,645 INFO Sending request to https://cds.climate.copernicus.eu/api/v2/resources/cems-glofas-historical\n"
     ]
    },
    {
     "name": "stdout",
     "output_type": "stream",
     "text": [
      "idn_cli_era5_riverdischarge_2014.grib downloaded.\n"
     ]
    },
    {
     "name": "stderr",
     "output_type": "stream",
     "text": [
      "2023-11-30 13:43:23,877 INFO Request is queued\n",
      "2023-11-30 13:43:25,605 INFO Request is running\n",
      "2023-11-30 13:44:40,927 INFO Request is completed\n",
      "2023-11-30 13:44:40,928 INFO Downloading https://download-0006-clone.copernicus-climate.eu/cache-compute-0006/cache/data4/adaptor.mars.external-1701326604.264344-7747-11-af4dd216-a905-40c5-a195-b594d53773b5.grib to idn_cli_era5_riverdischarge_2015.grib (31.2M)\n",
      "2023-11-30 13:44:46,368 INFO Download rate 5.7M/s                                                                               \n",
      "2023-11-30 13:44:46,726 INFO Welcome to the CDS\n",
      "2023-11-30 13:44:46,727 INFO Sending request to https://cds.climate.copernicus.eu/api/v2/resources/cems-glofas-historical\n"
     ]
    },
    {
     "name": "stdout",
     "output_type": "stream",
     "text": [
      "idn_cli_era5_riverdischarge_2015.grib downloaded.\n"
     ]
    },
    {
     "name": "stderr",
     "output_type": "stream",
     "text": [
      "2023-11-30 13:44:46,967 INFO Request is queued\n",
      "2023-11-30 13:44:48,151 INFO Request is running\n",
      "2023-11-30 13:46:03,486 INFO Request is completed\n",
      "2023-11-30 13:46:03,487 INFO Downloading https://download-0020.copernicus-climate.eu/cache-compute-0020/cache/data2/adaptor.mars.external-1701326687.5053134-21411-5-17132168-394b-4d9a-99ba-4de7a2ddb8d6.grib to idn_cli_era5_riverdischarge_2016.grib (31.3M)\n",
      "2023-11-30 13:46:09,967 INFO Download rate 4.8M/s                                                                               \n",
      "2023-11-30 13:46:10,329 INFO Welcome to the CDS\n",
      "2023-11-30 13:46:10,330 INFO Sending request to https://cds.climate.copernicus.eu/api/v2/resources/cems-glofas-historical\n"
     ]
    },
    {
     "name": "stdout",
     "output_type": "stream",
     "text": [
      "idn_cli_era5_riverdischarge_2016.grib downloaded.\n"
     ]
    },
    {
     "name": "stderr",
     "output_type": "stream",
     "text": [
      "2023-11-30 13:46:10,562 INFO Request is queued\n",
      "2023-11-30 13:46:11,746 INFO Request is running\n",
      "2023-11-30 13:47:27,079 INFO Request is completed\n",
      "2023-11-30 13:47:27,079 INFO Downloading https://download-0013-clone.copernicus-climate.eu/cache-compute-0013/cache/data6/adaptor.mars.external-1701326770.9698944-23804-15-3d56c23d-893e-4963-bfde-060246f92b8f.grib to idn_cli_era5_riverdischarge_2017.grib (31.2M)\n",
      "2023-11-30 13:48:11,595 INFO Download rate 717.8K/s                                                                             \n",
      "2023-11-30 13:48:11,958 INFO Welcome to the CDS\n",
      "2023-11-30 13:48:11,959 INFO Sending request to https://cds.climate.copernicus.eu/api/v2/resources/cems-glofas-historical\n"
     ]
    },
    {
     "name": "stdout",
     "output_type": "stream",
     "text": [
      "idn_cli_era5_riverdischarge_2017.grib downloaded.\n"
     ]
    },
    {
     "name": "stderr",
     "output_type": "stream",
     "text": [
      "2023-11-30 13:48:12,198 INFO Request is queued\n",
      "2023-11-30 13:48:13,377 INFO Request is running\n",
      "2023-11-30 13:49:28,693 INFO Request is completed\n",
      "2023-11-30 13:49:28,694 INFO Downloading https://download-0000-clone.copernicus-climate.eu/cache-compute-0000/cache/data9/adaptor.mars.external-1701326892.6099937-8144-9-ad3a1324-dbfb-4f7f-ad4f-54818e1be58f.grib to idn_cli_era5_riverdischarge_2018.grib (31.2M)\n",
      "2023-11-30 13:50:53,278 INFO Download rate 377.8K/s                                                                             \n",
      "2023-11-30 13:50:54,231 INFO Welcome to the CDS\n",
      "2023-11-30 13:50:54,232 INFO Sending request to https://cds.climate.copernicus.eu/api/v2/resources/cems-glofas-historical\n"
     ]
    },
    {
     "name": "stdout",
     "output_type": "stream",
     "text": [
      "idn_cli_era5_riverdischarge_2018.grib downloaded.\n"
     ]
    },
    {
     "name": "stderr",
     "output_type": "stream",
     "text": [
      "2023-11-30 13:50:54,459 INFO Request is queued\n",
      "2023-11-30 13:50:55,646 INFO Request is running\n",
      "2023-11-30 13:52:11,031 INFO Request is completed\n",
      "2023-11-30 13:52:11,032 INFO Downloading https://download-0018.copernicus-climate.eu/cache-compute-0018/cache/data1/adaptor.mars.external-1701327054.8118534-19454-14-2f4294d7-d2a3-43cd-a380-742813c9d242.grib to idn_cli_era5_riverdischarge_2019.grib (31.2M)\n",
      "2023-11-30 13:52:16,514 INFO Download rate 5.7M/s                                                                               \n",
      "2023-11-30 13:52:16,892 INFO Welcome to the CDS\n",
      "2023-11-30 13:52:16,893 INFO Sending request to https://cds.climate.copernicus.eu/api/v2/resources/cems-glofas-historical\n"
     ]
    },
    {
     "name": "stdout",
     "output_type": "stream",
     "text": [
      "idn_cli_era5_riverdischarge_2019.grib downloaded.\n"
     ]
    },
    {
     "name": "stderr",
     "output_type": "stream",
     "text": [
      "2023-11-30 13:52:17,102 INFO Request is queued\n",
      "2023-11-30 13:52:18,294 INFO Request is running\n",
      "2023-11-30 13:53:33,690 INFO Request is completed\n",
      "2023-11-30 13:53:33,691 INFO Downloading https://download-0019.copernicus-climate.eu/cache-compute-0019/cache/data4/adaptor.mars.external-1701327137.531536-25693-7-223f010d-667f-49d6-af4a-ad45a50b4dcc.grib to idn_cli_era5_riverdischarge_2020.grib (31.3M)\n",
      "2023-11-30 13:53:39,417 INFO Download rate 5.5M/s                                                                               \n",
      "2023-11-30 13:53:39,790 INFO Welcome to the CDS\n",
      "2023-11-30 13:53:39,791 INFO Sending request to https://cds.climate.copernicus.eu/api/v2/resources/cems-glofas-historical\n"
     ]
    },
    {
     "name": "stdout",
     "output_type": "stream",
     "text": [
      "idn_cli_era5_riverdischarge_2020.grib downloaded.\n"
     ]
    },
    {
     "name": "stderr",
     "output_type": "stream",
     "text": [
      "2023-11-30 13:53:40,023 INFO Request is queued\n",
      "2023-11-30 13:53:41,212 INFO Request is running\n",
      "2023-11-30 13:54:56,610 INFO Request is completed\n",
      "2023-11-30 13:54:56,611 INFO Downloading https://download-0010-clone.copernicus-climate.eu/cache-compute-0010/cache/data3/adaptor.mars.external-1701327220.6063886-32120-1-5869ccb5-b2c7-49c8-8e41-b87b4976cf43.grib to idn_cli_era5_riverdischarge_2021.grib (31.2M)\n",
      "2023-11-30 13:55:44,285 INFO Download rate 670.2K/s                                                                             \n",
      "2023-11-30 13:55:44,659 INFO Welcome to the CDS\n",
      "2023-11-30 13:55:44,660 INFO Sending request to https://cds.climate.copernicus.eu/api/v2/resources/cems-glofas-historical\n"
     ]
    },
    {
     "name": "stdout",
     "output_type": "stream",
     "text": [
      "idn_cli_era5_riverdischarge_2021.grib downloaded.\n"
     ]
    },
    {
     "name": "stderr",
     "output_type": "stream",
     "text": [
      "2023-11-30 13:55:45,031 INFO Request is queued\n",
      "2023-11-30 13:55:46,220 INFO Request is running\n",
      "2023-11-30 13:57:01,611 INFO Request is completed\n",
      "2023-11-30 13:57:01,612 INFO Downloading https://download-0020.copernicus-climate.eu/cache-compute-0020/cache/data6/adaptor.mars.external-1701327345.3676622-30110-4-5b3ed999-b150-4463-a464-d860472256f9.grib to idn_cli_era5_riverdischarge_2022.grib (31.2M)\n",
      "2023-11-30 13:58:18,073 INFO Download rate 417.9K/s                                                                             \n"
     ]
    },
    {
     "name": "stdout",
     "output_type": "stream",
     "text": [
      "idn_cli_era5_riverdischarge_2022.grib downloaded.\n"
     ]
    }
   ],
   "source": [
    "import os\n",
    "import cdsapi\n",
    "\n",
    "# Replace UID:ApiKey with your UID and API key\n",
    "# c = cdsapi.Client(key=\"UID:ApiKey\")\n",
    "c = cdsapi.Client()\n",
    "\n",
    "years = list(range(1981, 2023))\n",
    "\n",
    "for year in years:\n",
    "    c.retrieve(\n",
    "    'cems-glofas-historical',\n",
    "    {\n",
    "        'system_version': 'version_3_1',\n",
    "        'variable': 'river_discharge_in_the_last_24_hours',\n",
    "        'hydrological_model': 'lisflood',\n",
    "        'product_type': 'consolidated',\n",
    "        'hyear': str(year),\n",
    "        'hmonth': [\n",
    "            'april', 'august', 'december',\n",
    "            'february', 'january', 'july',\n",
    "            'june', 'march', 'may',\n",
    "            'november', 'october', 'september',\n",
    "        ],\n",
    "        'hday': [\n",
    "            '01', '02', '03',\n",
    "            '04', '05', '06',\n",
    "            '07', '08', '09',\n",
    "            '10', '11', '12',\n",
    "            '13', '14', '15',\n",
    "            '16', '17', '18',\n",
    "            '19', '20', '21',\n",
    "            '22', '23', '24',\n",
    "            '25', '26', '27',\n",
    "            '28', '29', '30',\n",
    "            '31',\n",
    "        ],\n",
    "        'area': [\n",
    "            11, 90, -13, 145, # Bounding box for Indonesia\n",
    "        ],\n",
    "        'format': 'grib',\n",
    "    },\n",
    "    'idn_cli_era5_riverdischarge_' + str(year) + '.grib')\n",
    "\n",
    "    print('idn_cli_era5_riverdischarge_' + str(year) + '.grib' + ' downloaded.')"
   ]
  },
  {
   "cell_type": "markdown",
   "id": "f1050f8a-636e-45fa-a0aa-7c4c7a934f75",
   "metadata": {},
   "source": [
    "Convert all the grib file into netcdf4 for easier processing in further analysis.\n",
    "\n",
    "This command will:\n",
    "\n",
    "1. Iterate over all `.grib` files in the current directory.\n",
    "2. Use `cdo` to convert each `.grib` file to NetCDF format (`.nc4`), with compression.\n",
    "3. Save the converted files in the `../01_nc4/` directory with the same base filename but with the `.nc4` extension.\n"
   ]
  },
  {
   "cell_type": "code",
   "execution_count": 12,
   "id": "d94101c3-8f0a-4919-a8d7-ed15555b3a22",
   "metadata": {
    "scrolled": true
   },
   "outputs": [
    {
     "name": "stdout",
     "output_type": "stream",
     "text": [
      "cdo    copy:   1\u001b[32mcdo    copy: \u001b[0mProcessed 48758160 values from 1 variable over 365 timesteps [4.52s 65MB]\n",
      "cdo    copy:   1\u001b[32mcdo    copy: \u001b[0mProcessed 48758160 values from 1 variable over 365 timesteps [4.54s 65MB]\n",
      "cdo    copy:   1\u001b[32mcdo    copy: \u001b[0mProcessed 48758160 values from 1 variable over 365 timesteps [4.60s 66MB]\n",
      "cdo    copy:   1\u001b[32mcdo    copy: \u001b[0mProcessed 48891744 values from 1 variable over 366 timesteps [4.46s 65MB]\n",
      "cdo    copy:   1\u001b[32mcdo    copy: \u001b[0mProcessed 48758160 values from 1 variable over 365 timesteps [4.51s 66MB]\n",
      "cdo    copy:   1\u001b[32mcdo    copy: \u001b[0mProcessed 48758160 values from 1 variable over 365 timesteps [4.45s 65MB]\n",
      "cdo    copy:   1\u001b[32mcdo    copy: \u001b[0mProcessed 48758160 values from 1 variable over 365 timesteps [4.49s 65MB]\n",
      "cdo    copy:   1\u001b[32mcdo    copy: \u001b[0mProcessed 48891744 values from 1 variable over 366 timesteps [4.43s 65MB]\n",
      "cdo    copy:   1\u001b[32mcdo    copy: \u001b[0mProcessed 48758160 values from 1 variable over 365 timesteps [4.51s 65MB]\n",
      "cdo    copy:   1\u001b[32mcdo    copy: \u001b[0mProcessed 48758160 values from 1 variable over 365 timesteps [4.49s 65MB]\n",
      "cdo    copy:   1\u001b[32mcdo    copy: \u001b[0mProcessed 48758160 values from 1 variable over 365 timesteps [4.53s 65MB]\n",
      "cdo    copy:   1\u001b[32mcdo    copy: \u001b[0mProcessed 48891744 values from 1 variable over 366 timesteps [4.51s 65MB]\n",
      "cdo    copy:   1\u001b[32mcdo    copy: \u001b[0mProcessed 48758160 values from 1 variable over 365 timesteps [4.49s 65MB]\n",
      "cdo    copy:   1\u001b[32mcdo    copy: \u001b[0mProcessed 48758160 values from 1 variable over 365 timesteps [4.41s 65MB]\n",
      "cdo    copy:   1\u001b[32mcdo    copy: \u001b[0mProcessed 48758160 values from 1 variable over 365 timesteps [4.40s 66MB]\n",
      "cdo    copy:   1\u001b[32mcdo    copy: \u001b[0mProcessed 48891744 values from 1 variable over 366 timesteps [4.49s 65MB]\n",
      "cdo    copy:   1\u001b[32mcdo    copy: \u001b[0mProcessed 48758160 values from 1 variable over 365 timesteps [4.47s 65MB]\n",
      "cdo    copy:   1\u001b[32mcdo    copy: \u001b[0mProcessed 48758160 values from 1 variable over 365 timesteps [4.50s 65MB]\n",
      "cdo    copy:   1\u001b[32mcdo    copy: \u001b[0mProcessed 48758160 values from 1 variable over 365 timesteps [4.49s 64MB]\n",
      "cdo    copy:   1\u001b[32mcdo    copy: \u001b[0mProcessed 48891744 values from 1 variable over 366 timesteps [4.51s 65MB]\n",
      "cdo    copy:   1\u001b[32mcdo    copy: \u001b[0mProcessed 48758160 values from 1 variable over 365 timesteps [4.47s 65MB]\n",
      "cdo    copy:   1\u001b[32mcdo    copy: \u001b[0mProcessed 48758160 values from 1 variable over 365 timesteps [4.46s 65MB]\n",
      "cdo    copy:   1\u001b[32mcdo    copy: \u001b[0mProcessed 48758160 values from 1 variable over 365 timesteps [4.51s 66MB]\n",
      "cdo    copy:   1\u001b[32mcdo    copy: \u001b[0mProcessed 48891744 values from 1 variable over 366 timesteps [4.57s 65MB]\n",
      "cdo    copy:   1\u001b[32mcdo    copy: \u001b[0mProcessed 48758160 values from 1 variable over 365 timesteps [4.45s 65MB]\n",
      "cdo    copy:   1\u001b[32mcdo    copy: \u001b[0mProcessed 48758160 values from 1 variable over 365 timesteps [4.45s 65MB]\n",
      "cdo    copy:   1\u001b[32mcdo    copy: \u001b[0mProcessed 48758160 values from 1 variable over 365 timesteps [4.45s 65MB]\n",
      "cdo    copy:   1\u001b[32mcdo    copy: \u001b[0mProcessed 48891744 values from 1 variable over 366 timesteps [4.49s 65MB]\n",
      "cdo    copy:   1\u001b[32mcdo    copy: \u001b[0mProcessed 48758160 values from 1 variable over 365 timesteps [4.44s 65MB]\n",
      "cdo    copy:   1\u001b[32mcdo    copy: \u001b[0mProcessed 48758160 values from 1 variable over 365 timesteps [4.48s 65MB]\n",
      "cdo    copy:   1\u001b[32mcdo    copy: \u001b[0mProcessed 48758160 values from 1 variable over 365 timesteps [4.47s 65MB]\n",
      "cdo    copy:   1\u001b[32mcdo    copy: \u001b[0mProcessed 48891744 values from 1 variable over 366 timesteps [4.47s 65MB]\n",
      "cdo    copy:   1\u001b[32mcdo    copy: \u001b[0mProcessed 48758160 values from 1 variable over 365 timesteps [4.47s 65MB]\n",
      "cdo    copy:   1\u001b[32mcdo    copy: \u001b[0mProcessed 48758160 values from 1 variable over 365 timesteps [4.45s 65MB]\n",
      "cdo    copy:   1\u001b[32mcdo    copy: \u001b[0mProcessed 48758160 values from 1 variable over 365 timesteps [4.70s 66MB]\n",
      "cdo    copy:   1\u001b[32mcdo    copy: \u001b[0mProcessed 48891744 values from 1 variable over 366 timesteps [4.58s 66MB]\n",
      "cdo    copy:   1\u001b[32mcdo    copy: \u001b[0mProcessed 48758160 values from 1 variable over 365 timesteps [4.62s 66MB]\n",
      "cdo    copy:   1\u001b[32mcdo    copy: \u001b[0mProcessed 48758160 values from 1 variable over 365 timesteps [4.51s 65MB]\n",
      "cdo    copy:   1\u001b[32mcdo    copy: \u001b[0mProcessed 48758160 values from 1 variable over 365 timesteps [4.59s 65MB]\n",
      "cdo    copy:   1\u001b[32mcdo    copy: \u001b[0mProcessed 48891744 values from 1 variable over 366 timesteps [4.62s 65MB]\n",
      "cdo    copy:   1\u001b[32mcdo    copy: \u001b[0mProcessed 48758160 values from 1 variable over 365 timesteps [4.50s 65MB]\n",
      "cdo    copy:   1\u001b[32mcdo    copy: \u001b[0mProcessed 48758160 values from 1 variable over 365 timesteps [4.56s 70MB]\n"
     ]
    }
   ],
   "source": [
    "!bash -c 'for fl in *.grib; do cdo -z zip_5 -f nc4 copy \"$fl\" \"../01_nc4/${fl%.grib}.nc4\"; done'\n"
   ]
  },
  {
   "cell_type": "markdown",
   "id": "97ce32eb-ff10-462b-b74c-c91d07770ce8",
   "metadata": {},
   "source": [
    "If you open one of the data using [Panoply netCDF Data Viewer](https://www.giss.nasa.gov/tools/panoply/), you can see the coverage of the data following the bounding box that you have set in the script above.\n",
    "\n",
    "![bbox](./hyd/images/bbox_data.png)"
   ]
  },
  {
   "cell_type": "markdown",
   "id": "17a3b5f9-1d4f-403c-a00b-91795936f811",
   "metadata": {},
   "source": [
    "## 2. Pre process"
   ]
  },
  {
   "cell_type": "markdown",
   "id": "38f3a5ec-b5c8-48b4-9253-c7bd338654ac",
   "metadata": {},
   "source": [
    "Navigate to folder `01_nc4`"
   ]
  },
  {
   "cell_type": "code",
   "execution_count": 2,
   "id": "b5e0d547-19ae-4e48-bb0b-c89c966dfe72",
   "metadata": {},
   "outputs": [
    {
     "name": "stdout",
     "output_type": "stream",
     "text": [
      "/Volumes/Datenspeicherung/Temp/drought/hyd/01_nc4\n"
     ]
    }
   ],
   "source": [
    "%cd ../01_nc4"
   ]
  },
  {
   "cell_type": "markdown",
   "id": "f24ab686-b06c-4006-aabe-b230224462b2",
   "metadata": {},
   "source": [
    "From above picture, we show the first date of the data, and seems it shifted 1 day (first date is 2 Jan 1981). We need to turned it back.\n",
    "\n",
    "This script will:\n",
    "\n",
    "* Loop over each `.nc4` file in the current directory.\n",
    "* Use `cdo` to shift the time in each file backward by one day.\n",
    "* Save the modified file in the `../02_shifted/` directory with the same filename."
   ]
  },
  {
   "cell_type": "code",
   "execution_count": 20,
   "id": "7e9a3d0a-3f25-4d93-975e-8ac03790d67c",
   "metadata": {
    "scrolled": true
   },
   "outputs": [
    {
     "name": "stdout",
     "output_type": "stream",
     "text": [
      "\u001b[32mcdo    shifttime: \u001b[0mProcessed 48758160 values from 1 variable over 365 timesteps [3.75s 69MB]\n",
      "\u001b[32mcdo    shifttime: \u001b[0mProcessed 48758160 values from 1 variable over 365 timesteps [3.64s 66MB]\n",
      "\u001b[32mcdo    shifttime: \u001b[0mProcessed 48758160 values from 1 variable over 365 timesteps [3.64s 74MB]\n",
      "\u001b[32mcdo    shifttime: \u001b[0mProcessed 48891744 values from 1 variable over 366 timesteps [3.63s 66MB]\n",
      "\u001b[32mcdo    shifttime: \u001b[0mProcessed 48758160 values from 1 variable over 365 timesteps [3.60s 66MB]\n",
      "\u001b[32mcdo    shifttime: \u001b[0mProcessed 48758160 values from 1 variable over 365 timesteps [3.67s 66MB]\n",
      "\u001b[32mcdo    shifttime: \u001b[0mProcessed 48758160 values from 1 variable over 365 timesteps [3.68s 64MB]\n",
      "\u001b[32mcdo    shifttime: \u001b[0mProcessed 48891744 values from 1 variable over 366 timesteps [3.65s 65MB]\n",
      "\u001b[32mcdo    shifttime: \u001b[0mProcessed 48758160 values from 1 variable over 365 timesteps [3.61s 65MB]\n",
      "\u001b[32mcdo    shifttime: \u001b[0mProcessed 48758160 values from 1 variable over 365 timesteps [3.67s 67MB]\n",
      "\u001b[32mcdo    shifttime: \u001b[0mProcessed 48758160 values from 1 variable over 365 timesteps [3.70s 65MB]\n",
      "\u001b[32mcdo    shifttime: \u001b[0mProcessed 48891744 values from 1 variable over 366 timesteps [3.75s 65MB]\n",
      "\u001b[32mcdo    shifttime: \u001b[0mProcessed 48758160 values from 1 variable over 365 timesteps [3.68s 81MB]\n",
      "\u001b[32mcdo    shifttime: \u001b[0mProcessed 48758160 values from 1 variable over 365 timesteps [3.62s 66MB]\n",
      "\u001b[32mcdo    shifttime: \u001b[0mProcessed 48758160 values from 1 variable over 365 timesteps [3.64s 66MB]\n",
      "\u001b[32mcdo    shifttime: \u001b[0mProcessed 48891744 values from 1 variable over 366 timesteps [3.78s 65MB]\n",
      "\u001b[32mcdo    shifttime: \u001b[0mProcessed 48758160 values from 1 variable over 365 timesteps [3.69s 76MB]\n",
      "\u001b[32mcdo    shifttime: \u001b[0mProcessed 48758160 values from 1 variable over 365 timesteps [3.71s 65MB]\n",
      "\u001b[32mcdo    shifttime: \u001b[0mProcessed 48758160 values from 1 variable over 365 timesteps [3.66s 66MB]\n",
      "\u001b[32mcdo    shifttime: \u001b[0mProcessed 48891744 values from 1 variable over 366 timesteps [3.73s 66MB]\n",
      "\u001b[32mcdo    shifttime: \u001b[0mProcessed 48758160 values from 1 variable over 365 timesteps [3.63s 65MB]\n",
      "\u001b[32mcdo    shifttime: \u001b[0mProcessed 48758160 values from 1 variable over 365 timesteps [3.55s 65MB]\n",
      "\u001b[32mcdo    shifttime: \u001b[0mProcessed 48758160 values from 1 variable over 365 timesteps [3.58s 66MB]\n",
      "\u001b[32mcdo    shifttime: \u001b[0mProcessed 48891744 values from 1 variable over 366 timesteps [3.61s 65MB]\n",
      "\u001b[32mcdo    shifttime: \u001b[0mProcessed 48758160 values from 1 variable over 365 timesteps [3.62s 66MB]\n",
      "\u001b[32mcdo    shifttime: \u001b[0mProcessed 48758160 values from 1 variable over 365 timesteps [3.54s 65MB]\n",
      "\u001b[32mcdo    shifttime: \u001b[0mProcessed 48758160 values from 1 variable over 365 timesteps [3.59s 65MB]\n",
      "\u001b[32mcdo    shifttime: \u001b[0mProcessed 48891744 values from 1 variable over 366 timesteps [3.63s 80MB]\n",
      "\u001b[32mcdo    shifttime: \u001b[0mProcessed 48758160 values from 1 variable over 365 timesteps [3.57s 65MB]\n",
      "\u001b[32mcdo    shifttime: \u001b[0mProcessed 48758160 values from 1 variable over 365 timesteps [3.57s 70MB]\n",
      "\u001b[32mcdo    shifttime: \u001b[0mProcessed 48758160 values from 1 variable over 365 timesteps [3.58s 69MB]\n",
      "\u001b[32mcdo    shifttime: \u001b[0mProcessed 48891744 values from 1 variable over 366 timesteps [3.57s 65MB]\n",
      "\u001b[32mcdo    shifttime: \u001b[0mProcessed 48758160 values from 1 variable over 365 timesteps [3.56s 66MB]\n",
      "\u001b[32mcdo    shifttime: \u001b[0mProcessed 48758160 values from 1 variable over 365 timesteps [3.58s 66MB]\n",
      "\u001b[32mcdo    shifttime: \u001b[0mProcessed 48758160 values from 1 variable over 365 timesteps [3.59s 69MB]\n",
      "\u001b[32mcdo    shifttime: \u001b[0mProcessed 48891744 values from 1 variable over 366 timesteps [3.57s 66MB]\n",
      "\u001b[32mcdo    shifttime: \u001b[0mProcessed 48758160 values from 1 variable over 365 timesteps [3.56s 65MB]\n",
      "\u001b[32mcdo    shifttime: \u001b[0mProcessed 48758160 values from 1 variable over 365 timesteps [3.58s 69MB]\n",
      "\u001b[32mcdo    shifttime: \u001b[0mProcessed 48758160 values from 1 variable over 365 timesteps [3.55s 65MB]\n",
      "\u001b[32mcdo    shifttime: \u001b[0mProcessed 48891744 values from 1 variable over 366 timesteps [3.59s 66MB]\n",
      "\u001b[32mcdo    shifttime: \u001b[0mProcessed 48758160 values from 1 variable over 365 timesteps [3.71s 65MB]\n",
      "\u001b[32mcdo    shifttime: \u001b[0mProcessed 48758160 values from 1 variable over 365 timesteps [3.90s 66MB]\n"
     ]
    }
   ],
   "source": [
    "!bash -c 'for fl in *.nc4; do cdo -z zip_5 shifttime,-1day $fl ../02_shifted/$fl; done'\n"
   ]
  },
  {
   "cell_type": "markdown",
   "id": "29cb2c52-2f92-4a0b-969e-34adc75c6de8",
   "metadata": {},
   "source": [
    "Navigate to folder 02_shifted"
   ]
  },
  {
   "cell_type": "code",
   "execution_count": 3,
   "id": "7ba9596d-ff69-40f3-9031-cad8fde002c8",
   "metadata": {},
   "outputs": [
    {
     "name": "stdout",
     "output_type": "stream",
     "text": [
      "/Volumes/Datenspeicherung/Temp/drought/hyd/02_shifted\n"
     ]
    }
   ],
   "source": [
    "%cd ../02_shifted"
   ]
  },
  {
   "cell_type": "markdown",
   "id": "ab0628a7-1acd-4b3a-864c-66e171cabe94",
   "metadata": {},
   "source": [
    "The first process will be fill the null value near the coastline by interpolating from nearest grid process, matched the grid with the subset, and remove the value over the sea.\n",
    "\n",
    "Below script combine the operations into a one-liner script for each file, and use in-memory processing for intermediate outputs. \n",
    "\n",
    "This script performs the following operations for each `.nc4` file:\n",
    "\n",
    "* `-remapbil,../subset/idn_subset_chirps.nc $fl` - Remaps the input file `$fl` to match the grid of your subset file.\n",
    "* `-fillmiss -` - Fills missing values in the remapped data. The `-` symbol is used to take the output of `remapbil` as input for `fillmiss`.\n",
    "* `ifthen ../subset/idn_subset_chirps.nc -` - Applies the ifthen operation using the subset file as the condition to keep data only on land. The `-` symbol takes the output of `fillmiss` as its input.\n",
    "* The final output for each file is saved in the `../03_regrid/` directory.\n",
    "\n",
    "This approach avoids writing intermediate files to disk by using in-memory streams.\n"
   ]
  },
  {
   "cell_type": "code",
   "execution_count": 4,
   "id": "dc63c898-6ba6-41d8-b2af-52ce444ad434",
   "metadata": {
    "scrolled": true
   },
   "outputs": [
    {
     "name": "stdout",
     "output_type": "stream",
     "text": [
      "\u001b[32mcdo(1) fillmiss: \u001b[0mProcess started\n",
      "\u001b[32mcdo(2) remapbil: \u001b[0mProcess started\n",
      "\u001b[32mcdo    ifthen: \u001b[0mFilling up stream1 >../../subset/idn_subset_chirps.nc< by copying the first timestep.\n",
      "\u001b[32mcdo(2) remapbil: \u001b[0mBilinear weights from lonlat (552x242) to lonlat (923x341) grid, with source mask (24223)\n",
      "cdo(2) remapbil:                        1 1 1 1 1 1 1 1 1 1 2 2 2 2 2 2 2 2 2 2 3 3 3 3 3 3 3 3 3 3 4 4 4 4 4 4 4 4 4 4 5 5 5 5 5 5 5 5 5 5 6 6 6 6 6 6 6 6 6 6 7 7 7 7 7 7 7 7 7 7 8 8 8 8 8 8 8 8 8 8 9 9 9 9 9 9 9 9 9 91\u001b[33mcdo    ifthen (Warning): \u001b[0mVariable land has a missing value of 0, this can lead to incorrect results with this operator!\n",
      "\u001b[32mcdo(2) remapbil: \u001b[0mProcessed 48758160 values from 1 variable over 365 timesteps\n",
      "\u001b[32mcdo(1) fillmiss: \u001b[0mProcessed 114881195 values from 1 variable over 365 timesteps\n",
      "\u001b[32mcdo    ifthen: \u001b[0mProcessed 115195938 values from 2 variables over 366 timesteps [52.82s 142MB]\n",
      "\u001b[32mcdo(1) fillmiss: \u001b[0mProcess started\n",
      "\u001b[32mcdo(2) remapbil: \u001b[0mProcess started\n",
      "\u001b[32mcdo    ifthen: \u001b[0mFilling up stream1 >../../subset/idn_subset_chirps.nc< by copying the first timestep.\n",
      "\u001b[32mcdo(2) remapbil: \u001b[0mBilinear weights from lonlat (552x242) to lonlat (923x341) grid, with source mask (24223)\n",
      "cdo(2) remapbil:                        1 1 1 1 1 1 1 1 1 1 2 2 2 2 2 2 2 2 2 2 3 3 3 3 3 3 3 3 3 3 4 4 4 4 4 4 4 4 4 4 5 5 5 5 5 5 5 5 5 5 6 6 6 6 6 6 6 6 6 6 7 7 7 7 7 7 7 7 7 7 8 8 8 8 8 8 8 8 8 8 9 9 9 9 9 9 9 9 9 91\u001b[33mcdo    ifthen (Warning): \u001b[0mVariable land has a missing value of 0, this can lead to incorrect results with this operator!\n",
      "\u001b[32mcdo(2) remapbil: \u001b[0mProcessed 48758160 values from 1 variable over 365 timesteps\n",
      "\u001b[32mcdo(1) fillmiss: \u001b[0mProcessed 114881195 values from 1 variable over 365 timesteps\n",
      "\u001b[32mcdo    ifthen: \u001b[0mProcessed 115195938 values from 2 variables over 366 timesteps [53.88s 142MB]\n",
      "\u001b[32mcdo(1) fillmiss: \u001b[0mProcess started\n",
      "\u001b[32mcdo(2) remapbil: \u001b[0mProcess started\n",
      "\u001b[32mcdo    ifthen: \u001b[0mFilling up stream1 >../../subset/idn_subset_chirps.nc< by copying the first timestep.\n",
      "\u001b[32mcdo(2) remapbil: \u001b[0mBilinear weights from lonlat (552x242) to lonlat (923x341) grid, with source mask (24223)\n",
      "cdo(2) remapbil:                        1 1 1 1 1 1 1 1 1 1 2 2 2 2 2 2 2 2 2 2 3 3 3 3 3 3 3 3 3 3 4 4 4 4 4 4 4 4 4 4 5 5 5 5 5 5 5 5 5 5 6 6 6 6 6 6 6 6 6 6 7 7 7 7 7 7 7 7 7 7 8 8 8 8 8 8 8 8 8 8 9 9 9 9 9 9 9 9 9 91\u001b[33mcdo    ifthen (Warning): \u001b[0mVariable land has a missing value of 0, this can lead to incorrect results with this operator!\n",
      "\u001b[32mcdo(2) remapbil: \u001b[0mProcessed 48758160 values from 1 variable over 365 timesteps\n",
      "\u001b[32mcdo(1) fillmiss: \u001b[0mProcessed 114881195 values from 1 variable over 365 timesteps\n",
      "\u001b[32mcdo    ifthen: \u001b[0mProcessed 115195938 values from 2 variables over 366 timesteps [54.09s 142MB]\n",
      "\u001b[32mcdo(1) fillmiss: \u001b[0mProcess started\n",
      "\u001b[32mcdo(2) remapbil: \u001b[0mProcess started\n",
      "\u001b[32mcdo    ifthen: \u001b[0mFilling up stream1 >../../subset/idn_subset_chirps.nc< by copying the first timestep.\n",
      "\u001b[32mcdo(2) remapbil: \u001b[0mBilinear weights from lonlat (552x242) to lonlat (923x341) grid, with source mask (24223)\n",
      "cdo(2) remapbil:                        1 1 1 1 1 1 1 1 1 1 2 2 2 2 2 2 2 2 2 2 3 3 3 3 3 3 3 3 3 3 4 4 4 4 4 4 4 4 4 4 5 5 5 5 5 5 5 5 5 5 6 6 6 6 6 6 6 6 6 6 7 7 7 7 7 7 7 7 7 7 8 8 8 8 8 8 8 8 8 8 9 9 9 9 9 9 9 9 9 91\u001b[33mcdo    ifthen (Warning): \u001b[0mVariable land has a missing value of 0, this can lead to incorrect results with this operator!\n",
      "\u001b[32mcdo(2) remapbil: \u001b[0mProcessed 48891744 values from 1 variable over 366 timesteps\n",
      "\u001b[32mcdo(1) fillmiss: \u001b[0mProcessed 115195938 values from 1 variable over 366 timesteps\n",
      "\u001b[32mcdo    ifthen: \u001b[0mProcessed 115510681 values from 2 variables over 367 timesteps [54.81s 142MB]\n",
      "\u001b[32mcdo(1) fillmiss: \u001b[0mProcess started\n",
      "\u001b[32mcdo(2) remapbil: \u001b[0mProcess started\n",
      "\u001b[32mcdo    ifthen: \u001b[0mFilling up stream1 >../../subset/idn_subset_chirps.nc< by copying the first timestep.\n",
      "\u001b[32mcdo(2) remapbil: \u001b[0mBilinear weights from lonlat (552x242) to lonlat (923x341) grid, with source mask (24223)\n",
      "cdo(2) remapbil:                        1 1 1 1 1 1 1 1 1 1 2 2 2 2 2 2 2 2 2 2 3 3 3 3 3 3 3 3 3 3 4 4 4 4 4 4 4 4 4 4 5 5 5 5 5 5 5 5 5 5 6 6 6 6 6 6 6 6 6 6 7 7 7 7 7 7 7 7 7 7 8 8 8 8 8 8 8 8 8 8 9 9 9 9 9 9 9 9 9 91\u001b[33mcdo    ifthen (Warning): \u001b[0mVariable land has a missing value of 0, this can lead to incorrect results with this operator!\n",
      "\u001b[32mcdo(2) remapbil: \u001b[0mProcessed 48758160 values from 1 variable over 365 timesteps\n",
      "\u001b[32mcdo(1) fillmiss: \u001b[0mProcessed 114881195 values from 1 variable over 365 timesteps\n",
      "\u001b[32mcdo    ifthen: \u001b[0mProcessed 115195938 values from 2 variables over 366 timesteps [54.07s 142MB]\n",
      "\u001b[32mcdo(1) fillmiss: \u001b[0mProcess started\n",
      "\u001b[32mcdo(2) remapbil: \u001b[0mProcess started\n",
      "\u001b[32mcdo    ifthen: \u001b[0mFilling up stream1 >../../subset/idn_subset_chirps.nc< by copying the first timestep.\n",
      "\u001b[32mcdo(2) remapbil: \u001b[0mBilinear weights from lonlat (552x242) to lonlat (923x341) grid, with source mask (24223)\n",
      "cdo(2) remapbil:                        1 1 1 1 1 1 1 1 1 1 2 2 2 2 2 2 2 2 2 2 3 3 3 3 3 3 3 3 3 3 4 4 4 4 4 4 4 4 4 4 5 5 5 5 5 5 5 5 5 5 6 6 6 6 6 6 6 6 6 6 7 7 7 7 7 7 7 7 7 7 8 8 8 8 8 8 8 8 8 8 9 9 9 9 9 9 9 9 9 91\u001b[33mcdo    ifthen (Warning): \u001b[0mVariable land has a missing value of 0, this can lead to incorrect results with this operator!\n",
      "\u001b[32mcdo(2) remapbil: \u001b[0mProcessed 48758160 values from 1 variable over 365 timesteps\n",
      "\u001b[32mcdo(1) fillmiss: \u001b[0mProcessed 114881195 values from 1 variable over 365 timesteps\n",
      "\u001b[32mcdo    ifthen: \u001b[0mProcessed 115195938 values from 2 variables over 366 timesteps [52.35s 141MB]\n",
      "\u001b[32mcdo(1) fillmiss: \u001b[0mProcess started\n",
      "\u001b[32mcdo(2) remapbil: \u001b[0mProcess started\n",
      "\u001b[32mcdo    ifthen: \u001b[0mFilling up stream1 >../../subset/idn_subset_chirps.nc< by copying the first timestep.\n",
      "\u001b[32mcdo(2) remapbil: \u001b[0mBilinear weights from lonlat (552x242) to lonlat (923x341) grid, with source mask (24223)\n",
      "cdo(2) remapbil:                        1 1 1 1 1 1 1 1 1 1 2 2 2 2 2 2 2 2 2 2 3 3 3 3 3 3 3 3 3 3 4 4 4 4 4 4 4 4 4 4 5 5 5 5 5 5 5 5 5 5 6 6 6 6 6 6 6 6 6 6 7 7 7 7 7 7 7 7 7 7 8 8 8 8 8 8 8 8 8 8 9 9 9 9 9 9 9 9 9 91\u001b[33mcdo    ifthen (Warning): \u001b[0mVariable land has a missing value of 0, this can lead to incorrect results with this operator!\n",
      "\u001b[32mcdo(2) remapbil: \u001b[0mProcessed 48758160 values from 1 variable over 365 timesteps\n",
      "\u001b[32mcdo(1) fillmiss: \u001b[0mProcessed 114881195 values from 1 variable over 365 timesteps\n",
      "\u001b[32mcdo    ifthen: \u001b[0mProcessed 115195938 values from 2 variables over 366 timesteps [53.70s 141MB]\n",
      "\u001b[32mcdo(1) fillmiss: \u001b[0mProcess started\n",
      "\u001b[32mcdo(2) remapbil: \u001b[0mProcess started\n",
      "\u001b[32mcdo    ifthen: \u001b[0mFilling up stream1 >../../subset/idn_subset_chirps.nc< by copying the first timestep.\n",
      "\u001b[32mcdo(2) remapbil: \u001b[0mBilinear weights from lonlat (552x242) to lonlat (923x341) grid, with source mask (24223)\n",
      "cdo(2) remapbil:                        1 1 1 1 1 1 1 1 1 1 2 2 2 2 2 2 2 2 2 2 3 3 3 3 3 3 3 3 3 3 4 4 4 4 4 4 4 4 4 4 5 5 5 5 5 5 5 5 5 5 6 6 6 6 6 6 6 6 6 6 7 7 7 7 7 7 7 7 7 7 8 8 8 8 8 8 8 8 8 8 9 9 9 9 9 9 9 9 9 91\u001b[33mcdo    ifthen (Warning): \u001b[0mVariable land has a missing value of 0, this can lead to incorrect results with this operator!\n",
      "\u001b[32mcdo(2) remapbil: \u001b[0mProcessed 48891744 values from 1 variable over 366 timesteps\n",
      "\u001b[32mcdo(1) fillmiss: \u001b[0mProcessed 115195938 values from 1 variable over 366 timesteps\n",
      "\u001b[32mcdo    ifthen: \u001b[0mProcessed 115510681 values from 2 variables over 367 timesteps [53.61s 142MB]\n",
      "\u001b[32mcdo(1) fillmiss: \u001b[0mProcess started\n",
      "\u001b[32mcdo(2) remapbil: \u001b[0mProcess started\n",
      "\u001b[32mcdo    ifthen: \u001b[0mFilling up stream1 >../../subset/idn_subset_chirps.nc< by copying the first timestep.\n",
      "\u001b[32mcdo(2) remapbil: \u001b[0mBilinear weights from lonlat (552x242) to lonlat (923x341) grid, with source mask (24223)\n",
      "cdo(2) remapbil:                        1 1 1 1 1 1 1 1 1 1 2 2 2 2 2 2 2 2 2 2 3 3 3 3 3 3 3 3 3 3 4 4 4 4 4 4 4 4 4 4 5 5 5 5 5 5 5 5 5 5 6 6 6 6 6 6 6 6 6 6 7 7 7 7 7 7 7 7 7 7 8 8 8 8 8 8 8 8 8 8 9 9 9 9 9 9 9 9 9 91\u001b[33mcdo    ifthen (Warning): \u001b[0mVariable land has a missing value of 0, this can lead to incorrect results with this operator!\n",
      "\u001b[32mcdo(2) remapbil: \u001b[0mProcessed 48758160 values from 1 variable over 365 timesteps\n",
      "\u001b[32mcdo(1) fillmiss: \u001b[0mProcessed 114881195 values from 1 variable over 365 timesteps\n",
      "\u001b[32mcdo    ifthen: \u001b[0mProcessed 115195938 values from 2 variables over 366 timesteps [55.11s 144MB]\n",
      "\u001b[32mcdo(1) fillmiss: \u001b[0mProcess started\n",
      "\u001b[32mcdo(2) remapbil: \u001b[0mProcess started\n",
      "\u001b[32mcdo    ifthen: \u001b[0mFilling up stream1 >../../subset/idn_subset_chirps.nc< by copying the first timestep.\n",
      "\u001b[32mcdo(2) remapbil: \u001b[0mBilinear weights from lonlat (552x242) to lonlat (923x341) grid, with source mask (24223)\n",
      "cdo(2) remapbil:                        1 1 1 1 1 1 1 1 1 1 2 2 2 2 2 2 2 2 2 2 3 3 3 3 3 3 3 3 3 3 4 4 4 4 4 4 4 4 4 4 5 5 5 5 5 5 5 5 5 5 6 6 6 6 6 6 6 6 6 6 7 7 7 7 7 7 7 7 7 7 8 8 8 8 8 8 8 8 8 8 9 9 9 9 9 9 9 9 9 91\u001b[33mcdo    ifthen (Warning): \u001b[0mVariable land has a missing value of 0, this can lead to incorrect results with this operator!\n",
      "\u001b[32mcdo(2) remapbil: \u001b[0mProcessed 48758160 values from 1 variable over 365 timesteps\n",
      "\u001b[32mcdo(1) fillmiss: \u001b[0mProcessed 114881195 values from 1 variable over 365 timesteps\n",
      "\u001b[32mcdo    ifthen: \u001b[0mProcessed 115195938 values from 2 variables over 366 timesteps [53.82s 142MB]\n",
      "\u001b[32mcdo(1) fillmiss: \u001b[0mProcess started\n",
      "\u001b[32mcdo(2) remapbil: \u001b[0mProcess started\n",
      "\u001b[32mcdo    ifthen: \u001b[0mFilling up stream1 >../../subset/idn_subset_chirps.nc< by copying the first timestep.\n",
      "\u001b[32mcdo(2) remapbil: \u001b[0mBilinear weights from lonlat (552x242) to lonlat (923x341) grid, with source mask (24223)\n",
      "cdo(2) remapbil:                        1 1 1 1 1 1 1 1 1 1 2 2 2 2 2 2 2 2 2 2 3 3 3 3 3 3 3 3 3 3 4 4 4 4 4 4 4 4 4 4 5 5 5 5 5 5 5 5 5 5 6 6 6 6 6 6 6 6 6 6 7 7 7 7 7 7 7 7 7 7 8 8 8 8 8 8 8 8 8 8 9 9 9 9 9 9 9 9 9 91\u001b[33mcdo    ifthen (Warning): \u001b[0mVariable land has a missing value of 0, this can lead to incorrect results with this operator!\n",
      "\u001b[32mcdo(2) remapbil: \u001b[0mProcessed 48758160 values from 1 variable over 365 timesteps\n",
      "\u001b[32mcdo(1) fillmiss: \u001b[0mProcessed 114881195 values from 1 variable over 365 timesteps\n",
      "\u001b[32mcdo    ifthen: \u001b[0mProcessed 115195938 values from 2 variables over 366 timesteps [53.53s 141MB]\n",
      "\u001b[32mcdo(1) fillmiss: \u001b[0mProcess started\n",
      "\u001b[32mcdo(2) remapbil: \u001b[0mProcess started\n",
      "\u001b[32mcdo    ifthen: \u001b[0mFilling up stream1 >../../subset/idn_subset_chirps.nc< by copying the first timestep.\n",
      "\u001b[32mcdo(2) remapbil: \u001b[0mBilinear weights from lonlat (552x242) to lonlat (923x341) grid, with source mask (24223)\n",
      "cdo(2) remapbil:                        1 1 1 1 1 1 1 1 1 1 2 2 2 2 2 2 2 2 2 2 3 3 3 3 3 3 3 3 3 3 4 4 4 4 4 4 4 4 4 4 5 5 5 5 5 5 5 5 5 5 6 6 6 6 6 6 6 6 6 6 7 7 7 7 7 7 7 7 7 7 8 8 8 8 8 8 8 8 8 8 9 9 9 9 9 9 9 9 9 91\u001b[33mcdo    ifthen (Warning): \u001b[0mVariable land has a missing value of 0, this can lead to incorrect results with this operator!\n",
      "\u001b[32mcdo(2) remapbil: \u001b[0mProcessed 48891744 values from 1 variable over 366 timesteps\n",
      "\u001b[32mcdo(1) fillmiss: \u001b[0mProcessed 115195938 values from 1 variable over 366 timesteps\n",
      "\u001b[32mcdo    ifthen: \u001b[0mProcessed 115510681 values from 2 variables over 367 timesteps [53.36s 142MB]\n",
      "\u001b[32mcdo(1) fillmiss: \u001b[0mProcess started\n",
      "\u001b[32mcdo(2) remapbil: \u001b[0mProcess started\n",
      "\u001b[32mcdo    ifthen: \u001b[0mFilling up stream1 >../../subset/idn_subset_chirps.nc< by copying the first timestep.\n",
      "\u001b[32mcdo(2) remapbil: \u001b[0mBilinear weights from lonlat (552x242) to lonlat (923x341) grid, with source mask (24223)\n",
      "cdo(2) remapbil:                        1 1 1 1 1 1 1 1 1 1 2 2 2 2 2 2 2 2 2 2 3 3 3 3 3 3 3 3 3 3 4 4 4 4 4 4 4 4 4 4 5 5 5 5 5 5 5 5 5 5 6 6 6 6 6 6 6 6 6 6 7 7 7 7 7 7 7 7 7 7 8 8 8 8 8 8 8 8 8 8 9 9 9 9 9 9 9 9 9 91\u001b[33mcdo    ifthen (Warning): \u001b[0mVariable land has a missing value of 0, this can lead to incorrect results with this operator!\n",
      "\u001b[32mcdo(2) remapbil: \u001b[0mProcessed 48758160 values from 1 variable over 365 timesteps\n",
      "\u001b[32mcdo(1) fillmiss: \u001b[0mProcessed 114881195 values from 1 variable over 365 timesteps\n",
      "\u001b[32mcdo    ifthen: \u001b[0mProcessed 115195938 values from 2 variables over 366 timesteps [54.28s 141MB]\n",
      "\u001b[32mcdo(1) fillmiss: \u001b[0mProcess started\n",
      "\u001b[32mcdo(2) remapbil: \u001b[0mProcess started\n",
      "\u001b[32mcdo    ifthen: \u001b[0mFilling up stream1 >../../subset/idn_subset_chirps.nc< by copying the first timestep.\n",
      "\u001b[32mcdo(2) remapbil: \u001b[0mBilinear weights from lonlat (552x242) to lonlat (923x341) grid, with source mask (24223)\n",
      "cdo(2) remapbil:                        1 1 1 1 1 1 1 1 1 1 2 2 2 2 2 2 2 2 2 2 3 3 3 3 3 3 3 3 3 3 4 4 4 4 4 4 4 4 4 4 5 5 5 5 5 5 5 5 5 5 6 6 6 6 6 6 6 6 6 6 7 7 7 7 7 7 7 7 7 7 8 8 8 8 8 8 8 8 8 8 9 9 9 9 9 9 9 9 9 91\u001b[33mcdo    ifthen (Warning): \u001b[0mVariable land has a missing value of 0, this can lead to incorrect results with this operator!\n",
      "\u001b[32mcdo(2) remapbil: \u001b[0mProcessed 48758160 values from 1 variable over 365 timesteps\n",
      "\u001b[32mcdo(1) fillmiss: \u001b[0mProcessed 114881195 values from 1 variable over 365 timesteps\n",
      "\u001b[32mcdo    ifthen: \u001b[0mProcessed 115195938 values from 2 variables over 366 timesteps [52.90s 141MB]\n",
      "\u001b[32mcdo(1) fillmiss: \u001b[0mProcess started\n",
      "\u001b[32mcdo(2) remapbil: \u001b[0mProcess started\n",
      "\u001b[32mcdo    ifthen: \u001b[0mFilling up stream1 >../../subset/idn_subset_chirps.nc< by copying the first timestep.\n",
      "\u001b[32mcdo(2) remapbil: \u001b[0mBilinear weights from lonlat (552x242) to lonlat (923x341) grid, with source mask (24223)\n",
      "cdo(2) remapbil:                        1 1 1 1 1 1 1 1 1 1 2 2 2 2 2 2 2 2 2 2 3 3 3 3 3 3 3 3 3 3 4 4 4 4 4 4 4 4 4 4 5 5 5 5 5 5 5 5 5 5 6 6 6 6 6 6 6 6 6 6 7 7 7 7 7 7 7 7 7 7 8 8 8 8 8 8 8 8 8 8 9 9 9 9 9 9 9 9 9 91\u001b[33mcdo    ifthen (Warning): \u001b[0mVariable land has a missing value of 0, this can lead to incorrect results with this operator!\n",
      "\u001b[32mcdo(2) remapbil: \u001b[0mProcessed 48758160 values from 1 variable over 365 timesteps\n",
      "\u001b[32mcdo(1) fillmiss: \u001b[0mProcessed 114881195 values from 1 variable over 365 timesteps\n",
      "\u001b[32mcdo    ifthen: \u001b[0mProcessed 115195938 values from 2 variables over 366 timesteps [52.57s 142MB]\n",
      "\u001b[32mcdo(1) fillmiss: \u001b[0mProcess started\n",
      "\u001b[32mcdo(2) remapbil: \u001b[0mProcess started\n",
      "\u001b[32mcdo    ifthen: \u001b[0mFilling up stream1 >../../subset/idn_subset_chirps.nc< by copying the first timestep.\n",
      "\u001b[32mcdo(2) remapbil: \u001b[0mBilinear weights from lonlat (552x242) to lonlat (923x341) grid, with source mask (24223)\n",
      "cdo(2) remapbil:                        1 1 1 1 1 1 1 1 1 1 2 2 2 2 2 2 2 2 2 2 3 3 3 3 3 3 3 3 3 3 4 4 4 4 4 4 4 4 4 4 5 5 5 5 5 5 5 5 5 5 6 6 6 6 6 6 6 6 6 6 7 7 7 7 7 7 7 7 7 7 8 8 8 8 8 8 8 8 8 8 9 9 9 9 9 9 9 9 9 91\u001b[33mcdo    ifthen (Warning): \u001b[0mVariable land has a missing value of 0, this can lead to incorrect results with this operator!\n",
      "\u001b[32mcdo(2) remapbil: \u001b[0mProcessed 48891744 values from 1 variable over 366 timesteps\n",
      "\u001b[32mcdo(1) fillmiss: \u001b[0mProcessed 115195938 values from 1 variable over 366 timesteps\n",
      "\u001b[32mcdo    ifthen: \u001b[0mProcessed 115510681 values from 2 variables over 367 timesteps [52.55s 142MB]\n",
      "\u001b[32mcdo(1) fillmiss: \u001b[0mProcess started\n",
      "\u001b[32mcdo(2) remapbil: \u001b[0mProcess started\n",
      "\u001b[32mcdo    ifthen: \u001b[0mFilling up stream1 >../../subset/idn_subset_chirps.nc< by copying the first timestep.\n",
      "\u001b[32mcdo(2) remapbil: \u001b[0mBilinear weights from lonlat (552x242) to lonlat (923x341) grid, with source mask (24223)\n",
      "cdo(2) remapbil:                        1 1 1 1 1 1 1 1 1 1 2 2 2 2 2 2 2 2 2 2 3 3 3 3 3 3 3 3 3 3 4 4 4 4 4 4 4 4 4 4 5 5 5 5 5 5 5 5 5 5 6 6 6 6 6 6 6 6 6 6 7 7 7 7 7 7 7 7 7 7 8 8 8 8 8 8 8 8 8 8 9 9 9 9 9 9 9 9 9 91\u001b[33mcdo    ifthen (Warning): \u001b[0mVariable land has a missing value of 0, this can lead to incorrect results with this operator!\n",
      "\u001b[32mcdo(2) remapbil: \u001b[0mProcessed 48758160 values from 1 variable over 365 timesteps\n",
      "\u001b[32mcdo(1) fillmiss: \u001b[0mProcessed 114881195 values from 1 variable over 365 timesteps\n",
      "\u001b[32mcdo    ifthen: \u001b[0mProcessed 115195938 values from 2 variables over 366 timesteps [52.54s 142MB]\n",
      "\u001b[32mcdo(1) fillmiss: \u001b[0mProcess started\n",
      "\u001b[32mcdo(2) remapbil: \u001b[0mProcess started\n",
      "\u001b[32mcdo    ifthen: \u001b[0mFilling up stream1 >../../subset/idn_subset_chirps.nc< by copying the first timestep.\n",
      "\u001b[32mcdo(2) remapbil: \u001b[0mBilinear weights from lonlat (552x242) to lonlat (923x341) grid, with source mask (24223)\n",
      "cdo(2) remapbil:                        1 1 1 1 1 1 1 1 1 1 2 2 2 2 2 2 2 2 2 2 3 3 3 3 3 3 3 3 3 3 4 4 4 4 4 4 4 4 4 4 5 5 5 5 5 5 5 5 5 5 6 6 6 6 6 6 6 6 6 6 7 7 7 7 7 7 7 7 7 7 8 8 8 8 8 8 8 8 8 8 9 9 9 9 9 9 9 9 9 91\u001b[33mcdo    ifthen (Warning): \u001b[0mVariable land has a missing value of 0, this can lead to incorrect results with this operator!\n",
      "\u001b[32mcdo(2) remapbil: \u001b[0mProcessed 48758160 values from 1 variable over 365 timesteps\n",
      "\u001b[32mcdo(1) fillmiss: \u001b[0mProcessed 114881195 values from 1 variable over 365 timesteps\n",
      "\u001b[32mcdo    ifthen: \u001b[0mProcessed 115195938 values from 2 variables over 366 timesteps [53.22s 146MB]\n",
      "\u001b[32mcdo(1) fillmiss: \u001b[0mProcess started\n",
      "\u001b[32mcdo(2) remapbil: \u001b[0mProcess started\n",
      "\u001b[32mcdo    ifthen: \u001b[0mFilling up stream1 >../../subset/idn_subset_chirps.nc< by copying the first timestep.\n",
      "\u001b[32mcdo(2) remapbil: \u001b[0mBilinear weights from lonlat (552x242) to lonlat (923x341) grid, with source mask (24223)\n",
      "cdo(2) remapbil:                        1 1 1 1 1 1 1 1 1 1 2 2 2 2 2 2 2 2 2 2 3 3 3 3 3 3 3 3 3 3 4 4 4 4 4 4 4 4 4 4 5 5 5 5 5 5 5 5 5 5 6 6 6 6 6 6 6 6 6 6 7 7 7 7 7 7 7 7 7 7 8 8 8 8 8 8 8 8 8 8 9 9 9 9 9 9 9 9 9 91\u001b[33mcdo    ifthen (Warning): \u001b[0mVariable land has a missing value of 0, this can lead to incorrect results with this operator!\n",
      "\u001b[32mcdo(2) remapbil: \u001b[0mProcessed 48758160 values from 1 variable over 365 timesteps\n",
      "\u001b[32mcdo(1) fillmiss: \u001b[0mProcessed 114881195 values from 1 variable over 365 timesteps\n",
      "\u001b[32mcdo    ifthen: \u001b[0mProcessed 115195938 values from 2 variables over 366 timesteps [53.80s 142MB]\n",
      "\u001b[32mcdo(1) fillmiss: \u001b[0mProcess started\n",
      "\u001b[32mcdo(2) remapbil: \u001b[0mProcess started\n",
      "\u001b[32mcdo    ifthen: \u001b[0mFilling up stream1 >../../subset/idn_subset_chirps.nc< by copying the first timestep.\n",
      "\u001b[32mcdo(2) remapbil: \u001b[0mBilinear weights from lonlat (552x242) to lonlat (923x341) grid, with source mask (24223)\n",
      "cdo(2) remapbil:                        1 1 1 1 1 1 1 1 1 1 2 2 2 2 2 2 2 2 2 2 3 3 3 3 3 3 3 3 3 3 4 4 4 4 4 4 4 4 4 4 5 5 5 5 5 5 5 5 5 5 6 6 6 6 6 6 6 6 6 6 7 7 7 7 7 7 7 7 7 7 8 8 8 8 8 8 8 8 8 8 9 9 9 9 9 9 9 9 9 91\u001b[33mcdo    ifthen (Warning): \u001b[0mVariable land has a missing value of 0, this can lead to incorrect results with this operator!\n",
      "\u001b[32mcdo(2) remapbil: \u001b[0mProcessed 48891744 values from 1 variable over 366 timesteps\n",
      "\u001b[32mcdo(1) fillmiss: \u001b[0mProcessed 115195938 values from 1 variable over 366 timesteps\n",
      "\u001b[32mcdo    ifthen: \u001b[0mProcessed 115510681 values from 2 variables over 367 timesteps [53.74s 142MB]\n",
      "\u001b[32mcdo(1) fillmiss: \u001b[0mProcess started\n",
      "\u001b[32mcdo(2) remapbil: \u001b[0mProcess started\n",
      "\u001b[32mcdo    ifthen: \u001b[0mFilling up stream1 >../../subset/idn_subset_chirps.nc< by copying the first timestep.\n",
      "\u001b[32mcdo(2) remapbil: \u001b[0mBilinear weights from lonlat (552x242) to lonlat (923x341) grid, with source mask (24223)\n",
      "cdo(2) remapbil:                        1 1 1 1 1 1 1 1 1 1 2 2 2 2 2 2 2 2 2 2 3 3 3 3 3 3 3 3 3 3 4 4 4 4 4 4 4 4 4 4 5 5 5 5 5 5 5 5 5 5 6 6 6 6 6 6 6 6 6 6 7 7 7 7 7 7 7 7 7 7 8 8 8 8 8 8 8 8 8 8 9 9 9 9 9 9 9 9 9 91\u001b[33mcdo    ifthen (Warning): \u001b[0mVariable land has a missing value of 0, this can lead to incorrect results with this operator!\n",
      "\u001b[32mcdo(2) remapbil: \u001b[0mProcessed 48758160 values from 1 variable over 365 timesteps\n",
      "\u001b[32mcdo(1) fillmiss: \u001b[0mProcessed 114881195 values from 1 variable over 365 timesteps\n",
      "\u001b[32mcdo    ifthen: \u001b[0mProcessed 115195938 values from 2 variables over 366 timesteps [53.91s 142MB]\n",
      "\u001b[32mcdo(1) fillmiss: \u001b[0mProcess started\n",
      "\u001b[32mcdo(2) remapbil: \u001b[0mProcess started\n",
      "\u001b[32mcdo    ifthen: \u001b[0mFilling up stream1 >../../subset/idn_subset_chirps.nc< by copying the first timestep.\n",
      "\u001b[32mcdo(2) remapbil: \u001b[0mBilinear weights from lonlat (552x242) to lonlat (923x341) grid, with source mask (24223)\n",
      "cdo(2) remapbil:                        1 1 1 1 1 1 1 1 1 1 2 2 2 2 2 2 2 2 2 2 3 3 3 3 3 3 3 3 3 3 4 4 4 4 4 4 4 4 4 4 5 5 5 5 5 5 5 5 5 5 6 6 6 6 6 6 6 6 6 6 7 7 7 7 7 7 7 7 7 7 8 8 8 8 8 8 8 8 8 8 9 9 9 9 9 9 9 9 9 91\u001b[33mcdo    ifthen (Warning): \u001b[0mVariable land has a missing value of 0, this can lead to incorrect results with this operator!\n",
      "\u001b[32mcdo(2) remapbil: \u001b[0mProcessed 48758160 values from 1 variable over 365 timesteps\n",
      "\u001b[32mcdo(1) fillmiss: \u001b[0mProcessed 114881195 values from 1 variable over 365 timesteps\n",
      "\u001b[32mcdo    ifthen: \u001b[0mProcessed 115195938 values from 2 variables over 366 timesteps [53.25s 141MB]\n",
      "\u001b[32mcdo(1) fillmiss: \u001b[0mProcess started\n",
      "\u001b[32mcdo(2) remapbil: \u001b[0mProcess started\n",
      "\u001b[32mcdo    ifthen: \u001b[0mFilling up stream1 >../../subset/idn_subset_chirps.nc< by copying the first timestep.\n",
      "\u001b[32mcdo(2) remapbil: \u001b[0mBilinear weights from lonlat (552x242) to lonlat (923x341) grid, with source mask (24223)\n",
      "cdo(2) remapbil:                        1 1 1 1 1 1 1 1 1 1 2 2 2 2 2 2 2 2 2 2 3 3 3 3 3 3 3 3 3 3 4 4 4 4 4 4 4 4 4 4 5 5 5 5 5 5 5 5 5 5 6 6 6 6 6 6 6 6 6 6 7 7 7 7 7 7 7 7 7 7 8 8 8 8 8 8 8 8 8 8 9 9 9 9 9 9 9 9 9 91\u001b[33mcdo    ifthen (Warning): \u001b[0mVariable land has a missing value of 0, this can lead to incorrect results with this operator!\n",
      "\u001b[32mcdo(2) remapbil: \u001b[0mProcessed 48758160 values from 1 variable over 365 timesteps\n",
      "\u001b[32mcdo(1) fillmiss: \u001b[0mProcessed 114881195 values from 1 variable over 365 timesteps\n",
      "\u001b[32mcdo    ifthen: \u001b[0mProcessed 115195938 values from 2 variables over 366 timesteps [52.86s 142MB]\n",
      "\u001b[32mcdo(1) fillmiss: \u001b[0mProcess started\n",
      "\u001b[32mcdo(2) remapbil: \u001b[0mProcess started\n",
      "\u001b[32mcdo    ifthen: \u001b[0mFilling up stream1 >../../subset/idn_subset_chirps.nc< by copying the first timestep.\n",
      "\u001b[32mcdo(2) remapbil: \u001b[0mBilinear weights from lonlat (552x242) to lonlat (923x341) grid, with source mask (24223)\n",
      "cdo(2) remapbil:                        1 1 1 1 1 1 1 1 1 1 2 2 2 2 2 2 2 2 2 2 3 3 3 3 3 3 3 3 3 3 4 4 4 4 4 4 4 4 4 4 5 5 5 5 5 5 5 5 5 5 6 6 6 6 6 6 6 6 6 6 7 7 7 7 7 7 7 7 7 7 8 8 8 8 8 8 8 8 8 8 9 9 9 9 9 9 9 9 9 91\u001b[33mcdo    ifthen (Warning): \u001b[0mVariable land has a missing value of 0, this can lead to incorrect results with this operator!\n",
      "\u001b[32mcdo(2) remapbil: \u001b[0mProcessed 48891744 values from 1 variable over 366 timesteps\n",
      "\u001b[32mcdo(1) fillmiss: \u001b[0mProcessed 115195938 values from 1 variable over 366 timesteps\n",
      "\u001b[32mcdo    ifthen: \u001b[0mProcessed 115510681 values from 2 variables over 367 timesteps [53.59s 142MB]\n",
      "\u001b[32mcdo(1) fillmiss: \u001b[0mProcess started\n",
      "\u001b[32mcdo(2) remapbil: \u001b[0mProcess started\n",
      "\u001b[32mcdo    ifthen: \u001b[0mFilling up stream1 >../../subset/idn_subset_chirps.nc< by copying the first timestep.\n",
      "\u001b[32mcdo(2) remapbil: \u001b[0mBilinear weights from lonlat (552x242) to lonlat (923x341) grid, with source mask (24223)\n",
      "cdo(2) remapbil:                        1 1 1 1 1 1 1 1 1 1 2 2 2 2 2 2 2 2 2 2 3 3 3 3 3 3 3 3 3 3 4 4 4 4 4 4 4 4 4 4 5 5 5 5 5 5 5 5 5 5 6 6 6 6 6 6 6 6 6 6 7 7 7 7 7 7 7 7 7 7 8 8 8 8 8 8 8 8 8 8 9 9 9 9 9 9 9 9 9 91\u001b[33mcdo    ifthen (Warning): \u001b[0mVariable land has a missing value of 0, this can lead to incorrect results with this operator!\n",
      "\u001b[32mcdo(2) remapbil: \u001b[0mProcessed 48758160 values from 1 variable over 365 timesteps\n",
      "\u001b[32mcdo(1) fillmiss: \u001b[0mProcessed 114881195 values from 1 variable over 365 timesteps\n",
      "\u001b[32mcdo    ifthen: \u001b[0mProcessed 115195938 values from 2 variables over 366 timesteps [54.15s 140MB]\n",
      "\u001b[32mcdo(1) fillmiss: \u001b[0mProcess started\n",
      "\u001b[32mcdo(2) remapbil: \u001b[0mProcess started\n",
      "\u001b[32mcdo    ifthen: \u001b[0mFilling up stream1 >../../subset/idn_subset_chirps.nc< by copying the first timestep.\n",
      "\u001b[32mcdo(2) remapbil: \u001b[0mBilinear weights from lonlat (552x242) to lonlat (923x341) grid, with source mask (24223)\n",
      "cdo(2) remapbil:                        1 1 1 1 1 1 1 1 1 1 2 2 2 2 2 2 2 2 2 2 3 3 3 3 3 3 3 3 3 3 4 4 4 4 4 4 4 4 4 4 5 5 5 5 5 5 5 5 5 5 6 6 6 6 6 6 6 6 6 6 7 7 7 7 7 7 7 7 7 7 8 8 8 8 8 8 8 8 8 8 9 9 9 9 9 9 9 9 9 91\u001b[33mcdo    ifthen (Warning): \u001b[0mVariable land has a missing value of 0, this can lead to incorrect results with this operator!\n",
      "\u001b[32mcdo(2) remapbil: \u001b[0mProcessed 48758160 values from 1 variable over 365 timesteps\n",
      "\u001b[32mcdo(1) fillmiss: \u001b[0mProcessed 114881195 values from 1 variable over 365 timesteps\n",
      "\u001b[32mcdo    ifthen: \u001b[0mProcessed 115195938 values from 2 variables over 366 timesteps [53.34s 141MB]\n",
      "\u001b[32mcdo(1) fillmiss: \u001b[0mProcess started\n",
      "\u001b[32mcdo(2) remapbil: \u001b[0mProcess started\n",
      "\u001b[32mcdo    ifthen: \u001b[0mFilling up stream1 >../../subset/idn_subset_chirps.nc< by copying the first timestep.\n",
      "\u001b[32mcdo(2) remapbil: \u001b[0mBilinear weights from lonlat (552x242) to lonlat (923x341) grid, with source mask (24223)\n",
      "cdo(2) remapbil:                        1 1 1 1 1 1 1 1 1 1 2 2 2 2 2 2 2 2 2 2 3 3 3 3 3 3 3 3 3 3 4 4 4 4 4 4 4 4 4 4 5 5 5 5 5 5 5 5 5 5 6 6 6 6 6 6 6 6 6 6 7 7 7 7 7 7 7 7 7 7 8 8 8 8 8 8 8 8 8 8 9 9 9 9 9 9 9 9 9 91\u001b[33mcdo    ifthen (Warning): \u001b[0mVariable land has a missing value of 0, this can lead to incorrect results with this operator!\n",
      "\u001b[32mcdo(2) remapbil: \u001b[0mProcessed 48758160 values from 1 variable over 365 timesteps\n",
      "\u001b[32mcdo(1) fillmiss: \u001b[0mProcessed 114881195 values from 1 variable over 365 timesteps\n",
      "\u001b[32mcdo    ifthen: \u001b[0mProcessed 115195938 values from 2 variables over 366 timesteps [53.19s 141MB]\n",
      "\u001b[32mcdo(1) fillmiss: \u001b[0mProcess started\n",
      "\u001b[32mcdo(2) remapbil: \u001b[0mProcess started\n",
      "\u001b[32mcdo    ifthen: \u001b[0mFilling up stream1 >../../subset/idn_subset_chirps.nc< by copying the first timestep.\n",
      "\u001b[32mcdo(2) remapbil: \u001b[0mBilinear weights from lonlat (552x242) to lonlat (923x341) grid, with source mask (24223)\n",
      "cdo(2) remapbil:                        1 1 1 1 1 1 1 1 1 1 2 2 2 2 2 2 2 2 2 2 3 3 3 3 3 3 3 3 3 3 4 4 4 4 4 4 4 4 4 4 5 5 5 5 5 5 5 5 5 5 6 6 6 6 6 6 6 6 6 6 7 7 7 7 7 7 7 7 7 7 8 8 8 8 8 8 8 8 8 8 9 9 9 9 9 9 9 9 9 91\u001b[33mcdo    ifthen (Warning): \u001b[0mVariable land has a missing value of 0, this can lead to incorrect results with this operator!\n",
      "\u001b[32mcdo(2) remapbil: \u001b[0mProcessed 48891744 values from 1 variable over 366 timesteps\n",
      "\u001b[32mcdo(1) fillmiss: \u001b[0mProcessed 115195938 values from 1 variable over 366 timesteps\n",
      "\u001b[32mcdo    ifthen: \u001b[0mProcessed 115510681 values from 2 variables over 367 timesteps [52.97s 140MB]\n",
      "\u001b[32mcdo(1) fillmiss: \u001b[0mProcess started\n",
      "\u001b[32mcdo(2) remapbil: \u001b[0mProcess started\n",
      "\u001b[32mcdo    ifthen: \u001b[0mFilling up stream1 >../../subset/idn_subset_chirps.nc< by copying the first timestep.\n",
      "\u001b[32mcdo(2) remapbil: \u001b[0mBilinear weights from lonlat (552x242) to lonlat (923x341) grid, with source mask (24223)\n",
      "cdo(2) remapbil:                        1 1 1 1 1 1 1 1 1 1 2 2 2 2 2 2 2 2 2 2 3 3 3 3 3 3 3 3 3 3 4 4 4 4 4 4 4 4 4 4 5 5 5 5 5 5 5 5 5 5 6 6 6 6 6 6 6 6 6 6 7 7 7 7 7 7 7 7 7 7 8 8 8 8 8 8 8 8 8 8 9 9 9 9 9 9 9 9 9 91\u001b[33mcdo    ifthen (Warning): \u001b[0mVariable land has a missing value of 0, this can lead to incorrect results with this operator!\n",
      "\u001b[32mcdo(2) remapbil: \u001b[0mProcessed 48758160 values from 1 variable over 365 timesteps\n",
      "\u001b[32mcdo(1) fillmiss: \u001b[0mProcessed 114881195 values from 1 variable over 365 timesteps\n",
      "\u001b[32mcdo    ifthen: \u001b[0mProcessed 115195938 values from 2 variables over 366 timesteps [54.57s 142MB]\n",
      "\u001b[32mcdo(1) fillmiss: \u001b[0mProcess started\n",
      "\u001b[32mcdo(2) remapbil: \u001b[0mProcess started\n",
      "\u001b[32mcdo    ifthen: \u001b[0mFilling up stream1 >../../subset/idn_subset_chirps.nc< by copying the first timestep.\n",
      "\u001b[32mcdo(2) remapbil: \u001b[0mBilinear weights from lonlat (552x242) to lonlat (923x341) grid, with source mask (24223)\n",
      "cdo(2) remapbil:                        1 1 1 1 1 1 1 1 1 1 2 2 2 2 2 2 2 2 2 2 3 3 3 3 3 3 3 3 3 3 4 4 4 4 4 4 4 4 4 4 5 5 5 5 5 5 5 5 5 5 6 6 6 6 6 6 6 6 6 6 7 7 7 7 7 7 7 7 7 7 8 8 8 8 8 8 8 8 8 8 9 9 9 9 9 9 9 9 9 91\u001b[33mcdo    ifthen (Warning): \u001b[0mVariable land has a missing value of 0, this can lead to incorrect results with this operator!\n",
      "\u001b[32mcdo(2) remapbil: \u001b[0mProcessed 48758160 values from 1 variable over 365 timesteps\n",
      "\u001b[32mcdo(1) fillmiss: \u001b[0mProcessed 114881195 values from 1 variable over 365 timesteps\n",
      "\u001b[32mcdo    ifthen: \u001b[0mProcessed 115195938 values from 2 variables over 366 timesteps [53.10s 142MB]\n",
      "\u001b[32mcdo(1) fillmiss: \u001b[0mProcess started\n",
      "\u001b[32mcdo(2) remapbil: \u001b[0mProcess started\n",
      "\u001b[32mcdo    ifthen: \u001b[0mFilling up stream1 >../../subset/idn_subset_chirps.nc< by copying the first timestep.\n",
      "\u001b[32mcdo(2) remapbil: \u001b[0mBilinear weights from lonlat (552x242) to lonlat (923x341) grid, with source mask (24223)\n",
      "cdo(2) remapbil:                        1 1 1 1 1 1 1 1 1 1 2 2 2 2 2 2 2 2 2 2 3 3 3 3 3 3 3 3 3 3 4 4 4 4 4 4 4 4 4 4 5 5 5 5 5 5 5 5 5 5 6 6 6 6 6 6 6 6 6 6 7 7 7 7 7 7 7 7 7 7 8 8 8 8 8 8 8 8 8 8 9 9 9 9 9 9 9 9 9 91\u001b[33mcdo    ifthen (Warning): \u001b[0mVariable land has a missing value of 0, this can lead to incorrect results with this operator!\n",
      "\u001b[32mcdo(2) remapbil: \u001b[0mProcessed 48758160 values from 1 variable over 365 timesteps\n",
      "\u001b[32mcdo(1) fillmiss: \u001b[0mProcessed 114881195 values from 1 variable over 365 timesteps\n",
      "\u001b[32mcdo    ifthen: \u001b[0mProcessed 115195938 values from 2 variables over 366 timesteps [52.94s 141MB]\n",
      "\u001b[32mcdo(1) fillmiss: \u001b[0mProcess started\n",
      "\u001b[32mcdo(2) remapbil: \u001b[0mProcess started\n",
      "\u001b[32mcdo    ifthen: \u001b[0mFilling up stream1 >../../subset/idn_subset_chirps.nc< by copying the first timestep.\n",
      "\u001b[32mcdo(2) remapbil: \u001b[0mBilinear weights from lonlat (552x242) to lonlat (923x341) grid, with source mask (24223)\n",
      "cdo(2) remapbil:                        1 1 1 1 1 1 1 1 1 1 2 2 2 2 2 2 2 2 2 2 3 3 3 3 3 3 3 3 3 3 4 4 4 4 4 4 4 4 4 4 5 5 5 5 5 5 5 5 5 5 6 6 6 6 6 6 6 6 6 6 7 7 7 7 7 7 7 7 7 7 8 8 8 8 8 8 8 8 8 8 9 9 9 9 9 9 9 9 9 91\u001b[33mcdo    ifthen (Warning): \u001b[0mVariable land has a missing value of 0, this can lead to incorrect results with this operator!\n",
      "\u001b[32mcdo(2) remapbil: \u001b[0mProcessed 48891744 values from 1 variable over 366 timesteps\n",
      "\u001b[32mcdo(1) fillmiss: \u001b[0mProcessed 115195938 values from 1 variable over 366 timesteps\n",
      "\u001b[32mcdo    ifthen: \u001b[0mProcessed 115510681 values from 2 variables over 367 timesteps [54.03s 142MB]\n",
      "\u001b[32mcdo(1) fillmiss: \u001b[0mProcess started\n",
      "\u001b[32mcdo(2) remapbil: \u001b[0mProcess started\n",
      "\u001b[32mcdo    ifthen: \u001b[0mFilling up stream1 >../../subset/idn_subset_chirps.nc< by copying the first timestep.\n",
      "\u001b[32mcdo(2) remapbil: \u001b[0mBilinear weights from lonlat (552x242) to lonlat (923x341) grid, with source mask (24223)\n",
      "cdo(2) remapbil:                        1 1 1 1 1 1 1 1 1 1 2 2 2 2 2 2 2 2 2 2 3 3 3 3 3 3 3 3 3 3 4 4 4 4 4 4 4 4 4 4 5 5 5 5 5 5 5 5 5 5 6 6 6 6 6 6 6 6 6 6 7 7 7 7 7 7 7 7 7 7 8 8 8 8 8 8 8 8 8 8 9 9 9 9 9 9 9 9 9 91\u001b[33mcdo    ifthen (Warning): \u001b[0mVariable land has a missing value of 0, this can lead to incorrect results with this operator!\n",
      "\u001b[32mcdo(2) remapbil: \u001b[0mProcessed 48758160 values from 1 variable over 365 timesteps\n",
      "\u001b[32mcdo(1) fillmiss: \u001b[0mProcessed 114881195 values from 1 variable over 365 timesteps\n",
      "\u001b[32mcdo    ifthen: \u001b[0mProcessed 115195938 values from 2 variables over 366 timesteps [56.15s 141MB]\n",
      "\u001b[32mcdo(1) fillmiss: \u001b[0mProcess started\n",
      "\u001b[32mcdo(2) remapbil: \u001b[0mProcess started\n",
      "\u001b[32mcdo    ifthen: \u001b[0mFilling up stream1 >../../subset/idn_subset_chirps.nc< by copying the first timestep.\n",
      "\u001b[32mcdo(2) remapbil: \u001b[0mBilinear weights from lonlat (552x242) to lonlat (923x341) grid, with source mask (24223)\n",
      "cdo(2) remapbil:                        1 1 1 1 1 1 1 1 1 1 2 2 2 2 2 2 2 2 2 2 3 3 3 3 3 3 3 3 3 3 4 4 4 4 4 4 4 4 4 4 5 5 5 5 5 5 5 5 5 5 6 6 6 6 6 6 6 6 6 6 7 7 7 7 7 7 7 7 7 7 8 8 8 8 8 8 8 8 8 8 9 9 9 9 9 9 9 9 9 91\u001b[33mcdo    ifthen (Warning): \u001b[0mVariable land has a missing value of 0, this can lead to incorrect results with this operator!\n",
      "\u001b[32mcdo(2) remapbil: \u001b[0mProcessed 48758160 values from 1 variable over 365 timesteps\n",
      "\u001b[32mcdo(1) fillmiss: \u001b[0mProcessed 114881195 values from 1 variable over 365 timesteps\n",
      "\u001b[32mcdo    ifthen: \u001b[0mProcessed 115195938 values from 2 variables over 366 timesteps [58.85s 140MB]\n",
      "\u001b[32mcdo(1) fillmiss: \u001b[0mProcess started\n",
      "\u001b[32mcdo(2) remapbil: \u001b[0mProcess started\n",
      "\u001b[32mcdo    ifthen: \u001b[0mFilling up stream1 >../../subset/idn_subset_chirps.nc< by copying the first timestep.\n",
      "\u001b[32mcdo(2) remapbil: \u001b[0mBilinear weights from lonlat (552x242) to lonlat (923x341) grid, with source mask (24223)\n",
      "cdo(2) remapbil:                        1 1 1 1 1 1 1 1 1 1 2 2 2 2 2 2 2 2 2 2 3 3 3 3 3 3 3 3 3 3 4 4 4 4 4 4 4 4 4 4 5 5 5 5 5 5 5 5 5 5 6 6 6 6 6 6 6 6 6 6 7 7 7 7 7 7 7 7 7 7 8 8 8 8 8 8 8 8 8 8 9 9 9 9 9 9 9 9 9 91\u001b[33mcdo    ifthen (Warning): \u001b[0mVariable land has a missing value of 0, this can lead to incorrect results with this operator!\n",
      "\u001b[32mcdo(2) remapbil: \u001b[0mProcessed 48758160 values from 1 variable over 365 timesteps\n",
      "\u001b[32mcdo(1) fillmiss: \u001b[0mProcessed 114881195 values from 1 variable over 365 timesteps\n",
      "\u001b[32mcdo    ifthen: \u001b[0mProcessed 115195938 values from 2 variables over 366 timesteps [54.91s 131MB]\n",
      "\u001b[32mcdo(1) fillmiss: \u001b[0mProcess started\n",
      "\u001b[32mcdo(2) remapbil: \u001b[0mProcess started\n",
      "\u001b[32mcdo    ifthen: \u001b[0mFilling up stream1 >../../subset/idn_subset_chirps.nc< by copying the first timestep.\n",
      "\u001b[32mcdo(2) remapbil: \u001b[0mBilinear weights from lonlat (552x242) to lonlat (923x341) grid, with source mask (24223)\n",
      "cdo(2) remapbil:                        1 1 1 1 1 1 1 1 1 1 2 2 2 2 2 2 2 2 2 2 3 3 3 3 3 3 3 3 3 3 4 4 4 4 4 4 4 4 4 4 5 5 5 5 5 5 5 5 5 5 6 6 6 6 6 6 6 6 6 6 7 7 7 7 7 7 7 7 7 7 8 8 8 8 8 8 8 8 8 8 9 9 9 9 9 9 9 9 9 91\u001b[33mcdo    ifthen (Warning): \u001b[0mVariable land has a missing value of 0, this can lead to incorrect results with this operator!\n",
      "\u001b[32mcdo(2) remapbil: \u001b[0mProcessed 48891744 values from 1 variable over 366 timesteps\n",
      "\u001b[32mcdo(1) fillmiss: \u001b[0mProcessed 115195938 values from 1 variable over 366 timesteps\n",
      "\u001b[32mcdo    ifthen: \u001b[0mProcessed 115510681 values from 2 variables over 367 timesteps [57.73s 141MB]\n",
      "\u001b[32mcdo(1) fillmiss: \u001b[0mProcess started\n",
      "\u001b[32mcdo(2) remapbil: \u001b[0mProcess started\n",
      "\u001b[32mcdo    ifthen: \u001b[0mFilling up stream1 >../../subset/idn_subset_chirps.nc< by copying the first timestep.\n",
      "\u001b[32mcdo(2) remapbil: \u001b[0mBilinear weights from lonlat (552x242) to lonlat (923x341) grid, with source mask (24223)\n",
      "cdo(2) remapbil:                        1 1 1 1 1 1 1 1 1 1 2 2 2 2 2 2 2 2 2 2 3 3 3 3 3 3 3 3 3 3 4 4 4 4 4 4 4 4 4 4 5 5 5 5 5 5 5 5 5 5 6 6 6 6 6 6 6 6 6 6 7 7 7 7 7 7 7 7 7 7 8 8 8 8 8 8 8 8 8 8 9 9 9 9 9 9 9 9 9 91\u001b[33mcdo    ifthen (Warning): \u001b[0mVariable land has a missing value of 0, this can lead to incorrect results with this operator!\n",
      "\u001b[32mcdo(2) remapbil: \u001b[0mProcessed 48758160 values from 1 variable over 365 timesteps\n",
      "\u001b[32mcdo(1) fillmiss: \u001b[0mProcessed 114881195 values from 1 variable over 365 timesteps\n",
      "\u001b[32mcdo    ifthen: \u001b[0mProcessed 115195938 values from 2 variables over 366 timesteps [54.34s 120MB]\n",
      "\u001b[32mcdo(1) fillmiss: \u001b[0mProcess started\n",
      "\u001b[32mcdo(2) remapbil: \u001b[0mProcess started\n",
      "\u001b[32mcdo    ifthen: \u001b[0mFilling up stream1 >../../subset/idn_subset_chirps.nc< by copying the first timestep.\n",
      "\u001b[32mcdo(2) remapbil: \u001b[0mBilinear weights from lonlat (552x242) to lonlat (923x341) grid, with source mask (24223)\n",
      "cdo(2) remapbil:                        1 1 1 1 1 1 1 1 1 1 2 2 2 2 2 2 2 2 2 2 3 3 3 3 3 3 3 3 3 3 4 4 4 4 4 4 4 4 4 4 5 5 5 5 5 5 5 5 5 5 6 6 6 6 6 6 6 6 6 6 7 7 7 7 7 7 7 7 7 7 8 8 8 8 8 8 8 8 8 8 9 9 9 9 9 9 9 9 9 91\u001b[33mcdo    ifthen (Warning): \u001b[0mVariable land has a missing value of 0, this can lead to incorrect results with this operator!\n",
      "\u001b[32mcdo(2) remapbil: \u001b[0mProcessed 48758160 values from 1 variable over 365 timesteps\n",
      "\u001b[32mcdo(1) fillmiss: \u001b[0mProcessed 114881195 values from 1 variable over 365 timesteps\n",
      "\u001b[32mcdo    ifthen: \u001b[0mProcessed 115195938 values from 2 variables over 366 timesteps [52.73s 141MB]\n",
      "\u001b[32mcdo(1) fillmiss: \u001b[0mProcess started\n",
      "\u001b[32mcdo(2) remapbil: \u001b[0mProcess started\n",
      "\u001b[32mcdo    ifthen: \u001b[0mFilling up stream1 >../../subset/idn_subset_chirps.nc< by copying the first timestep.\n",
      "\u001b[32mcdo(2) remapbil: \u001b[0mBilinear weights from lonlat (552x242) to lonlat (923x341) grid, with source mask (24223)\n",
      "cdo(2) remapbil:                        1 1 1 1 1 1 1 1 1 1 2 2 2 2 2 2 2 2 2 2 3 3 3 3 3 3 3 3 3 3 4 4 4 4 4 4 4 4 4 4 5 5 5 5 5 5 5 5 5 5 6 6 6 6 6 6 6 6 6 6 7 7 7 7 7 7 7 7 7 7 8 8 8 8 8 8 8 8 8 8 9 9 9 9 9 9 9 9 9 91\u001b[33mcdo    ifthen (Warning): \u001b[0mVariable land has a missing value of 0, this can lead to incorrect results with this operator!\n",
      "\u001b[32mcdo(2) remapbil: \u001b[0mProcessed 48758160 values from 1 variable over 365 timesteps\n",
      "\u001b[32mcdo(1) fillmiss: \u001b[0mProcessed 114881195 values from 1 variable over 365 timesteps\n",
      "\u001b[32mcdo    ifthen: \u001b[0mProcessed 115195938 values from 2 variables over 366 timesteps [54.54s 142MB]\n",
      "\u001b[32mcdo(1) fillmiss: \u001b[0mProcess started\n",
      "\u001b[32mcdo(2) remapbil: \u001b[0mProcess started\n",
      "\u001b[32mcdo    ifthen: \u001b[0mFilling up stream1 >../../subset/idn_subset_chirps.nc< by copying the first timestep.\n",
      "\u001b[32mcdo(2) remapbil: \u001b[0mBilinear weights from lonlat (552x242) to lonlat (923x341) grid, with source mask (24223)\n",
      "cdo(2) remapbil:                        1 1 1 1 1 1 1 1 1 1 2 2 2 2 2 2 2 2 2 2 3 3 3 3 3 3 3 3 3 3 4 4 4 4 4 4 4 4 4 4 5 5 5 5 5 5 5 5 5 5 6 6 6 6 6 6 6 6 6 6 7 7 7 7 7 7 7 7 7 7 8 8 8 8 8 8 8 8 8 8 9 9 9 9 9 9 9 9 9 91\u001b[33mcdo    ifthen (Warning): \u001b[0mVariable land has a missing value of 0, this can lead to incorrect results with this operator!\n",
      "\u001b[32mcdo(2) remapbil: \u001b[0mProcessed 48891744 values from 1 variable over 366 timesteps\n",
      "\u001b[32mcdo(1) fillmiss: \u001b[0mProcessed 115195938 values from 1 variable over 366 timesteps\n",
      "\u001b[32mcdo    ifthen: \u001b[0mProcessed 115510681 values from 2 variables over 367 timesteps [54.03s 136MB]\n",
      "\u001b[32mcdo(1) fillmiss: \u001b[0mProcess started\n",
      "\u001b[32mcdo(2) remapbil: \u001b[0mProcess started\n",
      "\u001b[32mcdo    ifthen: \u001b[0mFilling up stream1 >../../subset/idn_subset_chirps.nc< by copying the first timestep.\n",
      "\u001b[32mcdo(2) remapbil: \u001b[0mBilinear weights from lonlat (552x242) to lonlat (923x341) grid, with source mask (24223)\n",
      "cdo(2) remapbil:                        1 1 1 1 1 1 1 1 1 1 2 2 2 2 2 2 2 2 2 2 3 3 3 3 3 3 3 3 3 3 4 4 4 4 4 4 4 4 4 4 5 5 5 5 5 5 5 5 5 5 6 6 6 6 6 6 6 6 6 6 7 7 7 7 7 7 7 7 7 7 8 8 8 8 8 8 8 8 8 8 9 9 9 9 9 9 9 9 9 91\u001b[33mcdo    ifthen (Warning): \u001b[0mVariable land has a missing value of 0, this can lead to incorrect results with this operator!\n",
      "\u001b[32mcdo(2) remapbil: \u001b[0mProcessed 48758160 values from 1 variable over 365 timesteps\n",
      "\u001b[32mcdo(1) fillmiss: \u001b[0mProcessed 114881195 values from 1 variable over 365 timesteps\n",
      "\u001b[32mcdo    ifthen: \u001b[0mProcessed 115195938 values from 2 variables over 366 timesteps [54.86s 141MB]\n",
      "\u001b[32mcdo(1) fillmiss: \u001b[0mProcess started\n",
      "\u001b[32mcdo(2) remapbil: \u001b[0mProcess started\n",
      "\u001b[32mcdo    ifthen: \u001b[0mFilling up stream1 >../../subset/idn_subset_chirps.nc< by copying the first timestep.\n",
      "\u001b[32mcdo(2) remapbil: \u001b[0mBilinear weights from lonlat (552x242) to lonlat (923x341) grid, with source mask (24223)\n",
      "cdo(2) remapbil:                        1 1 1 1 1 1 1 1 1 1 2 2 2 2 2 2 2 2 2 2 3 3 3 3 3 3 3 3 3 3 4 4 4 4 4 4 4 4 4 4 5 5 5 5 5 5 5 5 5 5 6 6 6 6 6 6 6 6 6 6 7 7 7 7 7 7 7 7 7 7 8 8 8 8 8 8 8 8 8 8 9 9 9 9 9 9 9 9 9 91\u001b[33mcdo    ifthen (Warning): \u001b[0mVariable land has a missing value of 0, this can lead to incorrect results with this operator!\n",
      "\u001b[32mcdo(2) remapbil: \u001b[0mBilinear weights from lonlat (552x242) to lonlat (923x341) grid, with source mask (24222)\n",
      "cdo(2) remapbil:                        1 1 1 1 1 1 1 1 1 1 2 2 2 2 2 2 2 2 2 2 3 3 3 3 3 3 3 3 3 3 4 4 4 4 4 4 4 4 4 4 5 5 5 5 5 5 5 5 5 5 6 6 6 6 6 6 6 6 6 6 7 7 7 7 7 7 7 7 7 7 8 8 8 8 8 8 8 8 8 8 9 9 9 9 9 9 9 9 9 91\u001b[32mcdo(2) remapbil: \u001b[0mProcessed 48758160 values from 1 variable over 365 timesteps\n",
      "\u001b[32mcdo(1) fillmiss: \u001b[0mProcessed 114881195 values from 1 variable over 365 timesteps\n",
      "\u001b[32mcdo    ifthen: \u001b[0mProcessed 115195938 values from 2 variables over 366 timesteps [54.96s 159MB]\n"
     ]
    }
   ],
   "source": [
    "!bash -c 'for fl in *.nc4; do cdo -z zip_5 ifthen ../../subset/idn_subset_chirps.nc -fillmiss -remapbil,../../subset/idn_subset_chirps.nc $fl ../03_regrid/$fl; done'\n"
   ]
  },
  {
   "cell_type": "markdown",
   "id": "3c80b642-27c9-4b04-ac19-ce01b03c3a43",
   "metadata": {},
   "source": [
    "If you open one of the data using **Panoply**, you can see the coverage of the data following the bounding box that you have set in the script above.\n",
    "\n",
    "![bbox](./hyd/images/aoi_data.png)"
   ]
  },
  {
   "cell_type": "markdown",
   "id": "56bc4a87-eb90-4436-80bc-366b177d931e",
   "metadata": {},
   "source": [
    "> But if you deal with larger area of interest, please consider to write the intermediate output in a file. Use below script as example.\n",
    "> \n",
    "> In this script:\n",
    "> \n",
    "> * Each input file is remapped (`remapbil`) to match the grid of your subset file.\n",
    "> * The remapped data then has missing values filled (`fillmiss`).\n",
    "> * The `ifthen` operation is applied using the subset mask to remove sea areas.\n",
    "> \n",
    "> This approach ensures that the remapped data and the subset mask are on the same grid before attempting to mask out the sea. The filling > of missing values is done after remapping to maintain consistency with the new grid.\n",
    "> \n",
    "> Don't forget to remove the triple quotes `\"\"\"` at the beginning and end of the script.\n",
    "> "
   ]
  },
  {
   "cell_type": "code",
   "execution_count": null,
   "id": "ad1261d4-6a79-469e-afad-cf86f6510f93",
   "metadata": {},
   "outputs": [],
   "source": [
    "\"\"\"\n",
    "!bash -c 'for fl in *.nc4; do \\\n",
    "    remapped_fl=\"../02_regrid/remapped_$fl\"; \\\n",
    "    final_fl=\"../02_regrid/$fl\"; \\\n",
    "    cdo -z zip_5 remapbil,../subset/idn_subset_chirps.nc $fl $remapped_fl; \\\n",
    "    filled_fl=\"../02_regrid/filled_$fl\"; \\\n",
    "    cdo -z zip_5 fillmiss $remapped_fl $filled_fl; \\\n",
    "    cdo -z zip_5 ifthen ../subset/idn_subset_chirps.nc $filled_fl $fl; \\\n",
    "done; \\\n",
    "rm ../02_regrid/remapped_*.nc4'\n",
    "\"\"\""
   ]
  },
  {
   "cell_type": "markdown",
   "id": "1c3b1b0b-e1fa-491a-bc55-a2db615d833b",
   "metadata": {},
   "source": [
    "## 3. Calculate daily to monthly accumulation and get the total monthly volume "
   ]
  },
  {
   "cell_type": "markdown",
   "id": "0371bfad-dce3-4eb4-95ce-086f603a57de",
   "metadata": {},
   "source": [
    "Navigate to folder `03_regrid`"
   ]
  },
  {
   "cell_type": "code",
   "execution_count": 5,
   "id": "1fe5d381-6183-4e5c-8724-4353c151b4ab",
   "metadata": {},
   "outputs": [
    {
     "name": "stdout",
     "output_type": "stream",
     "text": [
      "/Volumes/Datenspeicherung/Temp/drought/hyd/03_regrid\n"
     ]
    }
   ],
   "source": [
    "%cd ../03_regrid"
   ]
  },
  {
   "cell_type": "markdown",
   "id": "ae55f5bd-e19d-426c-bccd-38aa2e2285fb",
   "metadata": {},
   "source": [
    "To convert an average daily discharge rate (`m³/s`) to a total monthly volume (`m³`), you would indeed sum the daily rates over the month and then multiply by the number of seconds in a day (`86,400 seconds`). This gives you the total cubic meters of water discharged in the month.\n",
    "\n",
    "This script does the following:\n",
    "\n",
    "* `basename_fl` extracts the base name of each file (without the `.nc4` extension).\n",
    "* `monthly_fl` is the path for the monthly sum file with the `monthly_` prefix.\n",
    "* `total_volume_fl` is the path for the final file without the `total_volume_` prefix in the `../03_monthly/` directory.\n",
    "* After processing all files, the script removes intermediate files with the `monthly_` prefix."
   ]
  },
  {
   "cell_type": "code",
   "execution_count": 29,
   "id": "d21ae02a-eca4-4252-8e14-1b23e94daaff",
   "metadata": {
    "scrolled": true
   },
   "outputs": [
    {
     "name": "stdout",
     "output_type": "stream",
     "text": [
      "cdo    monsum:                        1 1 1 1 1 1 1 1 1 1 2 2 2 2 2 2 2 2 2 2 3 3 3 3 3 3 3 3 3 3 4 4 4 4 4 4 4 4 4 4 5 5 5 5 5 5 5 5 5 5 6 6 6 6 6 6 6 6 6 6 7 7 7 7 7 7 7 7 7 7 8 8 8 8 8 8 8 8 8 8 9 9 9 9 9 9 9 9 9 91\u001b[32mcdo    monsum: \u001b[0mProcessed 114881195 values from 1 variable over 365 timesteps [1.94s 74MB]\n",
      "\u001b[32mcdo    mulc: \u001b[0mProcessed 3776916 values from 1 variable over 12 timesteps [0.28s 58MB]\n",
      "cdo    monsum:                        1 1 1 1 1 1 1 1 1 1 2 2 2 2 2 2 2 2 2 2 3 3 3 3 3 3 3 3 3 3 4 4 4 4 4 4 4 4 4 4 5 5 5 5 5 5 5 5 5 5 6 6 6 6 6 6 6 6 6 6 7 7 7 7 7 7 7 7 7 7 8 8 8 8 8 8 8 8 8 8 9 9 9 9 9 9 9 9 9 91\u001b[32mcdo    monsum: \u001b[0mProcessed 114881195 values from 1 variable over 365 timesteps [1.91s 75MB]\n",
      "\u001b[32mcdo    mulc: \u001b[0mProcessed 3776916 values from 1 variable over 12 timesteps [0.32s 60MB]\n",
      "cdo    monsum:                        1 1 1 1 1 1 1 1 1 1 2 2 2 2 2 2 2 2 2 2 3 3 3 3 3 3 3 3 3 3 4 4 4 4 4 4 4 4 4 4 5 5 5 5 5 5 5 5 5 5 6 6 6 6 6 6 6 6 6 6 7 7 7 7 7 7 7 7 7 7 8 8 8 8 8 8 8 8 8 8 9 9 9 9 9 9 9 9 9 91\u001b[32mcdo    monsum: \u001b[0mProcessed 114881195 values from 1 variable over 365 timesteps [1.98s 74MB]\n",
      "\u001b[32mcdo    mulc: \u001b[0mProcessed 3776916 values from 1 variable over 12 timesteps [0.27s 60MB]\n",
      "cdo    monsum:                        1 1 1 1 1 1 1 1 1 1 2 2 2 2 2 2 2 2 2 2 3 3 3 3 3 3 3 3 3 3 4 4 4 4 4 4 4 4 4 4 5 5 5 5 5 5 5 5 5 5 6 6 6 6 6 6 6 6 6 6 7 7 7 7 7 7 7 7 7 7 8 8 8 8 8 8 8 8 8 8 9 9 9 9 9 9 9 9 9 91\u001b[32mcdo    monsum: \u001b[0mProcessed 115195938 values from 1 variable over 366 timesteps [1.93s 74MB]\n",
      "\u001b[32mcdo    mulc: \u001b[0mProcessed 3776916 values from 1 variable over 12 timesteps [0.27s 58MB]\n",
      "cdo    monsum:                        1 1 1 1 1 1 1 1 1 1 2 2 2 2 2 2 2 2 2 2 3 3 3 3 3 3 3 3 3 3 4 4 4 4 4 4 4 4 4 4 5 5 5 5 5 5 5 5 5 5 6 6 6 6 6 6 6 6 6 6 7 7 7 7 7 7 7 7 7 7 8 8 8 8 8 8 8 8 8 8 9 9 9 9 9 9 9 9 9 91\u001b[32mcdo    monsum: \u001b[0mProcessed 114881195 values from 1 variable over 365 timesteps [1.95s 73MB]\n",
      "\u001b[32mcdo    mulc: \u001b[0mProcessed 3776916 values from 1 variable over 12 timesteps [0.27s 59MB]\n",
      "cdo    monsum:                        1 1 1 1 1 1 1 1 1 1 2 2 2 2 2 2 2 2 2 2 3 3 3 3 3 3 3 3 3 3 4 4 4 4 4 4 4 4 4 4 5 5 5 5 5 5 5 5 5 5 6 6 6 6 6 6 6 6 6 6 7 7 7 7 7 7 7 7 7 7 8 8 8 8 8 8 8 8 8 8 9 9 9 9 9 9 9 9 9 91\u001b[32mcdo    monsum: \u001b[0mProcessed 114881195 values from 1 variable over 365 timesteps [1.98s 73MB]\n",
      "\u001b[32mcdo    mulc: \u001b[0mProcessed 3776916 values from 1 variable over 12 timesteps [0.27s 59MB]\n",
      "cdo    monsum:                        1 1 1 1 1 1 1 1 1 1 2 2 2 2 2 2 2 2 2 2 3 3 3 3 3 3 3 3 3 3 4 4 4 4 4 4 4 4 4 4 5 5 5 5 5 5 5 5 5 5 6 6 6 6 6 6 6 6 6 6 7 7 7 7 7 7 7 7 7 7 8 8 8 8 8 8 8 8 8 8 9 9 9 9 9 9 9 9 9 91\u001b[32mcdo    monsum: \u001b[0mProcessed 114881195 values from 1 variable over 365 timesteps [1.86s 75MB]\n",
      "\u001b[32mcdo    mulc: \u001b[0mProcessed 3776916 values from 1 variable over 12 timesteps [0.27s 60MB]\n",
      "cdo    monsum:                        1 1 1 1 1 1 1 1 1 1 2 2 2 2 2 2 2 2 2 2 3 3 3 3 3 3 3 3 3 3 4 4 4 4 4 4 4 4 4 4 5 5 5 5 5 5 5 5 5 5 6 6 6 6 6 6 6 6 6 6 7 7 7 7 7 7 7 7 7 7 8 8 8 8 8 8 8 8 8 8 9 9 9 9 9 9 9 9 9 91\u001b[32mcdo    monsum: \u001b[0mProcessed 115195938 values from 1 variable over 366 timesteps [1.96s 74MB]\n",
      "\u001b[32mcdo    mulc: \u001b[0mProcessed 3776916 values from 1 variable over 12 timesteps [0.27s 58MB]\n",
      "cdo    monsum:                        1 1 1 1 1 1 1 1 1 1 2 2 2 2 2 2 2 2 2 2 3 3 3 3 3 3 3 3 3 3 4 4 4 4 4 4 4 4 4 4 5 5 5 5 5 5 5 5 5 5 6 6 6 6 6 6 6 6 6 6 7 7 7 7 7 7 7 7 7 7 8 8 8 8 8 8 8 8 8 8 9 9 9 9 9 9 9 9 9 91\u001b[32mcdo    monsum: \u001b[0mProcessed 114881195 values from 1 variable over 365 timesteps [1.95s 73MB]\n",
      "\u001b[32mcdo    mulc: \u001b[0mProcessed 3776916 values from 1 variable over 12 timesteps [0.28s 60MB]\n",
      "cdo    monsum:                        1 1 1 1 1 1 1 1 1 1 2 2 2 2 2 2 2 2 2 2 3 3 3 3 3 3 3 3 3 3 4 4 4 4 4 4 4 4 4 4 5 5 5 5 5 5 5 5 5 5 6 6 6 6 6 6 6 6 6 6 7 7 7 7 7 7 7 7 7 7 8 8 8 8 8 8 8 8 8 8 9 9 9 9 9 9 9 9 9 91\u001b[32mcdo    monsum: \u001b[0mProcessed 114881195 values from 1 variable over 365 timesteps [1.98s 68MB]\n",
      "\u001b[32mcdo    mulc: \u001b[0mProcessed 3776916 values from 1 variable over 12 timesteps [0.27s 60MB]\n",
      "cdo    monsum:                        1 1 1 1 1 1 1 1 1 1 2 2 2 2 2 2 2 2 2 2 3 3 3 3 3 3 3 3 3 3 4 4 4 4 4 4 4 4 4 4 5 5 5 5 5 5 5 5 5 5 6 6 6 6 6 6 6 6 6 6 7 7 7 7 7 7 7 7 7 7 8 8 8 8 8 8 8 8 8 8 9 9 9 9 9 9 9 9 9 91\u001b[32mcdo    monsum: \u001b[0mProcessed 114881195 values from 1 variable over 365 timesteps [1.98s 76MB]\n",
      "\u001b[32mcdo    mulc: \u001b[0mProcessed 3776916 values from 1 variable over 12 timesteps [0.27s 59MB]\n",
      "cdo    monsum:                        1 1 1 1 1 1 1 1 1 1 2 2 2 2 2 2 2 2 2 2 3 3 3 3 3 3 3 3 3 3 4 4 4 4 4 4 4 4 4 4 5 5 5 5 5 5 5 5 5 5 6 6 6 6 6 6 6 6 6 6 7 7 7 7 7 7 7 7 7 7 8 8 8 8 8 8 8 8 8 8 9 9 9 9 9 9 9 9 9 91\u001b[32mcdo    monsum: \u001b[0mProcessed 115195938 values from 1 variable over 366 timesteps [2.03s 75MB]\n",
      "\u001b[32mcdo    mulc: \u001b[0mProcessed 3776916 values from 1 variable over 12 timesteps [0.29s 60MB]\n",
      "cdo    monsum:                        1 1 1 1 1 1 1 1 1 1 2 2 2 2 2 2 2 2 2 2 3 3 3 3 3 3 3 3 3 3 4 4 4 4 4 4 4 4 4 4 5 5 5 5 5 5 5 5 5 5 6 6 6 6 6 6 6 6 6 6 7 7 7 7 7 7 7 7 7 7 8 8 8 8 8 8 8 8 8 8 9 9 9 9 9 9 9 9 9 91\u001b[32mcdo    monsum: \u001b[0mProcessed 114881195 values from 1 variable over 365 timesteps [2.06s 74MB]\n",
      "\u001b[32mcdo    mulc: \u001b[0mProcessed 3776916 values from 1 variable over 12 timesteps [0.28s 58MB]\n",
      "cdo    monsum:                        1 1 1 1 1 1 1 1 1 1 2 2 2 2 2 2 2 2 2 2 3 3 3 3 3 3 3 3 3 3 4 4 4 4 4 4 4 4 4 4 5 5 5 5 5 5 5 5 5 5 6 6 6 6 6 6 6 6 6 6 7 7 7 7 7 7 7 7 7 7 8 8 8 8 8 8 8 8 8 8 9 9 9 9 9 9 9 9 9 91\u001b[32mcdo    monsum: \u001b[0mProcessed 114881195 values from 1 variable over 365 timesteps [1.99s 75MB]\n",
      "\u001b[32mcdo    mulc: \u001b[0mProcessed 3776916 values from 1 variable over 12 timesteps [0.27s 59MB]\n",
      "cdo    monsum:                        1 1 1 1 1 1 1 1 1 1 2 2 2 2 2 2 2 2 2 2 3 3 3 3 3 3 3 3 3 3 4 4 4 4 4 4 4 4 4 4 5 5 5 5 5 5 5 5 5 5 6 6 6 6 6 6 6 6 6 6 7 7 7 7 7 7 7 7 7 7 8 8 8 8 8 8 8 8 8 8 9 9 9 9 9 9 9 9 9 91\u001b[32mcdo    monsum: \u001b[0mProcessed 114881195 values from 1 variable over 365 timesteps [1.96s 70MB]\n",
      "\u001b[32mcdo    mulc: \u001b[0mProcessed 3776916 values from 1 variable over 12 timesteps [0.27s 60MB]\n",
      "cdo    monsum:                        1 1 1 1 1 1 1 1 1 1 2 2 2 2 2 2 2 2 2 2 3 3 3 3 3 3 3 3 3 3 4 4 4 4 4 4 4 4 4 4 5 5 5 5 5 5 5 5 5 5 6 6 6 6 6 6 6 6 6 6 7 7 7 7 7 7 7 7 7 7 8 8 8 8 8 8 8 8 8 8 9 9 9 9 9 9 9 9 9 91\u001b[32mcdo    monsum: \u001b[0mProcessed 115195938 values from 1 variable over 366 timesteps [1.93s 74MB]\n",
      "\u001b[32mcdo    mulc: \u001b[0mProcessed 3776916 values from 1 variable over 12 timesteps [0.27s 59MB]\n",
      "cdo    monsum:                        1 1 1 1 1 1 1 1 1 1 2 2 2 2 2 2 2 2 2 2 3 3 3 3 3 3 3 3 3 3 4 4 4 4 4 4 4 4 4 4 5 5 5 5 5 5 5 5 5 5 6 6 6 6 6 6 6 6 6 6 7 7 7 7 7 7 7 7 7 7 8 8 8 8 8 8 8 8 8 8 9 9 9 9 9 9 9 9 9 91\u001b[32mcdo    monsum: \u001b[0mProcessed 114881195 values from 1 variable over 365 timesteps [1.92s 74MB]\n",
      "\u001b[32mcdo    mulc: \u001b[0mProcessed 3776916 values from 1 variable over 12 timesteps [0.27s 60MB]\n",
      "cdo    monsum:                        1 1 1 1 1 1 1 1 1 1 2 2 2 2 2 2 2 2 2 2 3 3 3 3 3 3 3 3 3 3 4 4 4 4 4 4 4 4 4 4 5 5 5 5 5 5 5 5 5 5 6 6 6 6 6 6 6 6 6 6 7 7 7 7 7 7 7 7 7 7 8 8 8 8 8 8 8 8 8 8 9 9 9 9 9 9 9 9 9 91\u001b[32mcdo    monsum: \u001b[0mProcessed 114881195 values from 1 variable over 365 timesteps [1.89s 66MB]\n",
      "\u001b[32mcdo    mulc: \u001b[0mProcessed 3776916 values from 1 variable over 12 timesteps [0.28s 59MB]\n",
      "cdo    monsum:                        1 1 1 1 1 1 1 1 1 1 2 2 2 2 2 2 2 2 2 2 3 3 3 3 3 3 3 3 3 3 4 4 4 4 4 4 4 4 4 4 5 5 5 5 5 5 5 5 5 5 6 6 6 6 6 6 6 6 6 6 7 7 7 7 7 7 7 7 7 7 8 8 8 8 8 8 8 8 8 8 9 9 9 9 9 9 9 9 9 91\u001b[32mcdo    monsum: \u001b[0mProcessed 114881195 values from 1 variable over 365 timesteps [1.95s 75MB]\n",
      "\u001b[32mcdo    mulc: \u001b[0mProcessed 3776916 values from 1 variable over 12 timesteps [0.27s 59MB]\n",
      "cdo    monsum:                        1 1 1 1 1 1 1 1 1 1 2 2 2 2 2 2 2 2 2 2 3 3 3 3 3 3 3 3 3 3 4 4 4 4 4 4 4 4 4 4 5 5 5 5 5 5 5 5 5 5 6 6 6 6 6 6 6 6 6 6 7 7 7 7 7 7 7 7 7 7 8 8 8 8 8 8 8 8 8 8 9 9 9 9 9 9 9 9 9 91\u001b[32mcdo    monsum: \u001b[0mProcessed 115195938 values from 1 variable over 366 timesteps [1.97s 74MB]\n",
      "\u001b[32mcdo    mulc: \u001b[0mProcessed 3776916 values from 1 variable over 12 timesteps [0.27s 59MB]\n",
      "cdo    monsum:                        1 1 1 1 1 1 1 1 1 1 2 2 2 2 2 2 2 2 2 2 3 3 3 3 3 3 3 3 3 3 4 4 4 4 4 4 4 4 4 4 5 5 5 5 5 5 5 5 5 5 6 6 6 6 6 6 6 6 6 6 7 7 7 7 7 7 7 7 7 7 8 8 8 8 8 8 8 8 8 8 9 9 9 9 9 9 9 9 9 91\u001b[32mcdo    monsum: \u001b[0mProcessed 114881195 values from 1 variable over 365 timesteps [2.01s 74MB]\n",
      "\u001b[32mcdo    mulc: \u001b[0mProcessed 3776916 values from 1 variable over 12 timesteps [0.27s 59MB]\n",
      "cdo    monsum:                        1 1 1 1 1 1 1 1 1 1 2 2 2 2 2 2 2 2 2 2 3 3 3 3 3 3 3 3 3 3 4 4 4 4 4 4 4 4 4 4 5 5 5 5 5 5 5 5 5 5 6 6 6 6 6 6 6 6 6 6 7 7 7 7 7 7 7 7 7 7 8 8 8 8 8 8 8 8 8 8 9 9 9 9 9 9 9 9 9 91\u001b[32mcdo    monsum: \u001b[0mProcessed 114881195 values from 1 variable over 365 timesteps [1.93s 74MB]\n",
      "\u001b[32mcdo    mulc: \u001b[0mProcessed 3776916 values from 1 variable over 12 timesteps [0.27s 60MB]\n",
      "cdo    monsum:                        1 1 1 1 1 1 1 1 1 1 2 2 2 2 2 2 2 2 2 2 3 3 3 3 3 3 3 3 3 3 4 4 4 4 4 4 4 4 4 4 5 5 5 5 5 5 5 5 5 5 6 6 6 6 6 6 6 6 6 6 7 7 7 7 7 7 7 7 7 7 8 8 8 8 8 8 8 8 8 8 9 9 9 9 9 9 9 9 9 91\u001b[32mcdo    monsum: \u001b[0mProcessed 114881195 values from 1 variable over 365 timesteps [1.99s 73MB]\n",
      "\u001b[32mcdo    mulc: \u001b[0mProcessed 3776916 values from 1 variable over 12 timesteps [0.27s 60MB]\n",
      "cdo    monsum:                        1 1 1 1 1 1 1 1 1 1 2 2 2 2 2 2 2 2 2 2 3 3 3 3 3 3 3 3 3 3 4 4 4 4 4 4 4 4 4 4 5 5 5 5 5 5 5 5 5 5 6 6 6 6 6 6 6 6 6 6 7 7 7 7 7 7 7 7 7 7 8 8 8 8 8 8 8 8 8 8 9 9 9 9 9 9 9 9 9 91\u001b[32mcdo    monsum: \u001b[0mProcessed 115195938 values from 1 variable over 366 timesteps [1.95s 75MB]\n",
      "\u001b[32mcdo    mulc: \u001b[0mProcessed 3776916 values from 1 variable over 12 timesteps [0.27s 59MB]\n",
      "cdo    monsum:                        1 1 1 1 1 1 1 1 1 1 2 2 2 2 2 2 2 2 2 2 3 3 3 3 3 3 3 3 3 3 4 4 4 4 4 4 4 4 4 4 5 5 5 5 5 5 5 5 5 5 6 6 6 6 6 6 6 6 6 6 7 7 7 7 7 7 7 7 7 7 8 8 8 8 8 8 8 8 8 8 9 9 9 9 9 9 9 9 9 91\u001b[32mcdo    monsum: \u001b[0mProcessed 114881195 values from 1 variable over 365 timesteps [1.95s 71MB]\n",
      "\u001b[32mcdo    mulc: \u001b[0mProcessed 3776916 values from 1 variable over 12 timesteps [0.27s 60MB]\n",
      "cdo    monsum:                        1 1 1 1 1 1 1 1 1 1 2 2 2 2 2 2 2 2 2 2 3 3 3 3 3 3 3 3 3 3 4 4 4 4 4 4 4 4 4 4 5 5 5 5 5 5 5 5 5 5 6 6 6 6 6 6 6 6 6 6 7 7 7 7 7 7 7 7 7 7 8 8 8 8 8 8 8 8 8 8 9 9 9 9 9 9 9 9 9 91\u001b[32mcdo    monsum: \u001b[0mProcessed 114881195 values from 1 variable over 365 timesteps [1.98s 75MB]\n",
      "\u001b[32mcdo    mulc: \u001b[0mProcessed 3776916 values from 1 variable over 12 timesteps [0.27s 59MB]\n",
      "cdo    monsum:                        1 1 1 1 1 1 1 1 1 1 2 2 2 2 2 2 2 2 2 2 3 3 3 3 3 3 3 3 3 3 4 4 4 4 4 4 4 4 4 4 5 5 5 5 5 5 5 5 5 5 6 6 6 6 6 6 6 6 6 6 7 7 7 7 7 7 7 7 7 7 8 8 8 8 8 8 8 8 8 8 9 9 9 9 9 9 9 9 9 91\u001b[32mcdo    monsum: \u001b[0mProcessed 114881195 values from 1 variable over 365 timesteps [2.00s 69MB]\n",
      "\u001b[32mcdo    mulc: \u001b[0mProcessed 3776916 values from 1 variable over 12 timesteps [0.28s 60MB]\n",
      "cdo    monsum:                        1 1 1 1 1 1 1 1 1 1 2 2 2 2 2 2 2 2 2 2 3 3 3 3 3 3 3 3 3 3 4 4 4 4 4 4 4 4 4 4 5 5 5 5 5 5 5 5 5 5 6 6 6 6 6 6 6 6 6 6 7 7 7 7 7 7 7 7 7 7 8 8 8 8 8 8 8 8 8 8 9 9 9 9 9 9 9 9 9 91\u001b[32mcdo    monsum: \u001b[0mProcessed 115195938 values from 1 variable over 366 timesteps [1.90s 74MB]\n",
      "\u001b[32mcdo    mulc: \u001b[0mProcessed 3776916 values from 1 variable over 12 timesteps [0.28s 59MB]\n",
      "cdo    monsum:                        1 1 1 1 1 1 1 1 1 1 2 2 2 2 2 2 2 2 2 2 3 3 3 3 3 3 3 3 3 3 4 4 4 4 4 4 4 4 4 4 5 5 5 5 5 5 5 5 5 5 6 6 6 6 6 6 6 6 6 6 7 7 7 7 7 7 7 7 7 7 8 8 8 8 8 8 8 8 8 8 9 9 9 9 9 9 9 9 9 91\u001b[32mcdo    monsum: \u001b[0mProcessed 114881195 values from 1 variable over 365 timesteps [1.90s 74MB]\n",
      "\u001b[32mcdo    mulc: \u001b[0mProcessed 3776916 values from 1 variable over 12 timesteps [0.27s 59MB]\n",
      "cdo    monsum:                        1 1 1 1 1 1 1 1 1 1 2 2 2 2 2 2 2 2 2 2 3 3 3 3 3 3 3 3 3 3 4 4 4 4 4 4 4 4 4 4 5 5 5 5 5 5 5 5 5 5 6 6 6 6 6 6 6 6 6 6 7 7 7 7 7 7 7 7 7 7 8 8 8 8 8 8 8 8 8 8 9 9 9 9 9 9 9 9 9 91\u001b[32mcdo    monsum: \u001b[0mProcessed 114881195 values from 1 variable over 365 timesteps [1.89s 66MB]\n",
      "\u001b[32mcdo    mulc: \u001b[0mProcessed 3776916 values from 1 variable over 12 timesteps [0.27s 59MB]\n",
      "cdo    monsum:                        1 1 1 1 1 1 1 1 1 1 2 2 2 2 2 2 2 2 2 2 3 3 3 3 3 3 3 3 3 3 4 4 4 4 4 4 4 4 4 4 5 5 5 5 5 5 5 5 5 5 6 6 6 6 6 6 6 6 6 6 7 7 7 7 7 7 7 7 7 7 8 8 8 8 8 8 8 8 8 8 9 9 9 9 9 9 9 9 9 91\u001b[32mcdo    monsum: \u001b[0mProcessed 114881195 values from 1 variable over 365 timesteps [1.94s 74MB]\n",
      "\u001b[32mcdo    mulc: \u001b[0mProcessed 3776916 values from 1 variable over 12 timesteps [0.27s 59MB]\n",
      "cdo    monsum:                        1 1 1 1 1 1 1 1 1 1 2 2 2 2 2 2 2 2 2 2 3 3 3 3 3 3 3 3 3 3 4 4 4 4 4 4 4 4 4 4 5 5 5 5 5 5 5 5 5 5 6 6 6 6 6 6 6 6 6 6 7 7 7 7 7 7 7 7 7 7 8 8 8 8 8 8 8 8 8 8 9 9 9 9 9 9 9 9 9 91\u001b[32mcdo    monsum: \u001b[0mProcessed 115195938 values from 1 variable over 366 timesteps [2.00s 75MB]\n",
      "\u001b[32mcdo    mulc: \u001b[0mProcessed 3776916 values from 1 variable over 12 timesteps [0.28s 59MB]\n",
      "cdo    monsum:                        1 1 1 1 1 1 1 1 1 1 2 2 2 2 2 2 2 2 2 2 3 3 3 3 3 3 3 3 3 3 4 4 4 4 4 4 4 4 4 4 5 5 5 5 5 5 5 5 5 5 6 6 6 6 6 6 6 6 6 6 7 7 7 7 7 7 7 7 7 7 8 8 8 8 8 8 8 8 8 8 9 9 9 9 9 9 9 9 9 91\u001b[32mcdo    monsum: \u001b[0mProcessed 114881195 values from 1 variable over 365 timesteps [2.05s 75MB]\n",
      "\u001b[32mcdo    mulc: \u001b[0mProcessed 3776916 values from 1 variable over 12 timesteps [0.27s 58MB]\n",
      "cdo    monsum:                        1 1 1 1 1 1 1 1 1 1 2 2 2 2 2 2 2 2 2 2 3 3 3 3 3 3 3 3 3 3 4 4 4 4 4 4 4 4 4 4 5 5 5 5 5 5 5 5 5 5 6 6 6 6 6 6 6 6 6 6 7 7 7 7 7 7 7 7 7 7 8 8 8 8 8 8 8 8 8 8 9 9 9 9 9 9 9 9 9 91\u001b[32mcdo    monsum: \u001b[0mProcessed 114881195 values from 1 variable over 365 timesteps [1.93s 74MB]\n",
      "\u001b[32mcdo    mulc: \u001b[0mProcessed 3776916 values from 1 variable over 12 timesteps [0.27s 60MB]\n",
      "cdo    monsum:                        1 1 1 1 1 1 1 1 1 1 2 2 2 2 2 2 2 2 2 2 3 3 3 3 3 3 3 3 3 3 4 4 4 4 4 4 4 4 4 4 5 5 5 5 5 5 5 5 5 5 6 6 6 6 6 6 6 6 6 6 7 7 7 7 7 7 7 7 7 7 8 8 8 8 8 8 8 8 8 8 9 9 9 9 9 9 9 9 9 91\u001b[32mcdo    monsum: \u001b[0mProcessed 114881195 values from 1 variable over 365 timesteps [1.94s 75MB]\n",
      "\u001b[32mcdo    mulc: \u001b[0mProcessed 3776916 values from 1 variable over 12 timesteps [0.27s 60MB]\n",
      "cdo    monsum:                        1 1 1 1 1 1 1 1 1 1 2 2 2 2 2 2 2 2 2 2 3 3 3 3 3 3 3 3 3 3 4 4 4 4 4 4 4 4 4 4 5 5 5 5 5 5 5 5 5 5 6 6 6 6 6 6 6 6 6 6 7 7 7 7 7 7 7 7 7 7 8 8 8 8 8 8 8 8 8 8 9 9 9 9 9 9 9 9 9 91\u001b[32mcdo    monsum: \u001b[0mProcessed 115195938 values from 1 variable over 366 timesteps [1.86s 66MB]\n",
      "\u001b[32mcdo    mulc: \u001b[0mProcessed 3776916 values from 1 variable over 12 timesteps [0.27s 59MB]\n",
      "cdo    monsum:                        1 1 1 1 1 1 1 1 1 1 2 2 2 2 2 2 2 2 2 2 3 3 3 3 3 3 3 3 3 3 4 4 4 4 4 4 4 4 4 4 5 5 5 5 5 5 5 5 5 5 6 6 6 6 6 6 6 6 6 6 7 7 7 7 7 7 7 7 7 7 8 8 8 8 8 8 8 8 8 8 9 9 9 9 9 9 9 9 9 91\u001b[32mcdo    monsum: \u001b[0mProcessed 114881195 values from 1 variable over 365 timesteps [1.90s 72MB]\n",
      "\u001b[32mcdo    mulc: \u001b[0mProcessed 3776916 values from 1 variable over 12 timesteps [0.27s 59MB]\n",
      "cdo    monsum:                        1 1 1 1 1 1 1 1 1 1 2 2 2 2 2 2 2 2 2 2 3 3 3 3 3 3 3 3 3 3 4 4 4 4 4 4 4 4 4 4 5 5 5 5 5 5 5 5 5 5 6 6 6 6 6 6 6 6 6 6 7 7 7 7 7 7 7 7 7 7 8 8 8 8 8 8 8 8 8 8 9 9 9 9 9 9 9 9 9 91\u001b[32mcdo    monsum: \u001b[0mProcessed 114881195 values from 1 variable over 365 timesteps [1.93s 75MB]\n",
      "\u001b[32mcdo    mulc: \u001b[0mProcessed 3776916 values from 1 variable over 12 timesteps [0.27s 61MB]\n",
      "cdo    monsum:                        1 1 1 1 1 1 1 1 1 1 2 2 2 2 2 2 2 2 2 2 3 3 3 3 3 3 3 3 3 3 4 4 4 4 4 4 4 4 4 4 5 5 5 5 5 5 5 5 5 5 6 6 6 6 6 6 6 6 6 6 7 7 7 7 7 7 7 7 7 7 8 8 8 8 8 8 8 8 8 8 9 9 9 9 9 9 9 9 9 91\u001b[32mcdo    monsum: \u001b[0mProcessed 114881195 values from 1 variable over 365 timesteps [1.98s 73MB]\n",
      "\u001b[32mcdo    mulc: \u001b[0mProcessed 3776916 values from 1 variable over 12 timesteps [0.27s 60MB]\n",
      "cdo    monsum:                        1 1 1 1 1 1 1 1 1 1 2 2 2 2 2 2 2 2 2 2 3 3 3 3 3 3 3 3 3 3 4 4 4 4 4 4 4 4 4 4 5 5 5 5 5 5 5 5 5 5 6 6 6 6 6 6 6 6 6 6 7 7 7 7 7 7 7 7 7 7 8 8 8 8 8 8 8 8 8 8 9 9 9 9 9 9 9 9 9 91\u001b[32mcdo    monsum: \u001b[0mProcessed 115195938 values from 1 variable over 366 timesteps [1.92s 70MB]\n",
      "\u001b[32mcdo    mulc: \u001b[0mProcessed 3776916 values from 1 variable over 12 timesteps [0.27s 60MB]\n",
      "cdo    monsum:                        1 1 1 1 1 1 1 1 1 1 2 2 2 2 2 2 2 2 2 2 3 3 3 3 3 3 3 3 3 3 4 4 4 4 4 4 4 4 4 4 5 5 5 5 5 5 5 5 5 5 6 6 6 6 6 6 6 6 6 6 7 7 7 7 7 7 7 7 7 7 8 8 8 8 8 8 8 8 8 8 9 9 9 9 9 9 9 9 9 91\u001b[32mcdo    monsum: \u001b[0mProcessed 114881195 values from 1 variable over 365 timesteps [1.94s 72MB]\n",
      "\u001b[32mcdo    mulc: \u001b[0mProcessed 3776916 values from 1 variable over 12 timesteps [0.27s 59MB]\n",
      "cdo    monsum:                        1 1 1 1 1 1 1 1 1 1 2 2 2 2 2 2 2 2 2 2 3 3 3 3 3 3 3 3 3 3 4 4 4 4 4 4 4 4 4 4 5 5 5 5 5 5 5 5 5 5 6 6 6 6 6 6 6 6 6 6 7 7 7 7 7 7 7 7 7 7 8 8 8 8 8 8 8 8 8 8 9 9 9 9 9 9 9 9 9 91\u001b[32mcdo    monsum: \u001b[0mProcessed 114881195 values from 1 variable over 365 timesteps [1.90s 75MB]\n",
      "\u001b[32mcdo    mulc: \u001b[0mProcessed 3776916 values from 1 variable over 12 timesteps [0.27s 60MB]\n"
     ]
    }
   ],
   "source": [
    "!bash -c 'for fl in *.nc4; do \\\n",
    "    basename_fl=$(basename $fl .nc4); \\\n",
    "    monthly_fl=\"../04_monthly/monthly_$basename_fl.nc4\"; \\\n",
    "    total_volume_fl=\"../04_monthly/$basename_fl.nc4\"; \\\n",
    "    cdo -z zip_5 monsum $fl $monthly_fl; \\\n",
    "    seconds_in_day=86400; \\\n",
    "    cdo -z zip_5 mulc,$seconds_in_day $monthly_fl $total_volume_fl; \\\n",
    "done; \\\n",
    "rm ../04_monthly/monthly_*.nc4'\n"
   ]
  },
  {
   "cell_type": "markdown",
   "id": "15d2aa88-57db-468d-b9cc-d584bef208f0",
   "metadata": {},
   "source": [
    "## 4. Combine into single netCDF and revise the metadata"
   ]
  },
  {
   "cell_type": "markdown",
   "id": "273d0236-3e46-4077-a4a0-5cb4eaabe98d",
   "metadata": {},
   "source": [
    "Navigate to folder `04_monthly`"
   ]
  },
  {
   "cell_type": "code",
   "execution_count": 6,
   "id": "73fa7c15-b3b2-4e0f-b958-b5cbc3819ee0",
   "metadata": {},
   "outputs": [
    {
     "name": "stdout",
     "output_type": "stream",
     "text": [
      "/Volumes/Datenspeicherung/Temp/drought/hyd/04_monthly\n"
     ]
    }
   ],
   "source": [
    "%cd ../04_monthly"
   ]
  },
  {
   "cell_type": "markdown",
   "id": "9dd897b7-dc28-4362-9f4f-c88b5d8d23f4",
   "metadata": {},
   "source": [
    "Merge all `*.nc4` in a folder into single netCDF file using `mergetime`"
   ]
  },
  {
   "cell_type": "code",
   "execution_count": 31,
   "id": "ef575ed9-e8d0-4932-be3f-6c9ca36f5385",
   "metadata": {},
   "outputs": [
    {
     "name": "stdout",
     "output_type": "stream",
     "text": [
      "\u001b[32mcdo    mergetime: \u001b[0mProcessed 158630472 values from 42 variables over 504 timesteps [9.72s 99MB]\n"
     ]
    }
   ],
   "source": [
    "!bash -c 'cdo -z zip_5 mergetime idn_*.nc4 ../05_single_nc/idn_cli_era5_riverdischarge_monthly_m3_1981_2022.nc4'"
   ]
  },
  {
   "cell_type": "markdown",
   "id": "d4b1644c-d7d1-4151-835f-9f6a7a1971a9",
   "metadata": {},
   "source": [
    "## 5. Modify the metadata"
   ]
  },
  {
   "cell_type": "markdown",
   "id": "46c4ba71-6dc1-442e-a3ad-c5dd16b383d8",
   "metadata": {},
   "source": [
    "Navigate to folder `05_single_nc`"
   ]
  },
  {
   "cell_type": "code",
   "execution_count": 7,
   "id": "ff9c9b3a-cb01-4ffd-bd3e-905b7143c336",
   "metadata": {},
   "outputs": [
    {
     "name": "stdout",
     "output_type": "stream",
     "text": [
      "/Volumes/Datenspeicherung/Temp/drought/hyd/05_single_nc\n"
     ]
    }
   ],
   "source": [
    "%cd ../05_single_nc"
   ]
  },
  {
   "cell_type": "markdown",
   "id": "c1ea3b8f-fbb3-4571-bfed-7d8c9ccc95b2",
   "metadata": {},
   "source": [
    "We need to modify/add some variables in order to prepared the data for the SSI calculation.\n",
    "\n",
    "To rename the variable, change the `long_name`, and add a `units` attribute to the discharge variable in our NetCDF file, we can use the **NetCDF Operators** ([NCO](https://nco.sourceforge.net/)). \n",
    "\n",
    "The unit `mm` that we would like to add below is just for the sake of simplicity that will allow the script are working when the calculation of SSI are perform."
   ]
  },
  {
   "cell_type": "code",
   "execution_count": 33,
   "id": "771f4f33-4dde-43fb-80e2-577bf04b2ce2",
   "metadata": {},
   "outputs": [],
   "source": [
    "input_file = \"idn_cli_era5_riverdischarge_monthly_m3_1981_2022.nc4\"\n",
    "output_file = f\"../06_metadata_revision/{input_file}\"\n",
    "\n",
    "# Copy the original file to the new directory before making changes\n",
    "!cp $input_file $output_file\n",
    "\n",
    "# Rename the variable 'dis24' to 'discharge'\n",
    "!ncrename -v dis24,discharge $output_file\n",
    "\n",
    "# Update the 'long_name' attribute of the 'discharge' variable\n",
    "!ncatted -a long_name,discharge,m,c,\"Total volume discharge m3 per month\" $output_file\n",
    "\n",
    "# Add or modify the 'units' attribute of the 'discharge' variable to 'mm'\n",
    "!ncatted -a units,discharge,o,c,\"mm\" $output_file\n"
   ]
  },
  {
   "cell_type": "markdown",
   "id": "3c97f3bc-36ee-4984-ae7f-baae8650a65c",
   "metadata": {},
   "source": [
    "Let's check how it goes. Don't forget to navigate to folder `06_metadata_revision`"
   ]
  },
  {
   "cell_type": "code",
   "execution_count": 8,
   "id": "2b9c3a93-021d-4a0f-9bc0-4295cd66df3d",
   "metadata": {
    "scrolled": true
   },
   "outputs": [
    {
     "name": "stdout",
     "output_type": "stream",
     "text": [
      "/Volumes/Datenspeicherung/Temp/drought/hyd/06_metadata_revision\n",
      "netcdf idn_cli_era5_riverdischarge_monthly_m3_1981_2022 {\n",
      "dimensions:\n",
      "\ttime = UNLIMITED ; // (504 currently)\n",
      "\tbnds = 2 ;\n",
      "\tlon = 923 ;\n",
      "\tlat = 341 ;\n",
      "variables:\n",
      "\tdouble time(time) ;\n",
      "\t\ttime:standard_name = \"time\" ;\n",
      "\t\ttime:bounds = \"time_bnds\" ;\n",
      "\t\ttime:units = \"hours since 1981-1-1 00:00:00\" ;\n",
      "\t\ttime:calendar = \"proleptic_gregorian\" ;\n",
      "\t\ttime:axis = \"T\" ;\n",
      "\tdouble time_bnds(time, bnds) ;\n",
      "\tdouble lon(lon) ;\n",
      "\t\tlon:standard_name = \"longitude\" ;\n",
      "\t\tlon:long_name = \"longitude coordinate\" ;\n",
      "\t\tlon:units = \"degrees_east\" ;\n",
      "\t\tlon:axis = \"X\" ;\n",
      "\tdouble lat(lat) ;\n",
      "\t\tlat:standard_name = \"latitude\" ;\n",
      "\t\tlat:long_name = \"latitude coordinate\" ;\n",
      "\t\tlat:units = \"degrees_north\" ;\n",
      "\t\tlat:axis = \"Y\" ;\n",
      "\tfloat discharge(time, lat, lon) ;\n",
      "\t\tdischarge:long_name = \"Total volume discharge m3 per month\" ;\n",
      "\t\tdischarge:param = \"7.0.1\" ;\n",
      "\t\tdischarge:_FillValue = -9.e+33f ;\n",
      "\t\tdischarge:missing_value = -9.e+33f ;\n",
      "\t\tdischarge:cell_methods = \"time: sum\" ;\n",
      "\t\tdischarge:units = \"mm\" ;\n",
      "\n",
      "// global attributes:\n",
      "\t\t:CDI = \"Climate Data Interface version 2.2.1 (https://mpimet.mpg.de/cdi)\" ;\n",
      "\t\t:Conventions = \"CF-1.6\" ;\n",
      "\t\t:institution = \"European Centre for Medium-Range Weather Forecasts\" ;\n",
      "\t\t:frequency = \"mon\" ;\n",
      "\t\t:CDO = \"Climate Data Operators version 2.2.0 (https://mpimet.mpg.de/cdo)\" ;\n",
      "\t\t:NCO = \"netCDF Operators version 5.1.6 (Homepage = http://nco.sf.net, Code = http://github.com/nco/nco)\" ;\n",
      "\t\t:history = \"Thu Nov 30 21:08:49 2023: ncatted -a units,discharge,o,c,mm ../06_metadata_revision/idn_cli_era5_riverdischarge_monthly_m3_1981_2022.nc4\\nThu Nov 30 21:08:49 2023: ncatted -a long_name,discharge,m,c,Total volume discharge m3 per month ../06_metadata_revision/idn_cli_era5_riverdischarge_monthly_m3_1981_2022.nc4\\nThu Nov 30 21:08:48 2023: ncrename -v dis24,discharge ../06_metadata_revision/idn_cli_era5_riverdischarge_monthly_m3_1981_2022.nc4\\nThu Nov 30 20:14:31 2023: cdo -z zip_5 mergetime idn_cli_era5_riverdischarge_1981.nc4 idn_cli_era5_riverdischarge_1982.nc4 idn_cli_era5_riverdischarge_1983.nc4 idn_cli_era5_riverdischarge_1984.nc4 idn_cli_era5_riverdischarge_1985.nc4 idn_cli_era5_riverdischarge_1986.nc4 idn_cli_era5_riverdischarge_1987.nc4 idn_cli_era5_riverdischarge_1988.nc4 idn_cli_era5_riverdischarge_1989.nc4 idn_cli_era5_riverdischarge_1990.nc4 idn_cli_era5_riverdischarge_1991.nc4 idn_cli_era5_riverdischarge_1992.nc4 idn_cli_era5_riverdischarge_1993.nc4 idn_cli_era5_riverdischarge_1994.nc4 idn_cli_era5_riverdischarge_1995.nc4 idn_cli_era5_riverdischarge_1996.nc4 idn_cli_era5_riverdischarge_1997.nc4 idn_cli_era5_riverdischarge_1998.nc4 idn_cli_era5_riverdischarge_1999.nc4 idn_cli_era5_riverdischarge_2000.nc4 idn_cli_era5_riverdischarge_2001.nc4 idn_cli_era5_riverdischarge_2002.nc4 idn_cli_era5_riverdischarge_2003.nc4 idn_cli_era5_riverdischarge_2004.nc4 idn_cli_era5_riverdischarge_2005.nc4 idn_cli_era5_riverdischarge_2006.nc4 idn_cli_era5_riverdischarge_2007.nc4 idn_cli_era5_riverdischarge_2008.nc4 idn_cli_era5_riverdischarge_2009.nc4 idn_cli_era5_riverdischarge_2010.nc4 idn_cli_era5_riverdischarge_2011.nc4 idn_cli_era5_riverdischarge_2012.nc4 idn_cli_era5_riverdischarge_2013.nc4 idn_cli_era5_riverdischarge_2014.nc4 idn_cli_era5_riverdischarge_2015.nc4 idn_cli_era5_riverdischarge_2016.nc4 idn_cli_era5_riverdischarge_2017.nc4 idn_cli_era5_riverdischarge_2018.nc4 idn_cli_era5_riverdischarge_2019.nc4 idn_cli_era5_riverdischarge_2020.nc4 idn_cli_era5_riverdischarge_2021.nc4 idn_cli_era5_riverdischarge_2022.nc4 ../05_single_nc/idn_cli_era5_riverdischarge_monthly_m3_1981_2022.nc4\\nThu Nov 30 20:03:54 2023: cdo -z zip_5 mulc,86400 ../04_monthly/monthly_idn_cli_era5_riverdischarge_1981.nc4 ../04_monthly/idn_cli_era5_riverdischarge_1981.nc4\\nThu Nov 30 20:03:52 2023: cdo -z zip_5 monsum idn_cli_era5_riverdischarge_1981.nc4 ../04_monthly/monthly_idn_cli_era5_riverdischarge_1981.nc4\\nThu Nov 30 19:21:39 2023: cdo -z zip_5 ifthen ../subset/idn_subset_chirps.nc -fillmiss -remapbil,../subset/idn_subset_chirps.nc idn_cli_era5_riverdischarge_1981.nc4 ../03_regrid/idn_cli_era5_riverdischarge_1981.nc4\\nThu Nov 30 15:52:40 2023: cdo -z zip_5 shifttime,-1day idn_cli_era5_riverdischarge_1981.nc4 ../02_shifted/idn_cli_era5_riverdischarge_1981.nc4\\nThu Nov 30 14:02:54 2023: cdo -z zip_5 -f nc4 copy idn_cli_era5_riverdischarge_1981.grib ../01_nc4/idn_cli_era5_riverdischarge_1981.nc4\" ;\n",
      "}\n"
     ]
    }
   ],
   "source": [
    "%cd ../06_metadata_revision\n",
    "\n",
    "!ncdump -h idn_cli_era5_riverdischarge_monthly_m3_1981_2022.nc4"
   ]
  },
  {
   "cell_type": "markdown",
   "id": "f98fed38-d7c5-4636-8db1-f291bbd3db4b",
   "metadata": {},
   "source": [
    "## 6. Standardized Streamflow Index calculation"
   ]
  },
  {
   "cell_type": "markdown",
   "id": "685e26aa-ddd4-4581-add1-a6a2657ccc4b",
   "metadata": {},
   "source": [
    "The SSI calculation using the methodology of normalization associated with SPI as the basis. Let's read some paragraph below related to the python package that we will use to calculate the SSI.\n",
    "\n",
    "The [climate-indices](https://pypi.org/project/climate-indices/) python package enables the user to calculate SPI using any gridded netCDF dataset. However, there are certain requirements for input files that vary based on input type.\n",
    "\n",
    "* Precipitation unit must be written as `millimeters`, `milimeter`, `mm`, `inches`, `inch` or `in`.\n",
    "\n",
    "* Data dimension and order must be written as `lat`, `lon`, `time` (Windows machine required this order) or `time`, `lat`, `lon` (Works tested on Mac/Linux and Linux running on WSL). \n",
    "\n",
    "* If our study area are big, it's better to prepare all the data following this dimension order: `lat`, `lon`, `time` as all the data will force following this order during SPI calculation by NCO module. Let say you only prepare the data as is (leaving the order to `time`,`lat`, `lon`), it also acceptable but it will required lot of memory to use re-ordering the dimension, and usually NCO couldn't handle all the process and failed.\n",
    "\n",
    "Please make sure below points:\n",
    "\n",
    "- [x] You have installed `climate-indices` package to start working on SPI calculation. \n",
    "- [x] Variable name on precipitation `--var_name_precip`, usually terraclimate data use `ppt` as name while other precipitation data like CHIRPS using `precip` and IMERG using `precipitation` as a variable name. To make sure, check using command `ncdump -h file.nc` then adjust it in SPI script if needed. This case we will use `discharge` as the variable name.\n"
   ]
  },
  {
   "cell_type": "markdown",
   "id": "8c5e04d1-8987-42d8-9432-342cf7ffb107",
   "metadata": {},
   "source": [
    "Let's re-order the variables into `lat`,`lon`,`time` using `ncpdq` command"
   ]
  },
  {
   "cell_type": "code",
   "execution_count": 8,
   "id": "7d4a8577-4b79-4f01-902e-3c7fadacb510",
   "metadata": {},
   "outputs": [],
   "source": [
    "!ncpdq -a lat,lon,time idn_cli_era5_riverdischarge_monthly_m3_1981_2022.nc4 input0.nc4"
   ]
  },
  {
   "cell_type": "markdown",
   "id": "ddc20535-19b6-4e4f-ac0f-abf1ca452dd0",
   "metadata": {},
   "source": [
    "Check the header for the result `input0.nc4`"
   ]
  },
  {
   "cell_type": "code",
   "execution_count": 9,
   "id": "10fed628-286b-4990-b619-4de3fa54858d",
   "metadata": {
    "scrolled": true
   },
   "outputs": [
    {
     "name": "stdout",
     "output_type": "stream",
     "text": [
      "netcdf input0 {\n",
      "dimensions:\n",
      "\ttime = 504 ;\n",
      "\tbnds = 2 ;\n",
      "\tlon = 923 ;\n",
      "\tlat = UNLIMITED ; // (341 currently)\n",
      "variables:\n",
      "\tdouble time(time) ;\n",
      "\t\ttime:standard_name = \"time\" ;\n",
      "\t\ttime:bounds = \"time_bnds\" ;\n",
      "\t\ttime:units = \"hours since 1981-1-1 00:00:00\" ;\n",
      "\t\ttime:calendar = \"proleptic_gregorian\" ;\n",
      "\t\ttime:axis = \"T\" ;\n",
      "\tdouble time_bnds(time, bnds) ;\n",
      "\tdouble lon(lon) ;\n",
      "\t\tlon:standard_name = \"longitude\" ;\n",
      "\t\tlon:long_name = \"longitude coordinate\" ;\n",
      "\t\tlon:units = \"degrees_east\" ;\n",
      "\t\tlon:axis = \"X\" ;\n",
      "\tdouble lat(lat) ;\n",
      "\t\tlat:standard_name = \"latitude\" ;\n",
      "\t\tlat:long_name = \"latitude coordinate\" ;\n",
      "\t\tlat:units = \"degrees_north\" ;\n",
      "\t\tlat:axis = \"Y\" ;\n",
      "\tfloat discharge(lat, lon, time) ;\n",
      "\t\tdischarge:long_name = \"Total volume discharge m3 per month\" ;\n",
      "\t\tdischarge:param = \"7.0.1\" ;\n",
      "\t\tdischarge:_FillValue = -9.e+33f ;\n",
      "\t\tdischarge:missing_value = -9.e+33f ;\n",
      "\t\tdischarge:cell_methods = \"time: sum\" ;\n",
      "\t\tdischarge:units = \"mm\" ;\n",
      "\n",
      "// global attributes:\n",
      "\t\t:CDI = \"Climate Data Interface version 2.2.1 (https://mpimet.mpg.de/cdi)\" ;\n",
      "\t\t:Conventions = \"CF-1.6\" ;\n",
      "\t\t:institution = \"European Centre for Medium-Range Weather Forecasts\" ;\n",
      "\t\t:frequency = \"mon\" ;\n",
      "\t\t:CDO = \"Climate Data Operators version 2.2.0 (https://mpimet.mpg.de/cdo)\" ;\n",
      "\t\t:NCO = \"netCDF Operators version 5.1.6 (Homepage = http://nco.sf.net, Code = http://github.com/nco/nco)\" ;\n",
      "\t\t:history = \"Thu Nov 30 22:48:07 2023: ncpdq -a lat,lon,time idn_cli_era5_riverdischarge_monthly_m3_1981_2022.nc4 input0.nc4\\nThu Nov 30 21:08:49 2023: ncatted -a units,discharge,o,c,mm ../06_metadata_revision/idn_cli_era5_riverdischarge_monthly_m3_1981_2022.nc4\\nThu Nov 30 21:08:49 2023: ncatted -a long_name,discharge,m,c,Total volume discharge m3 per month ../06_metadata_revision/idn_cli_era5_riverdischarge_monthly_m3_1981_2022.nc4\\nThu Nov 30 21:08:48 2023: ncrename -v dis24,discharge ../06_metadata_revision/idn_cli_era5_riverdischarge_monthly_m3_1981_2022.nc4\\nThu Nov 30 20:14:31 2023: cdo -z zip_5 mergetime idn_cli_era5_riverdischarge_1981.nc4 idn_cli_era5_riverdischarge_1982.nc4 idn_cli_era5_riverdischarge_1983.nc4 idn_cli_era5_riverdischarge_1984.nc4 idn_cli_era5_riverdischarge_1985.nc4 idn_cli_era5_riverdischarge_1986.nc4 idn_cli_era5_riverdischarge_1987.nc4 idn_cli_era5_riverdischarge_1988.nc4 idn_cli_era5_riverdischarge_1989.nc4 idn_cli_era5_riverdischarge_1990.nc4 idn_cli_era5_riverdischarge_1991.nc4 idn_cli_era5_riverdischarge_1992.nc4 idn_cli_era5_riverdischarge_1993.nc4 idn_cli_era5_riverdischarge_1994.nc4 idn_cli_era5_riverdischarge_1995.nc4 idn_cli_era5_riverdischarge_1996.nc4 idn_cli_era5_riverdischarge_1997.nc4 idn_cli_era5_riverdischarge_1998.nc4 idn_cli_era5_riverdischarge_1999.nc4 idn_cli_era5_riverdischarge_2000.nc4 idn_cli_era5_riverdischarge_2001.nc4 idn_cli_era5_riverdischarge_2002.nc4 idn_cli_era5_riverdischarge_2003.nc4 idn_cli_era5_riverdischarge_2004.nc4 idn_cli_era5_riverdischarge_2005.nc4 idn_cli_era5_riverdischarge_2006.nc4 idn_cli_era5_riverdischarge_2007.nc4 idn_cli_era5_riverdischarge_2008.nc4 idn_cli_era5_riverdischarge_2009.nc4 idn_cli_era5_riverdischarge_2010.nc4 idn_cli_era5_riverdischarge_2011.nc4 idn_cli_era5_riverdischarge_2012.nc4 idn_cli_era5_riverdischarge_2013.nc4 idn_cli_era5_riverdischarge_2014.nc4 idn_cli_era5_riverdischarge_2015.nc4 idn_cli_era5_riverdischarge_2016.nc4 idn_cli_era5_riverdischarge_2017.nc4 idn_cli_era5_riverdischarge_2018.nc4 idn_cli_era5_riverdischarge_2019.nc4 idn_cli_era5_riverdischarge_2020.nc4 idn_cli_era5_riverdischarge_2021.nc4 idn_cli_era5_riverdischarge_2022.nc4 ../05_single_nc/idn_cli_era5_riverdischarge_monthly_m3_1981_2022.nc4\\nThu Nov 30 20:03:54 2023: cdo -z zip_5 mulc,86400 ../04_monthly/monthly_idn_cli_era5_riverdischarge_1981.nc4 ../04_monthly/idn_cli_era5_riverdischarge_1981.nc4\\nThu Nov 30 20:03:52 2023: cdo -z zip_5 monsum idn_cli_era5_riverdischarge_1981.nc4 ../04_monthly/monthly_idn_cli_era5_riverdischarge_1981.nc4\\nThu Nov 30 19:21:39 2023: cdo -z zip_5 ifthen ../subset/idn_subset_chirps.nc -fillmiss -remapbil,../subset/idn_subset_chirps.nc idn_cli_era5_riverdischarge_1981.nc4 ../03_regrid/idn_cli_era5_riverdischarge_1981.nc4\\nThu Nov 30 15:52:40 2023: cdo -z zip_5 shifttime,-1day idn_cli_era5_riverdischarge_1981.nc4 ../02_shifted/idn_cli_era5_riverdischarge_1981.nc4\\nThu Nov 30 14:02:54 2023: cdo -z zip_5 -f nc4 copy idn_cli_era5_riverdischarge_1981.grib ../01_nc4/idn_cli_era5_riverdischarge_1981.nc4\" ;\n",
      "}\n"
     ]
    }
   ],
   "source": [
    "!ncdump -h input0.nc4"
   ]
  },
  {
   "cell_type": "markdown",
   "id": "4f889d10-2473-4487-a3a6-fc7a420046f6",
   "metadata": {},
   "source": [
    "After re-ordering the variables, sometimes user experience `lat` or `lon` dimension becomes `UNLIMITED` which is wrong. The `time` dimension should be the `UNLIMITED` dimension.\n",
    "\n",
    "Fortunately you can do this to fix the `lat` or `lon` dimension who becomes `UNLIMITED` using `ncks` command below:"
   ]
  },
  {
   "cell_type": "code",
   "execution_count": 10,
   "id": "e4ea5c8d-ea7f-4dcb-9ffe-05354103c87b",
   "metadata": {},
   "outputs": [],
   "source": [
    "!ncks --fix_rec_dmn lat input0.nc4 -o outfixed.nc4 ; mv outfixed.nc4 input1.nc4"
   ]
  },
  {
   "cell_type": "markdown",
   "id": "b45cc698-9885-4d13-bdcf-93dbaa41d5fe",
   "metadata": {},
   "source": [
    "And to make `UNLIMITED` the `time` dimension again using `ncks` command below:"
   ]
  },
  {
   "cell_type": "code",
   "execution_count": 11,
   "id": "0da901d5-4e23-42bc-a1a2-dda4c8f75071",
   "metadata": {},
   "outputs": [],
   "source": [
    "!ncks --mk_rec_dmn time input1.nc4 -o outunlim.nc4 ; mv outunlim.nc4 input_ssi.nc4"
   ]
  },
  {
   "cell_type": "markdown",
   "id": "2e9fee6c-f7f9-4a33-9741-6f8ab2a3ac33",
   "metadata": {},
   "source": [
    "Check the header for the result `input_ssi.nc4`"
   ]
  },
  {
   "cell_type": "code",
   "execution_count": 12,
   "id": "099c9f7f-86cb-4ca6-9b50-2957fb16c6d0",
   "metadata": {
    "scrolled": true
   },
   "outputs": [
    {
     "name": "stdout",
     "output_type": "stream",
     "text": [
      "netcdf input_ssi {\n",
      "dimensions:\n",
      "\tlat = 341 ;\n",
      "\tlon = 923 ;\n",
      "\ttime = UNLIMITED ; // (504 currently)\n",
      "\tbnds = 2 ;\n",
      "variables:\n",
      "\tfloat discharge(lat, lon, time) ;\n",
      "\t\tdischarge:long_name = \"Total volume discharge m3 per month\" ;\n",
      "\t\tdischarge:param = \"7.0.1\" ;\n",
      "\t\tdischarge:_FillValue = -9.e+33f ;\n",
      "\t\tdischarge:missing_value = -9.e+33f ;\n",
      "\t\tdischarge:cell_methods = \"time: sum\" ;\n",
      "\t\tdischarge:units = \"mm\" ;\n",
      "\tdouble lat(lat) ;\n",
      "\t\tlat:standard_name = \"latitude\" ;\n",
      "\t\tlat:long_name = \"latitude coordinate\" ;\n",
      "\t\tlat:units = \"degrees_north\" ;\n",
      "\t\tlat:axis = \"Y\" ;\n",
      "\tdouble lon(lon) ;\n",
      "\t\tlon:standard_name = \"longitude\" ;\n",
      "\t\tlon:long_name = \"longitude coordinate\" ;\n",
      "\t\tlon:units = \"degrees_east\" ;\n",
      "\t\tlon:axis = \"X\" ;\n",
      "\tdouble time(time) ;\n",
      "\t\ttime:standard_name = \"time\" ;\n",
      "\t\ttime:bounds = \"time_bnds\" ;\n",
      "\t\ttime:units = \"hours since 1981-1-1 00:00:00\" ;\n",
      "\t\ttime:calendar = \"proleptic_gregorian\" ;\n",
      "\t\ttime:axis = \"T\" ;\n",
      "\tdouble time_bnds(time, bnds) ;\n",
      "\n",
      "// global attributes:\n",
      "\t\t:CDI = \"Climate Data Interface version 2.2.1 (https://mpimet.mpg.de/cdi)\" ;\n",
      "\t\t:Conventions = \"CF-1.6\" ;\n",
      "\t\t:institution = \"European Centre for Medium-Range Weather Forecasts\" ;\n",
      "\t\t:frequency = \"mon\" ;\n",
      "\t\t:CDO = \"Climate Data Operators version 2.2.0 (https://mpimet.mpg.de/cdo)\" ;\n",
      "\t\t:NCO = \"netCDF Operators version 5.1.6 (Homepage = http://nco.sf.net, Code = http://github.com/nco/nco)\" ;\n",
      "\t\t:history = \"Thu Nov 30 22:54:56 2023: ncks --mk_rec_dmn time input1.nc4 -o outunlim.nc4\\nThu Nov 30 22:54:40 2023: ncks --fix_rec_dmn lat input0.nc4 -o outfixed.nc4\\nThu Nov 30 22:48:07 2023: ncpdq -a lat,lon,time idn_cli_era5_riverdischarge_monthly_m3_1981_2022.nc4 input0.nc4\\nThu Nov 30 21:08:49 2023: ncatted -a units,discharge,o,c,mm ../06_metadata_revision/idn_cli_era5_riverdischarge_monthly_m3_1981_2022.nc4\\nThu Nov 30 21:08:49 2023: ncatted -a long_name,discharge,m,c,Total volume discharge m3 per month ../06_metadata_revision/idn_cli_era5_riverdischarge_monthly_m3_1981_2022.nc4\\nThu Nov 30 21:08:48 2023: ncrename -v dis24,discharge ../06_metadata_revision/idn_cli_era5_riverdischarge_monthly_m3_1981_2022.nc4\\nThu Nov 30 20:14:31 2023: cdo -z zip_5 mergetime idn_cli_era5_riverdischarge_1981.nc4 idn_cli_era5_riverdischarge_1982.nc4 idn_cli_era5_riverdischarge_1983.nc4 idn_cli_era5_riverdischarge_1984.nc4 idn_cli_era5_riverdischarge_1985.nc4 idn_cli_era5_riverdischarge_1986.nc4 idn_cli_era5_riverdischarge_1987.nc4 idn_cli_era5_riverdischarge_1988.nc4 idn_cli_era5_riverdischarge_1989.nc4 idn_cli_era5_riverdischarge_1990.nc4 idn_cli_era5_riverdischarge_1991.nc4 idn_cli_era5_riverdischarge_1992.nc4 idn_cli_era5_riverdischarge_1993.nc4 idn_cli_era5_riverdischarge_1994.nc4 idn_cli_era5_riverdischarge_1995.nc4 idn_cli_era5_riverdischarge_1996.nc4 idn_cli_era5_riverdischarge_1997.nc4 idn_cli_era5_riverdischarge_1998.nc4 idn_cli_era5_riverdischarge_1999.nc4 idn_cli_era5_riverdischarge_2000.nc4 idn_cli_era5_riverdischarge_2001.nc4 idn_cli_era5_riverdischarge_2002.nc4 idn_cli_era5_riverdischarge_2003.nc4 idn_cli_era5_riverdischarge_2004.nc4 idn_cli_era5_riverdischarge_2005.nc4 idn_cli_era5_riverdischarge_2006.nc4 idn_cli_era5_riverdischarge_2007.nc4 idn_cli_era5_riverdischarge_2008.nc4 idn_cli_era5_riverdischarge_2009.nc4 idn_cli_era5_riverdischarge_2010.nc4 idn_cli_era5_riverdischarge_2011.nc4 idn_cli_era5_riverdischarge_2012.nc4 idn_cli_era5_riverdischarge_2013.nc4 idn_cli_era5_riverdischarge_2014.nc4 idn_cli_era5_riverdischarge_2015.nc4 idn_cli_era5_riverdischarge_2016.nc4 idn_cli_era5_riverdischarge_2017.nc4 idn_cli_era5_riverdischarge_2018.nc4 idn_cli_era5_riverdischarge_2019.nc4 idn_cli_era5_riverdischarge_2020.nc4 idn_cli_era5_riverdischarge_2021.nc4 idn_cli_era5_riverdischarge_2022.nc4 ../05_single_nc/idn_cli_era5_riverdischarge_monthly_m3_1981_2022.nc4\\nThu Nov 30 20:03:54 2023: cdo -z zip_5 mulc,86400 ../04_monthly/monthly_idn_cli_era5_riverdischarge_1981.nc4 ../04_monthly/idn_cli_era5_riverdischarge_1981.nc4\\nThu Nov 30 20:03:52 2023: cdo -z zip_5 monsum idn_cli_era5_riverdischarge_1981.nc4 ../04_monthly/monthly_idn_cli_era5_riverdischarge_1981.nc4\\nThu Nov 30 19:21:39 2023: cdo -z zip_5 ifthen ../subset/idn_subset_chirps.nc -fillmiss -remapbil,../subset/idn_subset_chirps.nc idn_cli_era5_riverdischarge_1981.nc4 ../03_regrid/idn_cli_era5_riverdischarge_1981.nc4\\nThu Nov 30 15:52:40 2023: cdo -z zip_5 shifttime,-1day idn_cli_era5_riverdischarge_1981.nc4 ../02_shifted/idn_cli_era5_riverdischarge_1981.nc4\\nThu Nov 30 14:02:54 2023: cdo -z zip_5 -f nc4 copy idn_cli_era5_riverdischarge_1981.grib ../01_nc4/idn_cli_era5_riverdischarge_1981.nc4\" ;\n",
      "}\n"
     ]
    }
   ],
   "source": [
    "!ncdump -h input_ssi.nc4"
   ]
  },
  {
   "cell_type": "markdown",
   "id": "b6210360-743e-4ed8-aab9-c8e85d2d5856",
   "metadata": {},
   "source": [
    "**Let's start the calculation!**"
   ]
  },
  {
   "cell_type": "code",
   "execution_count": 18,
   "id": "1a7df68d-5ec7-4f2f-b18a-107aa715b4c8",
   "metadata": {
    "scrolled": true
   },
   "outputs": [
    {
     "name": "stdout",
     "output_type": "stream",
     "text": [
      "2023-11-30  23:30:40 INFO Start time:    2023-11-30 23:30:40.269063\n",
      "2023-11-30  23:30:40 INFO Computing monthly SPI\n",
      "2023-11-30  23:31:05 INFO Computing 1-month SPI (Gamma)\n",
      "2023-11-30  23:31:54 INFO Computing 1-month SPI (Pearson)\n",
      "/opt/anaconda3/envs/wbg/lib/python3.10/site-packages/climate_indices/compute.py:455: RuntimeWarning: divide by zero encountered in divide\n",
      "  alpha = 4.0 / (skew * skew)\n",
      "/opt/anaconda3/envs/wbg/lib/python3.10/site-packages/climate_indices/compute.py:459: RuntimeWarning: invalid value encountered in multiply\n",
      "  return loc - ((alpha * scale * skew) / 2.0)\n",
      "/opt/anaconda3/envs/wbg/lib/python3.10/site-packages/climate_indices/compute.py:455: RuntimeWarning: divide by zero encountered in divide\n",
      "  alpha = 4.0 / (skew * skew)\n",
      "/opt/anaconda3/envs/wbg/lib/python3.10/site-packages/climate_indices/compute.py:459: RuntimeWarning: invalid value encountered in multiply\n",
      "  return loc - ((alpha * scale * skew) / 2.0)\n",
      "/opt/anaconda3/envs/wbg/lib/python3.10/site-packages/climate_indices/compute.py:455: RuntimeWarning: divide by zero encountered in divide\n",
      "  alpha = 4.0 / (skew * skew)\n",
      "/opt/anaconda3/envs/wbg/lib/python3.10/site-packages/climate_indices/compute.py:459: RuntimeWarning: invalid value encountered in multiply\n",
      "  return loc - ((alpha * scale * skew) / 2.0)\n",
      "/opt/anaconda3/envs/wbg/lib/python3.10/site-packages/climate_indices/compute.py:455: RuntimeWarning: divide by zero encountered in divide\n",
      "  alpha = 4.0 / (skew * skew)\n",
      "/opt/anaconda3/envs/wbg/lib/python3.10/site-packages/climate_indices/compute.py:459: RuntimeWarning: invalid value encountered in multiply\n",
      "  return loc - ((alpha * scale * skew) / 2.0)\n",
      "/opt/anaconda3/envs/wbg/lib/python3.10/site-packages/climate_indices/compute.py:455: RuntimeWarning: divide by zero encountered in divide\n",
      "  alpha = 4.0 / (skew * skew)\n",
      "/opt/anaconda3/envs/wbg/lib/python3.10/site-packages/climate_indices/compute.py:459: RuntimeWarning: invalid value encountered in multiply\n",
      "  return loc - ((alpha * scale * skew) / 2.0)\n",
      "/opt/anaconda3/envs/wbg/lib/python3.10/site-packages/climate_indices/compute.py:455: RuntimeWarning: divide by zero encountered in divide\n",
      "  alpha = 4.0 / (skew * skew)\n",
      "/opt/anaconda3/envs/wbg/lib/python3.10/site-packages/climate_indices/compute.py:459: RuntimeWarning: invalid value encountered in multiply\n",
      "  return loc - ((alpha * scale * skew) / 2.0)\n",
      "2023-11-30  23:33:15 INFO Computing 2-month SPI (Gamma)\n",
      "2023-11-30  23:33:54 INFO Computing 2-month SPI (Pearson)\n",
      "/opt/anaconda3/envs/wbg/lib/python3.10/site-packages/climate_indices/compute.py:455: RuntimeWarning: divide by zero encountered in divide\n",
      "  alpha = 4.0 / (skew * skew)\n",
      "/opt/anaconda3/envs/wbg/lib/python3.10/site-packages/climate_indices/compute.py:459: RuntimeWarning: invalid value encountered in multiply\n",
      "  return loc - ((alpha * scale * skew) / 2.0)\n",
      "2023-11-30  23:35:08 INFO Computing 3-month SPI (Gamma)\n",
      "2023-11-30  23:35:47 INFO Computing 3-month SPI (Pearson)\n",
      "/opt/anaconda3/envs/wbg/lib/python3.10/site-packages/climate_indices/compute.py:455: RuntimeWarning: divide by zero encountered in divide\n",
      "  alpha = 4.0 / (skew * skew)\n",
      "/opt/anaconda3/envs/wbg/lib/python3.10/site-packages/climate_indices/compute.py:459: RuntimeWarning: invalid value encountered in multiply\n",
      "  return loc - ((alpha * scale * skew) / 2.0)\n",
      "/opt/anaconda3/envs/wbg/lib/python3.10/site-packages/climate_indices/compute.py:455: RuntimeWarning: divide by zero encountered in divide\n",
      "  alpha = 4.0 / (skew * skew)\n",
      "/opt/anaconda3/envs/wbg/lib/python3.10/site-packages/climate_indices/compute.py:459: RuntimeWarning: invalid value encountered in multiply\n",
      "  return loc - ((alpha * scale * skew) / 2.0)\n",
      "/opt/anaconda3/envs/wbg/lib/python3.10/site-packages/climate_indices/compute.py:455: RuntimeWarning: divide by zero encountered in divide\n",
      "  alpha = 4.0 / (skew * skew)\n",
      "/opt/anaconda3/envs/wbg/lib/python3.10/site-packages/climate_indices/compute.py:459: RuntimeWarning: invalid value encountered in multiply\n",
      "  return loc - ((alpha * scale * skew) / 2.0)\n",
      "/opt/anaconda3/envs/wbg/lib/python3.10/site-packages/climate_indices/compute.py:455: RuntimeWarning: divide by zero encountered in divide\n",
      "  alpha = 4.0 / (skew * skew)\n",
      "/opt/anaconda3/envs/wbg/lib/python3.10/site-packages/climate_indices/compute.py:459: RuntimeWarning: invalid value encountered in multiply\n",
      "  return loc - ((alpha * scale * skew) / 2.0)\n",
      "/opt/anaconda3/envs/wbg/lib/python3.10/site-packages/climate_indices/compute.py:455: RuntimeWarning: divide by zero encountered in divide\n",
      "  alpha = 4.0 / (skew * skew)\n",
      "/opt/anaconda3/envs/wbg/lib/python3.10/site-packages/climate_indices/compute.py:459: RuntimeWarning: invalid value encountered in multiply\n",
      "  return loc - ((alpha * scale * skew) / 2.0)\n",
      "2023-11-30  23:37:04 INFO Computing 6-month SPI (Gamma)\n",
      "2023-11-30  23:37:44 INFO Computing 6-month SPI (Pearson)\n",
      "/opt/anaconda3/envs/wbg/lib/python3.10/site-packages/climate_indices/compute.py:455: RuntimeWarning: divide by zero encountered in divide\n",
      "  alpha = 4.0 / (skew * skew)\n",
      "/opt/anaconda3/envs/wbg/lib/python3.10/site-packages/climate_indices/compute.py:459: RuntimeWarning: invalid value encountered in multiply\n",
      "  return loc - ((alpha * scale * skew) / 2.0)\n",
      "/opt/anaconda3/envs/wbg/lib/python3.10/site-packages/climate_indices/compute.py:455: RuntimeWarning: divide by zero encountered in divide\n",
      "  alpha = 4.0 / (skew * skew)\n",
      "/opt/anaconda3/envs/wbg/lib/python3.10/site-packages/climate_indices/compute.py:459: RuntimeWarning: invalid value encountered in multiply\n",
      "  return loc - ((alpha * scale * skew) / 2.0)\n",
      "/opt/anaconda3/envs/wbg/lib/python3.10/site-packages/climate_indices/compute.py:455: RuntimeWarning: divide by zero encountered in divide\n",
      "  alpha = 4.0 / (skew * skew)\n",
      "/opt/anaconda3/envs/wbg/lib/python3.10/site-packages/climate_indices/compute.py:459: RuntimeWarning: invalid value encountered in multiply\n",
      "  return loc - ((alpha * scale * skew) / 2.0)\n",
      "2023-11-30  23:39:01 INFO Computing 9-month SPI (Gamma)\n",
      "2023-11-30  23:39:41 INFO Computing 9-month SPI (Pearson)\n",
      "/opt/anaconda3/envs/wbg/lib/python3.10/site-packages/climate_indices/compute.py:455: RuntimeWarning: divide by zero encountered in divide\n",
      "  alpha = 4.0 / (skew * skew)\n",
      "/opt/anaconda3/envs/wbg/lib/python3.10/site-packages/climate_indices/compute.py:459: RuntimeWarning: invalid value encountered in multiply\n",
      "  return loc - ((alpha * scale * skew) / 2.0)\n",
      "/opt/anaconda3/envs/wbg/lib/python3.10/site-packages/climate_indices/compute.py:455: RuntimeWarning: divide by zero encountered in divide\n",
      "  alpha = 4.0 / (skew * skew)\n",
      "/opt/anaconda3/envs/wbg/lib/python3.10/site-packages/climate_indices/compute.py:459: RuntimeWarning: invalid value encountered in multiply\n",
      "  return loc - ((alpha * scale * skew) / 2.0)\n",
      "/opt/anaconda3/envs/wbg/lib/python3.10/site-packages/climate_indices/compute.py:455: RuntimeWarning: divide by zero encountered in divide\n",
      "  alpha = 4.0 / (skew * skew)\n",
      "/opt/anaconda3/envs/wbg/lib/python3.10/site-packages/climate_indices/compute.py:459: RuntimeWarning: invalid value encountered in multiply\n",
      "  return loc - ((alpha * scale * skew) / 2.0)\n",
      "/opt/anaconda3/envs/wbg/lib/python3.10/site-packages/climate_indices/compute.py:455: RuntimeWarning: divide by zero encountered in divide\n",
      "  alpha = 4.0 / (skew * skew)\n",
      "/opt/anaconda3/envs/wbg/lib/python3.10/site-packages/climate_indices/compute.py:459: RuntimeWarning: invalid value encountered in multiply\n",
      "  return loc - ((alpha * scale * skew) / 2.0)\n",
      "2023-11-30  23:40:56 INFO Computing 12-month SPI (Gamma)\n",
      "2023-11-30  23:41:37 INFO Computing 12-month SPI (Pearson)\n",
      "/opt/anaconda3/envs/wbg/lib/python3.10/site-packages/climate_indices/compute.py:455: RuntimeWarning: divide by zero encountered in divide\n",
      "  alpha = 4.0 / (skew * skew)\n",
      "/opt/anaconda3/envs/wbg/lib/python3.10/site-packages/climate_indices/compute.py:459: RuntimeWarning: invalid value encountered in multiply\n",
      "  return loc - ((alpha * scale * skew) / 2.0)\n",
      "/opt/anaconda3/envs/wbg/lib/python3.10/site-packages/climate_indices/compute.py:455: RuntimeWarning: divide by zero encountered in divide\n",
      "  alpha = 4.0 / (skew * skew)\n",
      "/opt/anaconda3/envs/wbg/lib/python3.10/site-packages/climate_indices/compute.py:459: RuntimeWarning: invalid value encountered in multiply\n",
      "  return loc - ((alpha * scale * skew) / 2.0)\n",
      "/opt/anaconda3/envs/wbg/lib/python3.10/site-packages/climate_indices/compute.py:455: RuntimeWarning: divide by zero encountered in divide\n",
      "  alpha = 4.0 / (skew * skew)\n",
      "/opt/anaconda3/envs/wbg/lib/python3.10/site-packages/climate_indices/compute.py:459: RuntimeWarning: invalid value encountered in multiply\n",
      "  return loc - ((alpha * scale * skew) / 2.0)\n",
      "2023-11-30  23:43:02 INFO Computing 18-month SPI (Gamma)\n",
      "2023-11-30  23:43:43 INFO Computing 18-month SPI (Pearson)\n",
      "/opt/anaconda3/envs/wbg/lib/python3.10/site-packages/climate_indices/compute.py:455: RuntimeWarning: divide by zero encountered in divide\n",
      "  alpha = 4.0 / (skew * skew)\n",
      "/opt/anaconda3/envs/wbg/lib/python3.10/site-packages/climate_indices/compute.py:459: RuntimeWarning: invalid value encountered in multiply\n",
      "  return loc - ((alpha * scale * skew) / 2.0)\n",
      "/opt/anaconda3/envs/wbg/lib/python3.10/site-packages/climate_indices/compute.py:455: RuntimeWarning: divide by zero encountered in divide\n",
      "  alpha = 4.0 / (skew * skew)\n",
      "/opt/anaconda3/envs/wbg/lib/python3.10/site-packages/climate_indices/compute.py:459: RuntimeWarning: invalid value encountered in multiply\n",
      "  return loc - ((alpha * scale * skew) / 2.0)\n",
      "/opt/anaconda3/envs/wbg/lib/python3.10/site-packages/climate_indices/compute.py:455: RuntimeWarning: divide by zero encountered in divide\n",
      "  alpha = 4.0 / (skew * skew)\n",
      "/opt/anaconda3/envs/wbg/lib/python3.10/site-packages/climate_indices/compute.py:459: RuntimeWarning: invalid value encountered in multiply\n",
      "  return loc - ((alpha * scale * skew) / 2.0)\n",
      "2023-11-30  23:45:01 INFO Computing 24-month SPI (Gamma)\n",
      "2023-11-30  23:45:45 INFO Computing 24-month SPI (Pearson)\n",
      "/opt/anaconda3/envs/wbg/lib/python3.10/site-packages/climate_indices/compute.py:455: RuntimeWarning: divide by zero encountered in divide\n",
      "  alpha = 4.0 / (skew * skew)\n",
      "/opt/anaconda3/envs/wbg/lib/python3.10/site-packages/climate_indices/compute.py:459: RuntimeWarning: invalid value encountered in multiply\n",
      "  return loc - ((alpha * scale * skew) / 2.0)\n",
      "/opt/anaconda3/envs/wbg/lib/python3.10/site-packages/climate_indices/compute.py:455: RuntimeWarning: divide by zero encountered in divide\n",
      "  alpha = 4.0 / (skew * skew)\n",
      "/opt/anaconda3/envs/wbg/lib/python3.10/site-packages/climate_indices/compute.py:459: RuntimeWarning: invalid value encountered in multiply\n",
      "  return loc - ((alpha * scale * skew) / 2.0)\n",
      "/opt/anaconda3/envs/wbg/lib/python3.10/site-packages/climate_indices/compute.py:455: RuntimeWarning: divide by zero encountered in divide\n",
      "  alpha = 4.0 / (skew * skew)\n",
      "/opt/anaconda3/envs/wbg/lib/python3.10/site-packages/climate_indices/compute.py:459: RuntimeWarning: invalid value encountered in multiply\n",
      "  return loc - ((alpha * scale * skew) / 2.0)\n",
      "2023-11-30  23:47:03 INFO Computing 36-month SPI (Gamma)\n",
      "2023-11-30  23:47:44 INFO Computing 36-month SPI (Pearson)\n",
      "/opt/anaconda3/envs/wbg/lib/python3.10/site-packages/climate_indices/compute.py:455: RuntimeWarning: divide by zero encountered in divide\n",
      "  alpha = 4.0 / (skew * skew)\n",
      "/opt/anaconda3/envs/wbg/lib/python3.10/site-packages/climate_indices/compute.py:459: RuntimeWarning: invalid value encountered in multiply\n",
      "  return loc - ((alpha * scale * skew) / 2.0)\n",
      "/opt/anaconda3/envs/wbg/lib/python3.10/site-packages/climate_indices/compute.py:455: RuntimeWarning: divide by zero encountered in divide\n",
      "  alpha = 4.0 / (skew * skew)\n",
      "/opt/anaconda3/envs/wbg/lib/python3.10/site-packages/climate_indices/compute.py:459: RuntimeWarning: invalid value encountered in multiply\n",
      "  return loc - ((alpha * scale * skew) / 2.0)\n",
      "/opt/anaconda3/envs/wbg/lib/python3.10/site-packages/climate_indices/compute.py:455: RuntimeWarning: divide by zero encountered in divide\n",
      "  alpha = 4.0 / (skew * skew)\n",
      "/opt/anaconda3/envs/wbg/lib/python3.10/site-packages/climate_indices/compute.py:459: RuntimeWarning: invalid value encountered in multiply\n",
      "  return loc - ((alpha * scale * skew) / 2.0)\n",
      "2023-11-30  23:49:01 INFO Computing 48-month SPI (Gamma)\n",
      "2023-11-30  23:49:43 INFO Computing 48-month SPI (Pearson)\n",
      "/opt/anaconda3/envs/wbg/lib/python3.10/site-packages/climate_indices/compute.py:455: RuntimeWarning: divide by zero encountered in divide\n",
      "  alpha = 4.0 / (skew * skew)\n",
      "/opt/anaconda3/envs/wbg/lib/python3.10/site-packages/climate_indices/compute.py:459: RuntimeWarning: invalid value encountered in multiply\n",
      "  return loc - ((alpha * scale * skew) / 2.0)\n",
      "/opt/anaconda3/envs/wbg/lib/python3.10/site-packages/climate_indices/compute.py:455: RuntimeWarning: divide by zero encountered in divide\n",
      "  alpha = 4.0 / (skew * skew)\n",
      "/opt/anaconda3/envs/wbg/lib/python3.10/site-packages/climate_indices/compute.py:459: RuntimeWarning: invalid value encountered in multiply\n",
      "  return loc - ((alpha * scale * skew) / 2.0)\n",
      "/opt/anaconda3/envs/wbg/lib/python3.10/site-packages/climate_indices/compute.py:455: RuntimeWarning: divide by zero encountered in divide\n",
      "  alpha = 4.0 / (skew * skew)\n",
      "/opt/anaconda3/envs/wbg/lib/python3.10/site-packages/climate_indices/compute.py:459: RuntimeWarning: invalid value encountered in multiply\n",
      "  return loc - ((alpha * scale * skew) / 2.0)\n",
      "/opt/anaconda3/envs/wbg/lib/python3.10/site-packages/climate_indices/compute.py:455: RuntimeWarning: divide by zero encountered in divide\n",
      "  alpha = 4.0 / (skew * skew)\n",
      "/opt/anaconda3/envs/wbg/lib/python3.10/site-packages/climate_indices/compute.py:459: RuntimeWarning: invalid value encountered in multiply\n",
      "  return loc - ((alpha * scale * skew) / 2.0)\n",
      "/opt/anaconda3/envs/wbg/lib/python3.10/site-packages/climate_indices/compute.py:455: RuntimeWarning: divide by zero encountered in divide\n",
      "  alpha = 4.0 / (skew * skew)\n",
      "/opt/anaconda3/envs/wbg/lib/python3.10/site-packages/climate_indices/compute.py:459: RuntimeWarning: invalid value encountered in multiply\n",
      "  return loc - ((alpha * scale * skew) / 2.0)\n",
      "2023-11-30  23:51:04 INFO Computing 60-month SPI (Gamma)\n",
      "2023-11-30  23:51:43 INFO Computing 60-month SPI (Pearson)\n",
      "/opt/anaconda3/envs/wbg/lib/python3.10/site-packages/climate_indices/compute.py:455: RuntimeWarning: divide by zero encountered in divide\n",
      "  alpha = 4.0 / (skew * skew)\n",
      "/opt/anaconda3/envs/wbg/lib/python3.10/site-packages/climate_indices/compute.py:459: RuntimeWarning: invalid value encountered in multiply\n",
      "  return loc - ((alpha * scale * skew) / 2.0)\n",
      "/opt/anaconda3/envs/wbg/lib/python3.10/site-packages/climate_indices/compute.py:455: RuntimeWarning: divide by zero encountered in divide\n",
      "  alpha = 4.0 / (skew * skew)\n",
      "/opt/anaconda3/envs/wbg/lib/python3.10/site-packages/climate_indices/compute.py:459: RuntimeWarning: invalid value encountered in multiply\n",
      "  return loc - ((alpha * scale * skew) / 2.0)\n",
      "2023-11-30  23:53:00 INFO Computing 72-month SPI (Gamma)\n",
      "2023-11-30  23:53:38 INFO Computing 72-month SPI (Pearson)\n",
      "/opt/anaconda3/envs/wbg/lib/python3.10/site-packages/climate_indices/compute.py:455: RuntimeWarning: divide by zero encountered in divide\n",
      "  alpha = 4.0 / (skew * skew)\n",
      "/opt/anaconda3/envs/wbg/lib/python3.10/site-packages/climate_indices/compute.py:459: RuntimeWarning: invalid value encountered in multiply\n",
      "  return loc - ((alpha * scale * skew) / 2.0)\n",
      "/opt/anaconda3/envs/wbg/lib/python3.10/site-packages/climate_indices/compute.py:455: RuntimeWarning: divide by zero encountered in divide\n",
      "  alpha = 4.0 / (skew * skew)\n",
      "/opt/anaconda3/envs/wbg/lib/python3.10/site-packages/climate_indices/compute.py:459: RuntimeWarning: invalid value encountered in multiply\n",
      "  return loc - ((alpha * scale * skew) / 2.0)\n",
      "/opt/anaconda3/envs/wbg/lib/python3.10/site-packages/climate_indices/compute.py:455: RuntimeWarning: divide by zero encountered in divide\n",
      "  alpha = 4.0 / (skew * skew)\n",
      "/opt/anaconda3/envs/wbg/lib/python3.10/site-packages/climate_indices/compute.py:459: RuntimeWarning: invalid value encountered in multiply\n",
      "  return loc - ((alpha * scale * skew) / 2.0)\n",
      "/opt/anaconda3/envs/wbg/lib/python3.10/site-packages/climate_indices/compute.py:455: RuntimeWarning: divide by zero encountered in divide\n",
      "  alpha = 4.0 / (skew * skew)\n",
      "/opt/anaconda3/envs/wbg/lib/python3.10/site-packages/climate_indices/compute.py:459: RuntimeWarning: invalid value encountered in multiply\n",
      "  return loc - ((alpha * scale * skew) / 2.0)\n",
      "/opt/anaconda3/envs/wbg/lib/python3.10/site-packages/climate_indices/compute.py:455: RuntimeWarning: divide by zero encountered in divide\n",
      "  alpha = 4.0 / (skew * skew)\n",
      "/opt/anaconda3/envs/wbg/lib/python3.10/site-packages/climate_indices/compute.py:459: RuntimeWarning: invalid value encountered in multiply\n",
      "  return loc - ((alpha * scale * skew) / 2.0)\n",
      "/opt/anaconda3/envs/wbg/lib/python3.10/site-packages/climate_indices/compute.py:455: RuntimeWarning: divide by zero encountered in divide\n",
      "  alpha = 4.0 / (skew * skew)\n",
      "/opt/anaconda3/envs/wbg/lib/python3.10/site-packages/climate_indices/compute.py:459: RuntimeWarning: invalid value encountered in multiply\n",
      "  return loc - ((alpha * scale * skew) / 2.0)\n",
      "2023-11-30  23:54:51 INFO End time:      2023-11-30 23:54:51.912093\n",
      "2023-11-30  23:54:51 INFO Elapsed time:  0:24:11.643030\n"
     ]
    }
   ],
   "source": [
    "!spi --periodicity monthly --scales 1 2 3 6 9 12 18 24 36 48 60 72 --calibration_start_year 1991 --calibration_end_year 2020 --netcdf_precip input_ssi.nc4 --var_name_precip discharge --output_file_base ../07_ssi_intermediate/idn_cli --multiprocessing all"
   ]
  },
  {
   "cell_type": "markdown",
   "id": "6ad70c23-aa4e-41ea-bb08-d73fe49c5a83",
   "metadata": {},
   "source": [
    "We will use the gamma version, lets remove the pearson file. Don't forget to navigate to `07_ssi_intermediate`"
   ]
  },
  {
   "cell_type": "code",
   "execution_count": 9,
   "id": "e6c850bb-f844-43c3-8e06-c2ecfb7e5e43",
   "metadata": {},
   "outputs": [
    {
     "name": "stdout",
     "output_type": "stream",
     "text": [
      "/Volumes/Datenspeicherung/Temp/drought/hyd/07_ssi_intermediate\n",
      "rm: idn_cli_spi_pearson_*.nc: No such file or directory\n"
     ]
    }
   ],
   "source": [
    "%cd ../07_ssi_intermediate\n",
    "\n",
    "!bash -c 'rm idn_cli_spi_pearson_*.nc'"
   ]
  },
  {
   "cell_type": "markdown",
   "id": "384bdbde-fb3e-4087-87f5-4b543a60c5c8",
   "metadata": {},
   "source": [
    "Now lets try to do small editing on the metadata, so the file will reflected to SSI, instead of SPI.\n"
   ]
  },
  {
   "cell_type": "markdown",
   "id": "4ab7d17a-61a8-4bf9-8598-2fcd6d46da36",
   "metadata": {},
   "source": [
    "This script below does the following:\n",
    "\n",
    "* Loops through each `.nc` file in the specified pattern.\n",
    "* Extracts the `xx` part of the filename using `awk`.\n",
    "* Checks if the variable `spi_gamma_${xx}_month` exists before attempting to rename it.\n",
    "* Renames the variable if it exists.\n",
    "* Modifies the `long_name` attribute of the renamed variable to \"Standardized Streamflow Index (Gamma), xx-month\".\n",
    "* Updates the global description attribute, replacing the SPI-related text with the corresponding SSI text.\n",
    "* Construct the new filename by replacing \"spi_gamma\" with \"ssi_gamma\" in the current filename.\n"
   ]
  },
  {
   "cell_type": "code",
   "execution_count": 44,
   "id": "996c4b83-e529-47b3-ab66-bb4f395231e8",
   "metadata": {},
   "outputs": [],
   "source": [
    "!bash -c 'for file in idn_cli_spi_gamma_*_month.nc; do \\\n",
    "    xx=$(echo \"$file\" | awk -F\"_\" \"{print \\$(NF-1)}\"); \\\n",
    "    if ncdump -h \"$file\" | grep -q \"spi_gamma_${xx}_month\"; then \\\n",
    "        ncrename -v spi_gamma_${xx}_month,ssi_gamma_${xx}_month \"$file\"; \\\n",
    "        ncatted -a long_name,ssi_gamma_${xx}_month,m,c,\"Standardized Streamflow Index (Gamma), ${xx}-month\" \"$file\"; \\\n",
    "    fi; \\\n",
    "    if grep -q \"SPI for ${xx}-month scale computed from monthly precipitation input\" \"$file\"; then \\\n",
    "        ncatted -a description,global,o,c,\"The Standardized Streamflow Index (SSI) for ${xx}-month scale computed from monthly river discharge input by the climate_indices package available from https://github.com/monocongo/climate_indices.\" \"$file\"; \\\n",
    "    fi; \\\n",
    "    new_file=$(echo \"$file\" | sed \"s/spi_gamma/ssi_gamma/\"); \\\n",
    "    mv \"$file\" \"$new_file\"; \\\n",
    "done'\n"
   ]
  },
  {
   "cell_type": "markdown",
   "id": "31397339-c2af-4218-be4a-bd14048a7c6a",
   "metadata": {},
   "source": [
    "Next, we need to re-rder the dimension back to `time`,`lat`,`lon` in order to follow the [CF Convention](https://cfconventions.org/conventions.html) and also for further processing using CDO, and CDO required the variable should be in `time`,`lat`,`lon`, while the output from SPI in `lat`,`lon`,`time`."
   ]
  },
  {
   "cell_type": "markdown",
   "id": "513bbe8c-b4a1-47ea-a4f6-358ebde6043a",
   "metadata": {},
   "source": [
    "Let's re-order the variables into `time`,`lat`,`lon` using `ncpdq` command from NCO and save the result to folder `08_ssi`"
   ]
  },
  {
   "cell_type": "code",
   "execution_count": 45,
   "id": "5843a8b3-6c4e-41c6-bb85-07a2245329d2",
   "metadata": {},
   "outputs": [],
   "source": [
    "!bash -c 'for fl in *.nc; do ncpdq -a time,lat,lon $fl ../08_ssi/$fl; done'"
   ]
  },
  {
   "cell_type": "markdown",
   "id": "ee7c6bbe-11c5-43fd-8029-742f44dba40b",
   "metadata": {},
   "source": [
    "Navigate to folder `08_ssi`"
   ]
  },
  {
   "cell_type": "code",
   "execution_count": 10,
   "id": "c510de7b-56be-4f03-a290-359f3678bbea",
   "metadata": {},
   "outputs": [
    {
     "name": "stdout",
     "output_type": "stream",
     "text": [
      "/Volumes/Datenspeicherung/Temp/drought/hyd/08_ssi\n"
     ]
    }
   ],
   "source": [
    "%cd ../08_ssi"
   ]
  },
  {
   "cell_type": "markdown",
   "id": "601d888a-d2d9-48b8-995f-b6cfeaaac5ab",
   "metadata": {},
   "source": [
    "Check the header for the result one of the output file `idn_cli_ssi_gamma_12_month`"
   ]
  },
  {
   "cell_type": "code",
   "execution_count": 47,
   "id": "78df2a06-b48e-4ff4-a045-97dc8b113c64",
   "metadata": {
    "scrolled": true
   },
   "outputs": [
    {
     "name": "stdout",
     "output_type": "stream",
     "text": [
      "netcdf idn_cli_ssi_gamma_12_month {\n",
      "dimensions:\n",
      "\tlat = 341 ;\n",
      "\tlon = 923 ;\n",
      "\ttime = 504 ;\n",
      "variables:\n",
      "\tdouble lat(lat) ;\n",
      "\t\tlat:_FillValue = NaN ;\n",
      "\t\tlat:standard_name = \"latitude\" ;\n",
      "\t\tlat:long_name = \"latitude coordinate\" ;\n",
      "\t\tlat:units = \"degrees_north\" ;\n",
      "\t\tlat:axis = \"Y\" ;\n",
      "\tdouble lon(lon) ;\n",
      "\t\tlon:_FillValue = NaN ;\n",
      "\t\tlon:standard_name = \"longitude\" ;\n",
      "\t\tlon:long_name = \"longitude coordinate\" ;\n",
      "\t\tlon:units = \"degrees_east\" ;\n",
      "\t\tlon:axis = \"X\" ;\n",
      "\tdouble time(time) ;\n",
      "\t\ttime:_FillValue = NaN ;\n",
      "\t\ttime:standard_name = \"time\" ;\n",
      "\t\ttime:bounds = \"time_bnds\" ;\n",
      "\t\ttime:axis = \"T\" ;\n",
      "\t\ttime:units = \"hours since 1981-01-01\" ;\n",
      "\t\ttime:calendar = \"proleptic_gregorian\" ;\n",
      "\tdouble ssi_gamma_12_month(time, lat, lon) ;\n",
      "\t\tssi_gamma_12_month:_FillValue = NaN ;\n",
      "\t\tssi_gamma_12_month:valid_min = -3.09 ;\n",
      "\t\tssi_gamma_12_month:valid_max = 3.09 ;\n",
      "\t\tssi_gamma_12_month:long_name = \"Standardized Streamflow Index (Gamma), 12-month\" ;\n",
      "\n",
      "// global attributes:\n",
      "\t\t:geospatial_lat_min = -11.0750009100884 ;\n",
      "\t\t:geospatial_lat_max = 5.92499934323132 ;\n",
      "\t\t:geospatial_lat_units = \"degrees_north\" ;\n",
      "\t\t:geospatial_lon_min = 94.9250040967017 ;\n",
      "\t\t:geospatial_lon_max = 141.025004783645 ;\n",
      "\t\t:geospatial_lon_units = \"degrees_east\" ;\n",
      "\t\t:NCO = \"netCDF Operators version 5.1.6 (Homepage = http://nco.sf.net, Code = http://github.com/nco/nco)\" ;\n",
      "\t\t:description = \"The Standardized Streamflow Index (SSI) for 12-month scale computed from monthly river discharge input by the climate_indices package available from https://github.com/monocongo/climate_indices.\" ;\n",
      "\t\t:history = \"Fri Dec  1 07:19:32 2023: ncpdq -a time,lat,lon idn_cli_ssi_gamma_12_month.nc ../08_ssi/idn_cli_ssi_gamma_12_month.nc\\nFri Dec  1 07:13:46 2023: ncatted -a description,global,o,c,The Standardized Streamflow Index (SSI) for 12-month scale computed from monthly river discharge input by the climate_indices package available from https://github.com/monocongo/climate_indices. idn_cli_spi_gamma_12_month.nc\\nFri Dec  1 07:13:25 2023: ncatted -a long_name,ssi_gamma_12_month,m,c,Standardized Streamflow Index (Gamma), 12-month idn_cli_spi_gamma_12_month.nc\\nFri Dec  1 07:13:24 2023: ncrename -v spi_gamma_12_month,ssi_gamma_12_month idn_cli_spi_gamma_12_month.nc\" ;\n",
      "}\n"
     ]
    }
   ],
   "source": [
    "!ncdump -h idn_cli_ssi_gamma_12_month.nc"
   ]
  },
  {
   "cell_type": "markdown",
   "id": "8580597f-f4e2-4b43-a540-f6917d576579",
   "metadata": {},
   "source": [
    "Seems everything is correct from above result, congrats now we have the SSI data."
   ]
  },
  {
   "cell_type": "markdown",
   "id": "0d646fbc-22c5-4c24-91cc-f7a7c271b698",
   "metadata": {},
   "source": [
    "## 7. Visualising the SSI"
   ]
  },
  {
   "cell_type": "markdown",
   "id": "741ad90d-7dca-4a54-ada4-2ae1adbb2729",
   "metadata": {},
   "source": [
    "To see the result, let's visualise it for the year 2022."
   ]
  },
  {
   "cell_type": "code",
   "execution_count": 48,
   "id": "f3b872bf-e389-4540-9f5f-52914364a464",
   "metadata": {},
   "outputs": [
    {
     "data": {
      "image/png": "[encoded data removed]",
      "text/plain": [
       "<Figure size 2000x1000 with 13 Axes>"
      ]
     },
     "metadata": {},
     "output_type": "display_data"
    }
   ],
   "source": [
    "import xarray as xr\n",
    "import matplotlib.pyplot as plt\n",
    "import matplotlib.colors as colors\n",
    "import numpy as np\n",
    "import pandas as pd\n",
    "\n",
    "# Load the dataset\n",
    "ds = xr.open_dataset(\"idn_cli_ssi_gamma_12_month.nc\")\n",
    "\n",
    "# Select data from Jan - Dec 2022\n",
    "start_date = \"2022-01-01\"\n",
    "end_date = \"2022-12-31\"\n",
    "data_2022 = ds[\"ssi_gamma_12_month\"].sel(time=slice(start_date, end_date))\n",
    "\n",
    "# Plotting\n",
    "fig, axes = plt.subplots(nrows=4, ncols=3, figsize=(20, 10))\n",
    "fig.suptitle('Standardized Streamflow Index (Gamma), 12-month, 2022', fontsize=16, y=0.98)\n",
    "\n",
    "# Custom discrete color map\n",
    "cmap = plt.get_cmap('RdBu', 7)  # 7 discrete colors\n",
    "bounds = [-3, -2, -1, 0, 1, 2, 3]\n",
    "norm = colors.BoundaryNorm(bounds, cmap.N)\n",
    "\n",
    "for i, ax in enumerate(axes.flat):\n",
    "    # Plot if the data for the month exists\n",
    "    if i < len(data_2022.time):\n",
    "        data = data_2022.isel(time=i)\n",
    "        pcm = ax.pcolormesh(data.lon, data.lat, data, cmap=cmap, norm=norm)\n",
    "        \n",
    "        # Set title with the corresponding month\n",
    "        time_val = pd.to_datetime(str(data.time.values))\n",
    "        ax.set_title(time_val.strftime('%B'))\n",
    "\n",
    "        # Set labels\n",
    "        ax.set_xlabel('Longitude')\n",
    "        ax.set_ylabel('Latitude')\n",
    "\n",
    "# Adjust vertical spacing\n",
    "plt.subplots_adjust(hspace=0.5)  # Adjust this value as needed for vertical spacing\n",
    "fig.colorbar(pcm, ax=axes.ravel().tolist(), shrink=0.7, ticks=np.arange(-3, 4), extend='both')\n",
    "\n",
    "# Save the map as a PNG\n",
    "plt.savefig('../images/idn_cli_era5_ssi12_2022.png', dpi=300)\n",
    "plt.show()\n"
   ]
  },
  {
   "cell_type": "markdown",
   "id": "2b14d899-7f02-4c11-a7bc-03e272c584fb",
   "metadata": {},
   "source": [
    "End of notebook."
   ]
  }
 ],
 "metadata": {
  "kernelspec": {
   "display_name": "Python 3 (ipykernel)",
   "language": "python",
   "name": "python3"
  },
  "language_info": {
   "codemirror_mode": {
    "name": "ipython",
    "version": 3
   },
   "file_extension": ".py",
   "mimetype": "text/x-python",
   "name": "python",
   "nbconvert_exporter": "python",
   "pygments_lexer": "ipython3",
   "version": "3.10.12"
  }
 },
 "nbformat": 4,
 "nbformat_minor": 5
}
